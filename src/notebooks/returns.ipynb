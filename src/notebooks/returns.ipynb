{
 "cells": [
  {
   "cell_type": "markdown",
   "metadata": {},
   "source": [
    "# Returns\n",
    "\n",
    "Returns are an easy way of looking at how much profit (or loss) a stock has generated over a certain period of time"
   ]
  },
  {
   "cell_type": "code",
   "execution_count": 2,
   "metadata": {},
   "outputs": [],
   "source": [
    "# import libraries\n",
    "import yfinance as yf\n",
    "import pandas as pd\n",
    "import numpy as np"
   ]
  },
  {
   "cell_type": "markdown",
   "metadata": {},
   "source": [
    "The *net returns* over a certain period can be calculated as:\n",
    "\n",
    "$$\n",
    "    R_t = \\frac{P_t}{P_{t-1}} - 1  =  \\frac{P_t - P_{t-1}}{P_{t-1}}\n",
    "$$\n",
    "\n",
    "where $R_t$ is the net returns, $P_t$ is the price of a stock, at time $t$, and $P_{t-1}$ is the price at the beginning of the period. \n",
    "\n",
    "If we set $t$ to be now, and $t-1$ to be when the initial investment was made, we can easily find the total returns of our holding"
   ]
  },
  {
   "cell_type": "code",
   "execution_count": null,
   "metadata": {},
   "outputs": [],
   "source": []
  }
 ],
 "metadata": {
  "kernelspec": {
   "display_name": "venv",
   "language": "python",
   "name": "python3"
  },
  "language_info": {
   "codemirror_mode": {
    "name": "ipython",
    "version": 3
   },
   "file_extension": ".py",
   "mimetype": "text/x-python",
   "name": "python",
   "nbconvert_exporter": "python",
   "pygments_lexer": "ipython3",
   "version": "3.10.11"
  }
 },
 "nbformat": 4,
 "nbformat_minor": 2
}
