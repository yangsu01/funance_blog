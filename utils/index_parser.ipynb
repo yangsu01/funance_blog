{
 "cells": [
  {
   "cell_type": "code",
   "execution_count": 9,
   "metadata": {},
   "outputs": [],
   "source": [
    "import yfinance as yf\n",
    "import pandas as pd\n",
    "from bs4 import BeautifulSoup"
   ]
  },
  {
   "cell_type": "code",
   "execution_count": 20,
   "metadata": {},
   "outputs": [],
   "source": [
    "# name of the file to parse. saved in raw_data folder\n",
    "FILE_NAME = 'snp500'\n",
    "\n",
    "# parse tickers from html\n",
    "soup = BeautifulSoup(open(f'./raw_data/{FILE_NAME}.html'), 'html.parser')\n",
    "\n",
    "# extract tickers. update accordingly\n",
    "tickers = []\n",
    "rows = soup.find_all('tr')\n",
    "for row in rows:\n",
    "    td = row.find_all('td')\n",
    "    \n",
    "    if len(td) > 2:\n",
    "        tickers.append(td[2].find('a').text)\n",
    "    \n",
    "df = pd.DataFrame(tickers, columns=['ticker'])"
   ]
  },
  {
   "cell_type": "code",
   "execution_count": 21,
   "metadata": {},
   "outputs": [],
   "source": [
    "# add columns\n",
    "columns = ['longName', 'sector', 'industry']\n",
    "for col in columns:\n",
    "    df[col] = None\n",
    "    \n",
    "for ticker in tickers:\n",
    "    data = yf.Ticker(ticker)\n",
    "    info = data.info\n",
    "    for col in columns:\n",
    "        try:\n",
    "            df.loc[df['ticker'] == ticker, col] = info[col]\n",
    "        except:\n",
    "            pass"
   ]
  },
  {
   "cell_type": "code",
   "execution_count": 22,
   "metadata": {},
   "outputs": [],
   "source": [
    "df.to_csv(f'../blogs/data/{FILE_NAME}.csv', index=False)"
   ]
  }
 ],
 "metadata": {
  "kernelspec": {
   "display_name": "venv",
   "language": "python",
   "name": "python3"
  },
  "language_info": {
   "codemirror_mode": {
    "name": "ipython",
    "version": 3
   },
   "file_extension": ".py",
   "mimetype": "text/x-python",
   "name": "python",
   "nbconvert_exporter": "python",
   "pygments_lexer": "ipython3",
   "version": "3.10.11"
  }
 },
 "nbformat": 4,
 "nbformat_minor": 2
}
