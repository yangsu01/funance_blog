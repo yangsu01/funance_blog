{
 "cells": [
  {
   "cell_type": "code",
   "execution_count": 1,
   "metadata": {},
   "outputs": [],
   "source": [
    "import yfinance as yf\n",
    "import pandas as pd"
   ]
  },
  {
   "cell_type": "code",
   "execution_count": 2,
   "metadata": {},
   "outputs": [],
   "source": [
    "def get_info(ticker: str) -> dict:\n",
    "    stock = yf.Ticker(ticker)\n",
    "    info = stock.info\n",
    "    \n",
    "    return {\n",
    "        'stock info': {\n",
    "            'ticker': ticker,\n",
    "            'industry': info.get('industry', 'n/a'),\n",
    "            'sector': info.get('sector', 'n/a'),\n",
    "            'current price': info.get('currentPrice', None),\n",
    "            'analyst low price': info.get('targetLowPrice', None),\n",
    "            'analyst median price': info.get('targetMedianPrice', None),\n",
    "            'analyst high price': info.get('targetHighPrice', None),\n",
    "        },\n",
    "        \n",
    "        'metrics': {\n",
    "            'sector': info.get('sector', 'n/a'),\n",
    "            \n",
    "            # risk metrics\n",
    "            'beta': info.get('beta', 1), # market risk (lower = less risky)\n",
    "            'risk rating': info.get('overallRisk', None), # risk rating out of 10 (lower = better)\n",
    "            \n",
    "            # valuation metrics\n",
    "            'forward P/E': info.get('forwardPE', None), # projected price to earnings (lower = better)\n",
    "            'PEG ratio': info.get('trailingPegRatio', None), # price to earnings adjusted for growth (lower = better, ideally < 1)\n",
    "            'price to book P/B': info.get('priceToBook', None), # price to book ratio (lower = better)\n",
    "            'enterprise to ebitda': info.get('enterpriseToEbitda', None), # enterprise value to ebitda (lower = better)\n",
    "            \n",
    "            # growth metrics\n",
    "            'revenue growth': info.get('revenueGrowth', None), # percent growth in revenue (higher = better)\n",
    "            'earnings growth': info.get('earningsGrowth', None), # percent growth in earnings (higher = better)\n",
    "            \n",
    "            # profitability metrics\n",
    "            'profit margin': info.get('profitMargins', None), # percent of revenue that is profit (higher = better)\n",
    "            'return on equity': info.get('returnOnEquity', None), # percent return on equity (higher = better)\n",
    "            \n",
    "            # financial health metrics\n",
    "            'cash per share': info.get('totalCashPerShare', None), # cash per share (higher = better)\n",
    "            'short ratio': info.get('shortRatio', None), # number of days to cover short positions (lower = better)\n",
    "            \n",
    "            # analyst expectations. take it with a grain of salt\n",
    "            'analyst median growth': round(100*(info.get('targetMedianPrice', 0)/info.get('currentPrice', 1) - 1), 2),\n",
    "            'recommendation mean': info.get('recommendationMean', None), # 1 to 5, with 1 being a strong buy and 5 being a strong sell\n",
    "        }\n",
    "    }"
   ]
  },
  {
   "cell_type": "code",
   "execution_count": 3,
   "metadata": {},
   "outputs": [],
   "source": [
    "def calculate_market_sector_average(tickers: str, sector:str) -> dict:\n",
    "    data = [get_info(ticker) for ticker in tickers]\n",
    "    df = pd.DataFrame([d['metrics'] for d in data])\n",
    "    \n",
    "    average = {}\n",
    "    sector_df = df[df['sector'] == sector].copy()\n",
    "    sector_df.drop(columns='sector', inplace=True)\n",
    "    df.drop(columns='sector', inplace=True)\n",
    "\n",
    "    average['Market'] = df.mean()\n",
    "    average['Sector'] = sector_df.mean()\n",
    "\n",
    "    return pd.DataFrame(average)"
   ]
  },
  {
   "cell_type": "code",
   "execution_count": 4,
   "metadata": {},
   "outputs": [],
   "source": [
    "def compare_stock(ticker: str) -> dict:\n",
    "    # market tickers\n",
    "    snp_tickers = pd.read_csv('../blogs/data/snp500.csv')['ticker'].tolist()\n",
    "    \n",
    "    info = get_info(ticker)\n",
    "    market_info = calculate_market_sector_average(snp_tickers, info[\"stock info\"][\"sector\"])\n",
    "    stock_metrics = info['metrics']\n",
    "    \n",
    "    market_info[ticker] = stock_metrics\n",
    "    market_info['Sector Diff'] = (market_info[ticker] - market_info['Sector']) / market_info['Sector']\n",
    "    market_info['Market Diff'] = (market_info[ticker] - market_info['Market']) / market_info['Market']\n",
    "    market_info = market_info[[ticker, 'Sector', 'Sector Diff', 'Market', 'Market Diff']]\n",
    "    \n",
    "    print(f\"{ticker}\")\n",
    "    print(f'Sector: {info[\"stock info\"][\"sector\"]}')\n",
    "    print(f'current price: {info[\"stock info\"][\"current price\"]}')\n",
    "    print(f'Analyst projections: low {info[\"stock info\"][\"analyst low price\"]}, median {info[\"stock info\"][\"analyst median price\"]}, high {info[\"stock info\"][\"analyst high price\"]}')\n",
    "    print('\\n Risk Metrics (lower less risk):')\n",
    "    print(market_info.loc[['beta', 'risk rating']])\n",
    "    print('\\n Valuation Metrics (lower better):')\n",
    "    print(market_info.loc[['forward P/E', 'PEG ratio', 'price to book P/B', 'enterprise to ebitda']])\n",
    "    print('\\n Growth Metrics (higher better):')\n",
    "    print(market_info.loc[['revenue growth', 'earnings growth']])\n",
    "    print('\\n Profitability Metrics (higher better):')\n",
    "    print(market_info.loc[['profit margin', 'return on equity']])\n",
    "    print('\\n Financial Health Metrics:')\n",
    "    print(market_info.loc[['cash per share', 'short ratio']])\n",
    "    print('\\n Analyst Expectations:')\n",
    "    print(market_info.loc[['analyst median growth', 'recommendation mean']])"
   ]
  },
  {
   "cell_type": "code",
   "execution_count": 5,
   "metadata": {},
   "outputs": [
    {
     "name": "stdout",
     "output_type": "stream",
     "text": [
      "NVDA\n",
      "Sector: Technology\n",
      "current price: 107.27\n",
      "Analyst projections: low 50.3, median 140.0, high 200.0\n",
      "\n",
      " Risk Metrics (lower less risk):\n",
      "             NVDA    Sector Sector Diff    Market Market Diff\n",
      "beta         1.68  1.179603    0.424209  1.056173    0.590648\n",
      "risk rating     8  5.166667    0.548387  5.522088    0.448727\n",
      "\n",
      " Valuation Metrics (lower better):\n",
      "                           NVDA     Sector Sector Diff     Market Market Diff\n",
      "forward P/E           28.681818  22.817588    0.257005  20.252710    0.416197\n",
      "PEG ratio                1.2185   1.911941    -0.36269   2.791483   -0.563494\n",
      "price to book P/B     53.688686  12.842985     3.18039   8.701044    5.170373\n",
      "enterprise to ebitda     53.143  31.542263    0.684819  19.085962    1.784403\n",
      "\n",
      " Growth Metrics (higher better):\n",
      "                  NVDA    Sector Sector Diff    Market Market Diff\n",
      "revenue growth   2.621  0.111909   22.420796  0.056054   45.758393\n",
      "earnings growth    6.5  1.687729     2.85133  1.202233    4.406607\n",
      "\n",
      " Profitability Metrics (higher better):\n",
      "                     NVDA    Sector Sector Diff    Market Market Diff\n",
      "profit margin     0.53398  0.163716    2.261623  0.135968    2.927242\n",
      "return on equity  1.15658  0.332910    2.474155  0.313596    2.688115\n",
      "\n",
      " Financial Health Metrics:\n",
      "                 NVDA    Sector Sector Diff     Market Market Diff\n",
      "cash per share  1.278  9.998276   -0.872178  24.005726   -0.946763\n",
      "short ratio      0.87  2.872692   -0.697148   3.093194   -0.718737\n",
      "\n",
      " Analyst Expectations:\n",
      "                        NVDA     Sector Sector Diff    Market Market Diff\n",
      "analyst median growth  30.51  20.978462    0.454349  12.88743    1.367423\n",
      "recommendation mean      1.8   2.239744   -0.196337   2.31984   -0.224084\n"
     ]
    }
   ],
   "source": [
    "compare_stock('NVDA')"
   ]
  },
  {
   "cell_type": "code",
   "execution_count": 6,
   "metadata": {},
   "outputs": [
    {
     "name": "stdout",
     "output_type": "stream",
     "text": [
      "CRWD\n",
      "Sector: Technology\n",
      "current price: 217.89\n",
      "Analyst projections: low 253.0, median 350.0, high 540.0\n",
      "\n",
      " Risk Metrics (lower less risk):\n",
      "              CRWD    Sector Sector Diff    Market Market Diff\n",
      "beta         1.095  1.179603   -0.071721  1.056173    0.036762\n",
      "risk rating     10  5.166667    0.935484  5.522088    0.810909\n",
      "\n",
      " Valuation Metrics (lower better):\n",
      "                           CRWD     Sector Sector Diff     Market Market Diff\n",
      "forward P/E           45.018593  22.817588    0.972978  20.252710    1.222843\n",
      "PEG ratio                0.9247   1.911941   -0.516355   2.791483   -0.668742\n",
      "price to book P/B     20.898716  12.842985    0.627248   8.701044    1.401863\n",
      "enterprise to ebitda    345.497  31.542263    9.953463  19.085962   17.102153\n",
      "\n",
      " Growth Metrics (higher better):\n",
      "                   CRWD    Sector Sector Diff    Market Market Diff\n",
      "revenue growth     0.33  0.111909    1.948822  0.056054    4.887169\n",
      "earnings growth  82.333  1.687729   47.783318  1.202233   67.483408\n",
      "\n",
      " Profitability Metrics (higher better):\n",
      "                     CRWD    Sector Sector Diff    Market Market Diff\n",
      "profit margin     0.04009  0.163716   -0.755125  0.135968   -0.705152\n",
      "return on equity  0.06488  0.332910   -0.805112  0.313596    -0.79311\n",
      "\n",
      " Financial Health Metrics:\n",
      "                  CRWD    Sector Sector Diff     Market Market Diff\n",
      "cash per share  15.214  9.998276    0.521662  24.005726   -0.366235\n",
      "short ratio       1.29  2.872692   -0.550944   3.093194   -0.582955\n",
      "\n",
      " Analyst Expectations:\n",
      "                        CRWD     Sector Sector Diff    Market Market Diff\n",
      "analyst median growth  60.63  20.978462    1.890107  12.88743    3.704584\n",
      "recommendation mean      2.0   2.239744   -0.107041   2.31984   -0.137871\n"
     ]
    }
   ],
   "source": [
    "compare_stock('CRWD')"
   ]
  },
  {
   "cell_type": "code",
   "execution_count": 7,
   "metadata": {},
   "outputs": [
    {
     "name": "stdout",
     "output_type": "stream",
     "text": [
      "INTC\n",
      "Sector: Technology\n",
      "current price: 21.48\n",
      "Analyst projections: low 17.0, median 35.0, high 68.0\n",
      "\n",
      " Risk Metrics (lower less risk):\n",
      "              INTC    Sector Sector Diff    Market Market Diff\n",
      "beta         1.047  1.179603   -0.112413  1.056173   -0.008685\n",
      "risk rating      4  5.166667   -0.225806  5.522088   -0.275636\n",
      "\n",
      " Valuation Metrics (lower better):\n",
      "                           INTC     Sector Sector Diff     Market Market Diff\n",
      "forward P/E           11.246074  22.817588   -0.507131  20.252710   -0.444713\n",
      "PEG ratio                 0.391   1.911941   -0.795496   2.791483   -0.859931\n",
      "price to book P/B      0.797091  12.842985   -0.937936   8.701044   -0.908391\n",
      "enterprise to ebitda     11.409  31.542263   -0.638295  19.085962   -0.402231\n",
      "\n",
      " Growth Metrics (higher better):\n",
      "                  INTC    Sector Sector Diff    Market Market Diff\n",
      "revenue growth  -0.009  0.111909   -1.080422  0.056054   -1.160559\n",
      "earnings growth   None  1.687729         NaN  1.202233         NaN\n",
      "\n",
      " Profitability Metrics (higher better):\n",
      "                     INTC    Sector Sector Diff    Market Market Diff\n",
      "profit margin     0.01769  0.163716   -0.891947  0.135968   -0.869896\n",
      "return on equity  0.00782  0.332910    -0.97651  0.313596   -0.975063\n",
      "\n",
      " Financial Health Metrics:\n",
      "                 INTC    Sector Sector Diff     Market Market Diff\n",
      "cash per share  6.846  9.998276   -0.315282  24.005726   -0.714818\n",
      "short ratio      1.99  2.872692    -0.30727   3.093194   -0.356652\n",
      "\n",
      " Analyst Expectations:\n",
      "                        INTC     Sector Sector Diff    Market Market Diff\n",
      "analyst median growth  62.94  20.978462     2.00022  12.88743    3.883829\n",
      "recommendation mean      2.8   2.239744    0.250143   2.31984     0.20698\n"
     ]
    }
   ],
   "source": [
    "compare_stock('INTC')"
   ]
  },
  {
   "cell_type": "code",
   "execution_count": null,
   "metadata": {},
   "outputs": [],
   "source": []
  }
 ],
 "metadata": {
  "kernelspec": {
   "display_name": "venv",
   "language": "python",
   "name": "python3"
  },
  "language_info": {
   "codemirror_mode": {
    "name": "ipython",
    "version": 3
   },
   "file_extension": ".py",
   "mimetype": "text/x-python",
   "name": "python",
   "nbconvert_exporter": "python",
   "pygments_lexer": "ipython3",
   "version": "3.10.11"
  }
 },
 "nbformat": 4,
 "nbformat_minor": 2
}
