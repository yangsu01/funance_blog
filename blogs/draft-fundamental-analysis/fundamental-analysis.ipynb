{
 "cells": [
  {
   "cell_type": "code",
   "execution_count": 1,
   "metadata": {},
   "outputs": [
    {
     "data": {
      "text/plain": [
       "<module 'src.investing_strategies' from 'c:\\\\Users\\\\Yang\\\\Documents\\\\Projects\\\\funance_blog\\\\src\\\\investing_strategies\\\\__init__.py'>"
      ]
     },
     "execution_count": 1,
     "metadata": {},
     "output_type": "execute_result"
    }
   ],
   "source": [
    "import sys\n",
    "import os\n",
    "import importlib\n",
    "import pandas as pd\n",
    "\n",
    "# add src to path\n",
    "src_path = os.path.abspath('../../')\n",
    "if src_path not in sys.path:\n",
    "    sys.path.append(src_path)\n",
    "\n",
    "# import functions\n",
    "from src.investing_strategies import compare_to_market\n",
    "\n",
    "# reload module on change\n",
    "importlib.reload(sys.modules['src.investing_strategies'])"
   ]
  },
  {
   "cell_type": "code",
   "execution_count": 17,
   "metadata": {},
   "outputs": [],
   "source": [
    "def print_summary(ticker):\n",
    "    # get snp500 tickers\n",
    "    snp_tickers = pd.read_csv('../data/snp500.csv')['ticker'].tolist()\n",
    "    \n",
    "    data = compare_to_market(ticker, snp_tickers)\n",
    "    \n",
    "    for key, value in data['stock_info'].items():\n",
    "        print(f'{key}: {value}')\n",
    "    \n",
    "    print('')\n",
    "\n",
    "    for key, value in data.items():\n",
    "        if key != 'stock_info':\n",
    "            print(f'{key}: \\n {value} \\n')"
   ]
  },
  {
   "cell_type": "code",
   "execution_count": 19,
   "metadata": {},
   "outputs": [
    {
     "name": "stdout",
     "output_type": "stream",
     "text": [
      "ticker: MSFT\n",
      "industry: Software - Infrastructure\n",
      "sector: Technology\n",
      "current_price: 398.43\n",
      "analyst_low_price: 402.7\n",
      "analyst_median_price: 457.62\n",
      "analyst_high_price: 549.14\n",
      "\n",
      "risk_metrics: \n",
      "               MSFT    Sector Sector Diff    Market Market Diff\n",
      "beta         0.894  1.175641   -0.239564  1.053675   -0.151541\n",
      "risk_rating      1  5.166667   -0.806452  5.522088   -0.818909 \n",
      "\n",
      "valuation_metrics: \n",
      "                  MSFT     Sector Sector Diff     Market Market Diff\n",
      "forward_pe  28.622845  22.862421     0.25196  18.917150    0.513063\n",
      "peg_ratio      2.1516   1.936664    0.110983   2.927108    -0.26494\n",
      "pb_ratio    11.032257  14.905788   -0.259868   8.924989    0.236109\n",
      "ev_ebitda      23.121  31.401197    -0.26369  18.912767    0.222508 \n",
      "\n",
      "growth_metrics: \n",
      "                   MSFT    Sector Sector Diff    Market Market Diff\n",
      "revenue_growth   0.152  0.104066    0.460614  0.057604    1.638687\n",
      "earnings_growth  0.097  2.029743   -0.952211  1.240620   -0.921813 \n",
      "\n",
      "profitability_metrics: \n",
      "                   MSFT    Sector Sector Diff    Market Market Diff\n",
      "profit_margin  0.35956  0.177238    1.028681  0.137972    1.606029\n",
      "roe            0.37133  0.391537   -0.051609  0.321364    0.155482 \n",
      "\n",
      "financial_health_metrics: \n",
      "                   MSFT    Sector Sector Diff     Market Market Diff\n",
      "cash_per_share  10.162  9.923132    0.024072  23.797048   -0.572972\n",
      "short_ratio       3.42  2.872692    0.190521   3.093194    0.105653 \n",
      "\n",
      "analyst_expectations: \n",
      "                         MSFT     Sector Sector Diff     Market Market Diff\n",
      "analyst_median_growth  14.86  21.654872    -0.31378  14.467032    0.027163\n",
      "recommendation_mean      1.7   2.241026   -0.241419   2.323046   -0.268202 \n",
      "\n"
     ]
    }
   ],
   "source": [
    "print_summary('MSFT')"
   ]
  },
  {
   "cell_type": "code",
   "execution_count": null,
   "metadata": {},
   "outputs": [],
   "source": []
  }
 ],
 "metadata": {
  "kernelspec": {
   "display_name": "venv",
   "language": "python",
   "name": "python3"
  },
  "language_info": {
   "codemirror_mode": {
    "name": "ipython",
    "version": 3
   },
   "file_extension": ".py",
   "mimetype": "text/x-python",
   "name": "python",
   "nbconvert_exporter": "python",
   "pygments_lexer": "ipython3",
   "version": "3.10.11"
  }
 },
 "nbformat": 4,
 "nbformat_minor": 2
}
