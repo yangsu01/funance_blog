{
 "cells": [
  {
   "cell_type": "code",
   "execution_count": 1,
   "metadata": {},
   "outputs": [],
   "source": [
    "import pandas as pd\n",
    "import numpy as np\n",
    "from matplotlib import pyplot as plt\n",
    "from datetime import datetime\n",
    "from statsmodels.tsa.arima.model import ARIMA\n",
    "import yfinance as yf\n",
    "from statsmodels.tools.sm_exceptions import ValueWarning, ConvergenceWarning\n",
    "import warnings"
   ]
  },
  {
   "cell_type": "code",
   "execution_count": 2,
   "metadata": {},
   "outputs": [],
   "source": [
    "# suppress warnings\n",
    "\n",
    "# since market data is not always available on weekdays, we cannot set frequency...\n",
    "warnings.filterwarnings('ignore', category=ValueWarning)\n",
    "# we are brute forcing to find the best parameters, so not all models will converge\n",
    "warnings.filterwarnings('ignore', category=ConvergenceWarning)\n",
    "# not all starting parameters are gonna be valid either\n",
    "warnings.filterwarnings('ignore', category=UserWarning)"
   ]
  },
  {
   "cell_type": "code",
   "execution_count": 3,
   "metadata": {},
   "outputs": [],
   "source": [
    "# SET CONSTANTS\n",
    "INITIAL_INVESTMENT = 100\n",
    "TICKERS = ['^GSPC', 'COST', 'AC.TO', 'BTC-USD']\n",
    "\n",
    "TRAIN_START_DATE = '2023-01-01'\n",
    "TRAIN_END_DATE = '2023-12-31'\n",
    "TEST_START_DATE = '2024-01-01'\n",
    "TEST_END_DATE = datetime.today().strftime('%Y-%m-%d')"
   ]
  },
  {
   "cell_type": "code",
   "execution_count": null,
   "metadata": {},
   "outputs": [],
   "source": [
    "# prepare data\n",
    "train_data, test_data = {}, {}\n",
    "\n",
    "for ticker in TICKERS:\n",
    "    df1 = yf.download(ticker, start=TRAIN_START_DATE, end=TRAIN_END_DATE).dropna()\n",
    "    df2 = yf.download(ticker, start=TEST_START_DATE, end=TEST_END_DATE).dropna()\n",
    "    \n",
    "    # drop columns we dont need\n",
    "    df1.drop(columns=['Open','High','Low','Adj Close','Volume'], inplace=True)\n",
    "    df2.drop(columns=['Open','High','Low','Adj Close','Volume'], inplace=True)\n",
    "    \n",
    "    # rename columns\n",
    "    df1.rename(columns={'Close': 'price'}, inplace=True)\n",
    "    df2.rename(columns={'Close': 'price'}, inplace=True)\n",
    "    \n",
    "    # set index as datetime\n",
    "    df1.index = pd.to_datetime(df1.index)\n",
    "    df2.index = pd.to_datetime(df2.index)\n",
    "    \n",
    "    train_data[ticker] = df1.copy()\n",
    "    test_data[ticker] = df2.copy()\n",
    "    \n",
    "    # infer frequency. dont do this if you have daily prices\n",
    "    # train_data[ticker] = train_data[ticker].asfreq(pd.infer_freq(train_data[ticker].index))\n",
    "    # test_data[ticker] = test_data[ticker].asfreq(pd.infer_freq(test_data[ticker].index))"
   ]
  },
  {
   "cell_type": "code",
   "execution_count": 4,
   "metadata": {},
   "outputs": [],
   "source": [
    "def run_simulation(data: pd.Series, thresh: float, strategy: str, buy_cond: str, sell_cond: str) -> dict:\n",
    "    ''' Runs an investment simulation on the given data and investment strategy.\n",
    "\n",
    "        Args:\n",
    "            data (pd.Series): The data to run the simulation on.\n",
    "            thresh (float): The threshold to use for the strategy.\n",
    "            buy_cond (str): The buy condition to use for the strategy.\n",
    "            sell_cond (str): The sell condition to use for the strategy.\n",
    "\n",
    "        Returns:\n",
    "            dict: dictionary of results: {'returns': float, 'transactions': list}\n",
    "    '''\n",
    "    buy_conditions = {\n",
    "        \n",
    "    }"
   ]
  },
  {
   "cell_type": "code",
   "execution_count": 13,
   "metadata": {},
   "outputs": [],
   "source": [
    "def forecast_data(data: pd.Series, model: tuple) -> float:\n",
    "    ''' Forecast the next value in the time series using ARIMA\n",
    "    \n",
    "        Args:\n",
    "            data (pd.Series): time series data\n",
    "            model (tuple): ARIMA model parameters\n",
    "            \n",
    "        Returns:\n",
    "            float: forecasted value\n",
    "    '''\n",
    "    fit = ARIMA(data, order=model).fit()\n",
    "    forecast = fit.forecast(steps=1)\n",
    "\n",
    "    return float(forecast.iloc[0])"
   ]
  },
  {
   "cell_type": "code",
   "execution_count": 14,
   "metadata": {},
   "outputs": [],
   "source": [
    "def optimize_order(data: pd.Series) -> tuple:\n",
    "    ''' Finds optimal order for ARIMA model with minimum AIC\n",
    "\n",
    "    Args:\n",
    "        data (pd.Series): training data to fit ARIMA model\n",
    "\n",
    "    Returns:\n",
    "        tuple: optimal order for ARIMA(p, d, q) model\n",
    "    '''\n",
    "    # generate candidate orders\n",
    "    AR = range(0, 5)\n",
    "    I = range(0, 2)\n",
    "    MA = range(0, 5)\n",
    "    ignore_orders = [(0,0,0), (0,1,0), (0,2,1)]\n",
    "\n",
    "    orders = []\n",
    "    for p in AR:\n",
    "        for d in I:\n",
    "            for q in MA:\n",
    "                if (p, d, q) not in ignore_orders:\n",
    "                    orders.append((p, d, q))\n",
    "\n",
    "    # fit ARIMA models\n",
    "    min_order = None\n",
    "    min_aic = float('inf')\n",
    "\n",
    "    for order in orders:\n",
    "        model = ARIMA(data, order=order)\n",
    "        fit = model.fit()\n",
    "        print(f'Fit model of order: {order} AIC: {fit.aic}')\n",
    "\n",
    "        if fit.aic < min_aic:\n",
    "            min_aic = fit.aic\n",
    "            min_order = order\n",
    "        \n",
    "    print(f'Minimum AIC: {min_aic} with order: {min_order}')\n",
    "    return min_order"
   ]
  },
  {
   "cell_type": "code",
   "execution_count": null,
   "metadata": {},
   "outputs": [],
   "source": []
  }
 ],
 "metadata": {
  "kernelspec": {
   "display_name": "venv",
   "language": "python",
   "name": "python3"
  },
  "language_info": {
   "codemirror_mode": {
    "name": "ipython",
    "version": 3
   },
   "file_extension": ".py",
   "mimetype": "text/x-python",
   "name": "python",
   "nbconvert_exporter": "python",
   "pygments_lexer": "ipython3",
   "version": "3.10.5"
  }
 },
 "nbformat": 4,
 "nbformat_minor": 2
}
