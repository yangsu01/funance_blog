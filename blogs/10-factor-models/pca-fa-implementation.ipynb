{
 "cells": [
  {
   "cell_type": "code",
   "execution_count": 4,
   "metadata": {},
   "outputs": [
    {
     "data": {
      "text/plain": [
       "<module 'src.investing_strategies' from 'c:\\\\Users\\\\Yang\\\\Documents\\\\Projects\\\\funance_blog\\\\src\\\\investing_strategies\\\\__init__.py'>"
      ]
     },
     "execution_count": 4,
     "metadata": {},
     "output_type": "execute_result"
    }
   ],
   "source": [
    "import sys\n",
    "import os\n",
    "import importlib\n",
    "import pandas as pd\n",
    "import yfinance as yf\n",
    "from typing import Callable\n",
    "\n",
    "# add utils path\n",
    "src_path = os.path.abspath('../../')\n",
    "if src_path not in sys.path:\n",
    "    sys.path.append(src_path)\n",
    "\n",
    "# import custom functions\n",
    "from src.investing_strategies import pca_fa\n",
    "\n",
    "# reload module on change\n",
    "importlib.reload(sys.modules['src.investing_strategies'])"
   ]
  },
  {
   "cell_type": "code",
   "execution_count": 5,
   "metadata": {},
   "outputs": [
    {
     "name": "stderr",
     "output_type": "stream",
     "text": [
      "[*********************100%%**********************]  30 of 30 completed\n"
     ]
    }
   ],
   "source": [
    "# get data\n",
    "PATH = '../data/dow30.csv'\n",
    "tickers = pd.read_csv(PATH)['ticker'].tolist()\n",
    "\n",
    "factors_df = pd.read_csv('../data/fama_french_momentum_daily.csv')\n",
    "factors_df['Date'] = pd.to_datetime(factors_df['Date'])\n",
    "factors_df.set_index('Date', inplace=True)\n",
    "factors_df = factors_df / 100 # convert to decimals\n",
    "\n",
    "prices = yf.download(tickers, start='2000-01-01', end='2024-06-30')['Adj Close']\n",
    "returns = prices.pct_change(fill_method=None)[1:]"
   ]
  },
  {
   "cell_type": "code",
   "execution_count": 6,
   "metadata": {},
   "outputs": [
    {
     "name": "stderr",
     "output_type": "stream",
     "text": [
      "c:\\Users\\Yang\\Documents\\Projects\\funance_blog\\venv\\lib\\site-packages\\statsmodels\\base\\model.py:607: ConvergenceWarning: Maximum Likelihood optimization failed to converge. Check mle_retvals\n",
      "  warnings.warn(\"Maximum Likelihood optimization failed to \"\n"
     ]
    },
    {
     "data": {
      "text/plain": [
       "{'GS': 0.1539, 'AAPL': 0.2497, 'MSFT': 0.1578, 'TRV': 0.195, 'CAT': 0.2436}"
      ]
     },
     "execution_count": 6,
     "metadata": {},
     "output_type": "execute_result"
    }
   ],
   "source": [
    "df = returns.loc['2018-12-31':'2023-12-31']\n",
    "pca_fa(df, factors_df, 2)"
   ]
  },
  {
   "cell_type": "code",
   "execution_count": null,
   "metadata": {},
   "outputs": [],
   "source": [
    "def backtest_strategy(\n",
    "    strategy: Callable,\n",
    "    historical_data: pd.DataFrame,\n",
    "    trading_frequency: str='monthly',\n",
    ")"
   ]
  }
 ],
 "metadata": {
  "kernelspec": {
   "display_name": "venv",
   "language": "python",
   "name": "python3"
  },
  "language_info": {
   "codemirror_mode": {
    "name": "ipython",
    "version": 3
   },
   "file_extension": ".py",
   "mimetype": "text/x-python",
   "name": "python",
   "nbconvert_exporter": "python",
   "pygments_lexer": "ipython3",
   "version": "3.10.11"
  }
 },
 "nbformat": 4,
 "nbformat_minor": 2
}
