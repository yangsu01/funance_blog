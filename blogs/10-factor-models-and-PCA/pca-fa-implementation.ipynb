{
 "cells": [
  {
   "cell_type": "code",
   "execution_count": 1,
   "metadata": {},
   "outputs": [
    {
     "data": {
      "text/plain": [
       "<module 'src.investing_strategies' from 'c:\\\\Users\\\\Yang\\\\Documents\\\\Projects\\\\funance_blog\\\\src\\\\investing_strategies\\\\__init__.py'>"
      ]
     },
     "execution_count": 1,
     "metadata": {},
     "output_type": "execute_result"
    }
   ],
   "source": [
    "import sys\n",
    "import os\n",
    "import importlib\n",
    "import numpy as np\n",
    "import pandas as pd\n",
    "import yfinance as yf\n",
    "from dateutil.relativedelta import relativedelta\n",
    "from datetime import datetime\n",
    "from matplotlib import pyplot as plt\n",
    "import warnings\n",
    "from statsmodels.tools.sm_exceptions import ConvergenceWarning\n",
    "from scipy.stats import gmean\n",
    "\n",
    "warnings.filterwarnings(\"ignore\", category=ConvergenceWarning)\n",
    "\n",
    "# add utils path\n",
    "src_path = os.path.abspath('../../')\n",
    "if src_path not in sys.path:\n",
    "    sys.path.append(src_path)\n",
    "\n",
    "# import custom functions\n",
    "from src.investing_strategies import pca_fa\n",
    "from src.utils import daily_to_monthly\n",
    "\n",
    "# reload module on change\n",
    "importlib.reload(sys.modules['src.investing_strategies']) "
   ]
  },
  {
   "cell_type": "code",
   "execution_count": 2,
   "metadata": {},
   "outputs": [
    {
     "name": "stderr",
     "output_type": "stream",
     "text": [
      "[*********************100%%**********************]  500 of 500 completed\n",
      "[*********************100%%**********************]  1 of 1 completed\n"
     ]
    }
   ],
   "source": [
    "# get data\n",
    "DATA_START = '1994-12-31'\n",
    "DATA_END = '2024-06-30'\n",
    "PATH = '../data/snp500.csv'\n",
    "\n",
    "tickers = pd.read_csv(PATH)['ticker'].tolist()\n",
    "\n",
    "factors_df = pd.read_csv('../data/fama_french_momentum_daily.csv')\n",
    "factors_df['Date'] = pd.to_datetime(factors_df['Date'])\n",
    "factors_df.set_index('Date', inplace=True)\n",
    "factors_df = factors_df / 100 # convert to decimals\n",
    "\n",
    "prices = yf.download(tickers, start=DATA_START, end=datetime.today().strftime('%Y-%m-%d'))['Adj Close']\n",
    "market = yf.download('SPY', start=DATA_START, end=datetime.today().strftime('%Y-%m-%d'))['Adj Close']\n",
    "\n",
    "returns_df = prices.pct_change(fill_method=None)[1:]\n",
    "market_returns_df = market.pct_change(fill_method=None)[1:]"
   ]
  },
  {
   "cell_type": "code",
   "execution_count": 3,
   "metadata": {},
   "outputs": [
    {
     "name": "stdout",
     "output_type": "stream",
     "text": [
      "Optimizing portfolio for 1999-12-31...\n",
      "Tickers selected: ['PFE', 'HD', 'MSFT', 'JBL', 'QCOM', 'BBY', 'BIIB', 'INTU', 'ORCL']\n",
      "Portfolio returns: -9.71%\n",
      "Market returns: -4.98%\n",
      "\n",
      "Optimizing portfolio for 2000-01-31...\n",
      "Tickers selected: ['PFE', 'TER', 'JNJ', 'CSCO', 'AFL', 'COST', 'RVTY', 'BIIB', 'INTC', 'VMC', 'ADBE', 'JBL', 'TAP', 'BAX', 'MGM', 'SWKS', 'BBY', 'MOS', 'WMB', 'PAYX', 'MU', 'AAPL', 'BALL', 'TECH', 'APH', 'MNST', 'NKE', 'QCOM', 'MMM', 'BDX']\n",
      "Portfolio returns: 12.70%\n",
      "Market returns: -1.52%\n",
      "\n",
      "Optimizing portfolio for 2000-02-29...\n",
      "Tickers selected: ['APH', 'RVTY', 'INCY', 'VRTX', 'TER', 'BIIB', 'SWKS', 'QCOM', 'ORCL']\n",
      "Portfolio returns: -14.64%\n",
      "Market returns: 9.69%\n",
      "\n",
      "Optimizing portfolio for 2000-03-31...\n"
     ]
    },
    {
     "name": "stderr",
     "output_type": "stream",
     "text": [
      "c:\\Users\\Yang\\Documents\\Projects\\funance_blog\\venv\\lib\\site-packages\\statsmodels\\tsa\\statespace\\sarimax.py:966: UserWarning: Non-stationary starting autoregressive parameters found. Using zeros as starting parameters.\n",
      "  warn('Non-stationary starting autoregressive parameters'\n",
      "c:\\Users\\Yang\\Documents\\Projects\\funance_blog\\venv\\lib\\site-packages\\statsmodels\\tsa\\statespace\\sarimax.py:978: UserWarning: Non-invertible starting MA parameters found. Using zeros as starting parameters.\n",
      "  warn('Non-invertible starting MA parameters found.'\n"
     ]
    },
    {
     "name": "stdout",
     "output_type": "stream",
     "text": [
      "Tickers selected: ['JBL', 'EXC', 'COST', 'BBY', 'ADI', 'PAYX', 'INCY', 'WBA', 'BIIB', 'SCHW']\n",
      "Portfolio returns: -0.89%\n",
      "Market returns: -3.51%\n",
      "\n",
      "Optimizing portfolio for 2000-04-30...\n",
      "Tickers selected: ['BBY', 'REGN', 'DVN', 'UHS', 'MTCH', 'NVR', 'ROST', 'AES', 'ESS', 'QCOM', 'PNW', 'HSY']\n",
      "Portfolio returns: 0.14%\n",
      "Market returns: -1.57%\n",
      "\n",
      "Optimizing portfolio for 2000-05-31...\n"
     ]
    },
    {
     "name": "stderr",
     "output_type": "stream",
     "text": [
      "c:\\Users\\Yang\\Documents\\Projects\\funance_blog\\venv\\lib\\site-packages\\statsmodels\\tsa\\statespace\\sarimax.py:966: UserWarning: Non-stationary starting autoregressive parameters found. Using zeros as starting parameters.\n",
      "  warn('Non-stationary starting autoregressive parameters'\n",
      "c:\\Users\\Yang\\Documents\\Projects\\funance_blog\\venv\\lib\\site-packages\\statsmodels\\tsa\\statespace\\sarimax.py:978: UserWarning: Non-invertible starting MA parameters found. Using zeros as starting parameters.\n",
      "  warn('Non-invertible starting MA parameters found.'\n"
     ]
    },
    {
     "name": "stdout",
     "output_type": "stream",
     "text": [
      "Tickers selected: ['BKR', 'JCI', 'JBL', 'INCY', 'FAST', 'PNW', 'MTCH', 'ESS', 'AES', 'AMD', 'NOC', 'APH', 'CSCO', 'BBY', 'TJX', 'MNST', 'CHD', 'RVTY', 'BIIB', 'JKHY', 'SWKS', 'NVR', 'MGM', 'UHS']\n",
      "Portfolio returns: 4.77%\n",
      "Market returns: 1.97%\n",
      "\n",
      "Optimizing portfolio for 2000-06-30...\n",
      "Tickers selected: ['PFE', 'EXC', 'ADP', 'BBY', 'NTRS', 'COF', 'BIIB', 'SWKS', 'TECH', 'JCI', 'JBL', 'COO']\n",
      "Portfolio returns: -1.51%\n",
      "Market returns: -1.57%\n",
      "\n",
      "Optimizing portfolio for 2000-07-31...\n"
     ]
    },
    {
     "name": "stderr",
     "output_type": "stream",
     "text": [
      "c:\\Users\\Yang\\Documents\\Projects\\funance_blog\\venv\\lib\\site-packages\\statsmodels\\tsa\\statespace\\sarimax.py:966: UserWarning: Non-stationary starting autoregressive parameters found. Using zeros as starting parameters.\n",
      "  warn('Non-stationary starting autoregressive parameters'\n",
      "c:\\Users\\Yang\\Documents\\Projects\\funance_blog\\venv\\lib\\site-packages\\statsmodels\\tsa\\statespace\\sarimax.py:978: UserWarning: Non-invertible starting MA parameters found. Using zeros as starting parameters.\n",
      "  warn('Non-invertible starting MA parameters found.'\n"
     ]
    },
    {
     "name": "stdout",
     "output_type": "stream",
     "text": [
      "Tickers selected: ['APH', 'TAP', 'KIM', 'BBY', 'EXPD', 'CSCO', 'BIIB', 'NVR', 'PAYX', 'JBL', 'MNST', 'QCOM', 'SWKS', 'COO', 'DLTR']\n",
      "Portfolio returns: 2.95%\n",
      "Market returns: 6.53%\n",
      "\n",
      "Optimizing portfolio for 2000-08-31...\n"
     ]
    },
    {
     "name": "stderr",
     "output_type": "stream",
     "text": [
      "c:\\Users\\Yang\\Documents\\Projects\\funance_blog\\venv\\lib\\site-packages\\statsmodels\\tsa\\statespace\\sarimax.py:966: UserWarning: Non-stationary starting autoregressive parameters found. Using zeros as starting parameters.\n",
      "  warn('Non-stationary starting autoregressive parameters'\n",
      "c:\\Users\\Yang\\Documents\\Projects\\funance_blog\\venv\\lib\\site-packages\\statsmodels\\tsa\\statespace\\sarimax.py:978: UserWarning: Non-invertible starting MA parameters found. Using zeros as starting parameters.\n",
      "  warn('Non-invertible starting MA parameters found.'\n"
     ]
    },
    {
     "name": "stdout",
     "output_type": "stream",
     "text": [
      "Tickers selected: ['MNST', 'D', 'ADBE', 'BIIB', 'JBL', 'CTRA', 'BBY', 'NVR', 'COO', 'SWKS', 'QCOM', 'MGM', 'AFL', 'TER', 'FAST']\n",
      "Portfolio returns: 6.09%\n",
      "Market returns: -5.49%\n",
      "\n",
      "Optimizing portfolio for 2000-09-30...\n"
     ]
    },
    {
     "name": "stderr",
     "output_type": "stream",
     "text": [
      "c:\\Users\\Yang\\Documents\\Projects\\funance_blog\\venv\\lib\\site-packages\\statsmodels\\tsa\\statespace\\sarimax.py:966: UserWarning: Non-stationary starting autoregressive parameters found. Using zeros as starting parameters.\n",
      "  warn('Non-stationary starting autoregressive parameters'\n",
      "c:\\Users\\Yang\\Documents\\Projects\\funance_blog\\venv\\lib\\site-packages\\statsmodels\\tsa\\statespace\\sarimax.py:978: UserWarning: Non-invertible starting MA parameters found. Using zeros as starting parameters.\n",
      "  warn('Non-invertible starting MA parameters found.'\n"
     ]
    },
    {
     "name": "stdout",
     "output_type": "stream",
     "text": [
      "Tickers selected: ['IVZ', 'INCY', 'EXC', 'BBY', 'JKHY', 'ADBE', 'REGN', 'BIIB', 'SCHW', 'COF', 'JBL', 'ORCL']\n",
      "Portfolio returns: 1.12%\n",
      "Market returns: -0.47%\n",
      "\n",
      "Optimizing portfolio for 2000-10-31...\n",
      "Tickers selected: ['INCY', 'GLW', 'QCOM', 'COO', 'JKHY', 'VRTX', 'PPL', 'KR', 'ESS', 'FI', 'PFE', 'ORCL', 'OMC', 'BBY', 'JCI', 'JBL', 'NVR', 'WBA', 'AFL', 'BIIB', 'AMGN', 'EXC', 'MNST', 'GIS', 'SYY']\n",
      "Portfolio returns: -3.38%\n",
      "Market returns: -7.47%\n",
      "\n",
      "Optimizing portfolio for 2000-11-30...\n",
      "Tickers selected: ['JKHY', 'COF', 'COR', 'PAYX', 'TJX', 'AMGN', 'JNJ', 'JBL', 'PFE', 'LH', 'TECH', 'GIS', 'CSCO', 'WBA', 'BBY', 'COO', 'ESS', 'NTAP', 'ADP', 'MNST', 'OMC', 'NVR', 'QCOM']\n",
      "Portfolio returns: 3.74%\n",
      "Market returns: -0.52%\n",
      "\n",
      "Optimizing portfolio for 2000-12-31...\n",
      "Tickers selected: ['TAP', 'UHS', 'COR', 'OKE', 'MMM', 'NOC', 'TFC', 'PPL', 'COF', 'CVS', 'ROST', 'CB', 'CTRA', 'NTAP', 'ESS', 'AES', 'BMY', 'JCI', 'WM', 'REGN', 'COO', 'TFX']\n",
      "Portfolio returns: -7.00%\n",
      "Market returns: 4.45%\n",
      "\n",
      "Optimizing portfolio for 2001-01-31...\n"
     ]
    },
    {
     "name": "stderr",
     "output_type": "stream",
     "text": [
      "c:\\Users\\Yang\\Documents\\Projects\\funance_blog\\venv\\lib\\site-packages\\statsmodels\\tsa\\statespace\\sarimax.py:966: UserWarning: Non-stationary starting autoregressive parameters found. Using zeros as starting parameters.\n",
      "  warn('Non-stationary starting autoregressive parameters'\n"
     ]
    },
    {
     "name": "stdout",
     "output_type": "stream",
     "text": [
      "Tickers selected: ['SBUX', 'NTAP', 'APH', 'WAT', 'TGT', 'QCOM', 'BBY', 'REGN', 'MNST', 'TECH', 'COST', 'AES', 'JBL', 'DHR']\n",
      "Portfolio returns: -16.28%\n",
      "Market returns: -9.54%\n",
      "\n",
      "Optimizing portfolio for 2001-02-28...\n",
      "Tickers selected: ['JCI', 'LH', 'COR', 'MNST', 'PCAR', 'CAH', 'NVR', 'PPL', 'SBUX', 'CI', 'DVN', 'AES', 'TAP', 'FAST', 'COO', 'TFC', 'CVS', 'BIO', 'NOC', 'JBL', 'RMD', 'ROST', 'DOC', 'CHD', 'TGT', 'EXPD']\n",
      "Portfolio returns: -2.20%\n",
      "Market returns: -5.60%\n",
      "\n",
      "Optimizing portfolio for 2001-03-31...\n"
     ]
    },
    {
     "name": "stderr",
     "output_type": "stream",
     "text": [
      "c:\\Users\\Yang\\Documents\\Projects\\funance_blog\\venv\\lib\\site-packages\\statsmodels\\tsa\\statespace\\sarimax.py:966: UserWarning: Non-stationary starting autoregressive parameters found. Using zeros as starting parameters.\n",
      "  warn('Non-stationary starting autoregressive parameters'\n"
     ]
    },
    {
     "name": "stdout",
     "output_type": "stream",
     "text": [
      "Tickers selected: ['SBUX', 'COF', 'ROST', 'TGT', 'COO', 'EXPD', 'BEN', 'LH', 'DVN', 'DRI', 'TJX', 'AES', 'PCAR', 'AMD', 'NVR', 'CNP']\n",
      "Portfolio returns: 7.55%\n",
      "Market returns: 8.54%\n",
      "\n",
      "Optimizing portfolio for 2001-04-30...\n",
      "Tickers selected: ['MDT', 'AIG', 'BRO', 'LLY', 'EXC', 'BMY', 'REGN', 'TAP', 'HD', 'ORCL', 'CPRT', 'WBA']\n",
      "Portfolio returns: -0.57%\n",
      "Market returns: -0.56%\n",
      "\n",
      "Optimizing portfolio for 2001-05-31...\n"
     ]
    },
    {
     "name": "stderr",
     "output_type": "stream",
     "text": [
      "c:\\Users\\Yang\\Documents\\Projects\\funance_blog\\venv\\lib\\site-packages\\statsmodels\\tsa\\statespace\\sarimax.py:966: UserWarning: Non-stationary starting autoregressive parameters found. Using zeros as starting parameters.\n",
      "  warn('Non-stationary starting autoregressive parameters'\n",
      "c:\\Users\\Yang\\Documents\\Projects\\funance_blog\\venv\\lib\\site-packages\\statsmodels\\tsa\\statespace\\sarimax.py:978: UserWarning: Non-invertible starting MA parameters found. Using zeros as starting parameters.\n",
      "  warn('Non-invertible starting MA parameters found.'\n"
     ]
    },
    {
     "name": "stdout",
     "output_type": "stream",
     "text": [
      "Tickers selected: ['COO', 'AJG', 'TJX', 'WBA', 'LUV', 'TGT', 'BIIB', 'SYK', 'REGN', 'LH', 'EXPD', 'DVN', 'QCOM', 'COR', 'PPL', 'COF', 'NVR']\n",
      "Portfolio returns: -6.37%\n",
      "Market returns: -2.38%\n",
      "\n",
      "Optimizing portfolio for 2001-06-30...\n",
      "Tickers selected: ['LH', 'USB', 'NVR', 'AMGN', 'COO', 'COF', 'BBY', 'QCOM', 'BRO', 'CMCSA', 'POOL', 'JCI', 'WAT', 'PPL', 'BIIB', 'JBL', 'SWKS', 'FDS', 'ESS']\n",
      "Portfolio returns: 3.58%\n",
      "Market returns: -1.02%\n",
      "\n",
      "Optimizing portfolio for 2001-07-31...\n"
     ]
    },
    {
     "name": "stderr",
     "output_type": "stream",
     "text": [
      "c:\\Users\\Yang\\Documents\\Projects\\funance_blog\\venv\\lib\\site-packages\\statsmodels\\tsa\\statespace\\sarimax.py:966: UserWarning: Non-stationary starting autoregressive parameters found. Using zeros as starting parameters.\n",
      "  warn('Non-stationary starting autoregressive parameters'\n",
      "c:\\Users\\Yang\\Documents\\Projects\\funance_blog\\venv\\lib\\site-packages\\statsmodels\\tsa\\statespace\\sarimax.py:978: UserWarning: Non-invertible starting MA parameters found. Using zeros as starting parameters.\n",
      "  warn('Non-invertible starting MA parameters found.'\n"
     ]
    },
    {
     "name": "stdout",
     "output_type": "stream",
     "text": [
      "Tickers selected: ['LH', 'TGT', 'JBL', 'NVR', 'ROST', 'RMD', 'BBY', 'DRI', 'ESS', 'QCOM', 'PPL', 'EXPD', 'JCI', 'POOL', 'EQT', 'HRL', 'COR', 'SWKS']\n",
      "Portfolio returns: -3.81%\n",
      "Market returns: -5.93%\n",
      "\n",
      "Optimizing portfolio for 2001-08-31...\n"
     ]
    },
    {
     "name": "stderr",
     "output_type": "stream",
     "text": [
      "c:\\Users\\Yang\\Documents\\Projects\\funance_blog\\venv\\lib\\site-packages\\statsmodels\\tsa\\statespace\\sarimax.py:966: UserWarning: Non-stationary starting autoregressive parameters found. Using zeros as starting parameters.\n",
      "  warn('Non-stationary starting autoregressive parameters'\n",
      "c:\\Users\\Yang\\Documents\\Projects\\funance_blog\\venv\\lib\\site-packages\\statsmodels\\tsa\\statespace\\sarimax.py:978: UserWarning: Non-invertible starting MA parameters found. Using zeros as starting parameters.\n",
      "  warn('Non-invertible starting MA parameters found.'\n"
     ]
    },
    {
     "name": "stdout",
     "output_type": "stream",
     "text": [
      "Tickers selected: ['LH', 'NVR', 'BRO', 'COO', 'AJG', 'BBY', 'JBL', 'QCOM', 'EXC', 'TJX', 'FI', 'BIO', 'BIIB', 'SWKS', 'COR', 'DRI']\n",
      "Portfolio returns: -5.69%\n",
      "Market returns: -8.16%\n",
      "\n",
      "Optimizing portfolio for 2001-09-30...\n"
     ]
    },
    {
     "name": "stderr",
     "output_type": "stream",
     "text": [
      "c:\\Users\\Yang\\Documents\\Projects\\funance_blog\\venv\\lib\\site-packages\\statsmodels\\tsa\\statespace\\sarimax.py:966: UserWarning: Non-stationary starting autoregressive parameters found. Using zeros as starting parameters.\n",
      "  warn('Non-stationary starting autoregressive parameters'\n",
      "c:\\Users\\Yang\\Documents\\Projects\\funance_blog\\venv\\lib\\site-packages\\statsmodels\\tsa\\statespace\\sarimax.py:978: UserWarning: Non-invertible starting MA parameters found. Using zeros as starting parameters.\n",
      "  warn('Non-invertible starting MA parameters found.'\n"
     ]
    },
    {
     "name": "stdout",
     "output_type": "stream",
     "text": [
      "Tickers selected: ['LH', 'FI', 'POOL', 'DOC', 'MO', 'SWKS', 'CHD', 'COR', 'NVR', 'BRO', 'AJG', 'BBY', 'BALL', 'JBL', 'ESS', 'O', 'DRI', 'COO', 'BIO']\n",
      "Portfolio returns: 4.24%\n",
      "Market returns: 1.30%\n",
      "\n",
      "Optimizing portfolio for 2001-10-31...\n",
      "Tickers selected: ['LH', 'EXC', 'BRO', 'BAX', 'REGN', 'BBY', 'WAT', 'BIIB', 'INCY', 'FI', 'QCOM', 'NVR', 'TAP']\n",
      "Portfolio returns: 9.49%\n",
      "Market returns: 7.80%\n",
      "\n",
      "Optimizing portfolio for 2001-11-30...\n",
      "Tickers selected: ['LH', 'QCOM', 'BIIB', 'AZO', 'EXC', 'BBY', 'POOL', 'AJG', 'NVR', 'CPRT', 'GILD', 'REGN', 'LOW']\n",
      "Portfolio returns: 2.41%\n",
      "Market returns: 0.56%\n",
      "\n",
      "Optimizing portfolio for 2001-12-31...\n"
     ]
    },
    {
     "name": "stderr",
     "output_type": "stream",
     "text": [
      "c:\\Users\\Yang\\Documents\\Projects\\funance_blog\\venv\\lib\\site-packages\\statsmodels\\tsa\\statespace\\sarimax.py:966: UserWarning: Non-stationary starting autoregressive parameters found. Using zeros as starting parameters.\n",
      "  warn('Non-stationary starting autoregressive parameters'\n"
     ]
    },
    {
     "name": "stdout",
     "output_type": "stream",
     "text": [
      "Tickers selected: ['DGX', 'FDS', 'QCOM', 'JKHY', 'SYK', 'BIIB', 'AJG', 'UHS', 'EXC', 'TAP', 'GILD', 'LLY', 'REGN', 'ORCL', 'BBY', 'GIS', 'NVR']\n",
      "Portfolio returns: -1.18%\n",
      "Market returns: -0.98%\n",
      "\n",
      "Optimizing portfolio for 2002-01-31...\n",
      "Tickers selected: ['DGX', 'PAYX', 'GD', 'BALL', 'REGN', 'EXC', 'QCOM', 'SYY', 'INCY', 'DRI', 'NTAP', 'BBY', 'ESS', 'BRO', 'SWKS', 'AMGN', 'WBA', 'AAPL', 'NVR', 'AJG', 'WAT', 'CPRT', 'MKC', 'BIIB']\n",
      "Portfolio returns: 2.48%\n",
      "Market returns: -1.79%\n",
      "\n",
      "Optimizing portfolio for 2002-02-28...\n"
     ]
    },
    {
     "name": "stderr",
     "output_type": "stream",
     "text": [
      "c:\\Users\\Yang\\Documents\\Projects\\funance_blog\\venv\\lib\\site-packages\\statsmodels\\tsa\\statespace\\sarimax.py:966: UserWarning: Non-stationary starting autoregressive parameters found. Using zeros as starting parameters.\n",
      "  warn('Non-stationary starting autoregressive parameters'\n"
     ]
    },
    {
     "name": "stdout",
     "output_type": "stream",
     "text": [
      "Tickers selected: ['DGX', 'POOL', 'EXC', 'FI', 'REGN', 'AJG', 'SYY', 'NVR', 'ADBE', 'WMT', 'ESS', 'BBY', 'BIIB', 'LUV']\n",
      "Portfolio returns: 5.14%\n",
      "Market returns: 3.33%\n",
      "\n",
      "Optimizing portfolio for 2002-03-31...\n"
     ]
    },
    {
     "name": "stderr",
     "output_type": "stream",
     "text": [
      "c:\\Users\\Yang\\Documents\\Projects\\funance_blog\\venv\\lib\\site-packages\\statsmodels\\tsa\\statespace\\sarimax.py:966: UserWarning: Non-stationary starting autoregressive parameters found. Using zeros as starting parameters.\n",
      "  warn('Non-stationary starting autoregressive parameters'\n"
     ]
    },
    {
     "name": "stdout",
     "output_type": "stream",
     "text": [
      "Tickers selected: ['DGX', 'SYK', 'REGN', 'EA', 'FI', 'ANSS', 'BRO', 'NTAP', 'QCOM', 'NVR', 'LUV', 'BBY', 'PHM']\n",
      "Portfolio returns: 3.58%\n",
      "Market returns: -5.82%\n",
      "\n",
      "Optimizing portfolio for 2002-04-30...\n",
      "Tickers selected: ['DGX', 'ROST', 'BIIB', 'SWKS', 'QCOM', 'REGN', 'BBY', 'WBA', 'COO', 'NTAP', 'DRI', 'NVR', 'POOL', 'PHM', 'TTWO']\n",
      "Portfolio returns: -7.23%\n",
      "Market returns: -0.59%\n",
      "\n",
      "Optimizing portfolio for 2002-05-31...\n"
     ]
    },
    {
     "name": "stderr",
     "output_type": "stream",
     "text": [
      "c:\\Users\\Yang\\Documents\\Projects\\funance_blog\\venv\\lib\\site-packages\\statsmodels\\tsa\\statespace\\sarimax.py:966: UserWarning: Non-stationary starting autoregressive parameters found. Using zeros as starting parameters.\n",
      "  warn('Non-stationary starting autoregressive parameters'\n",
      "c:\\Users\\Yang\\Documents\\Projects\\funance_blog\\venv\\lib\\site-packages\\statsmodels\\tsa\\statespace\\sarimax.py:978: UserWarning: Non-invertible starting MA parameters found. Using zeros as starting parameters.\n",
      "  warn('Non-invertible starting MA parameters found.'\n",
      "c:\\Users\\Yang\\Documents\\Projects\\funance_blog\\venv\\lib\\site-packages\\statsmodels\\tsa\\statespace\\sarimax.py:978: UserWarning: Non-invertible starting MA parameters found. Using zeros as starting parameters.\n",
      "  warn('Non-invertible starting MA parameters found.'\n"
     ]
    },
    {
     "name": "stdout",
     "output_type": "stream",
     "text": [
      "Tickers selected: ['DGX', 'MHK', 'ZBRA', 'BBY', 'MNST', 'SWKS', 'FI', 'QCOM', 'EXC', 'AMZN', 'TYL', 'ESS', 'NVR', 'MCHP', 'AJG', 'BIIB', 'BRO', 'COR']\n",
      "Portfolio returns: -5.98%\n",
      "Market returns: -7.38%\n",
      "\n",
      "Optimizing portfolio for 2002-06-30...\n"
     ]
    },
    {
     "name": "stderr",
     "output_type": "stream",
     "text": [
      "c:\\Users\\Yang\\Documents\\Projects\\funance_blog\\venv\\lib\\site-packages\\statsmodels\\tsa\\statespace\\sarimax.py:966: UserWarning: Non-stationary starting autoregressive parameters found. Using zeros as starting parameters.\n",
      "  warn('Non-stationary starting autoregressive parameters'\n",
      "c:\\Users\\Yang\\Documents\\Projects\\funance_blog\\venv\\lib\\site-packages\\statsmodels\\tsa\\statespace\\sarimax.py:978: UserWarning: Non-invertible starting MA parameters found. Using zeros as starting parameters.\n",
      "  warn('Non-invertible starting MA parameters found.'\n",
      "c:\\Users\\Yang\\Documents\\Projects\\funance_blog\\venv\\lib\\site-packages\\statsmodels\\tsa\\statespace\\sarimax.py:978: UserWarning: Non-invertible starting MA parameters found. Using zeros as starting parameters.\n",
      "  warn('Non-invertible starting MA parameters found.'\n"
     ]
    },
    {
     "name": "stdout",
     "output_type": "stream",
     "text": [
      "Tickers selected: ['DGX', 'INTU', 'FI', 'POOL', 'NTAP', 'SPG', 'BIO', 'AMZN', 'NVR', 'VZ', 'TTWO', 'NOC', 'BBY', 'ED', 'BIIB', 'BRO', 'HRL']\n",
      "Portfolio returns: -8.40%\n",
      "Market returns: -7.88%\n",
      "\n",
      "Optimizing portfolio for 2002-07-31...\n",
      "Tickers selected: ['LH', 'STZ', 'AJG', 'FI', 'COR', 'POOL', 'BBY', 'INTU', 'DRI', 'REGN', 'QCOM', 'TTWO', 'NVR', 'AMZN', 'BIIB']\n",
      "Portfolio returns: -0.23%\n",
      "Market returns: 0.68%\n",
      "\n",
      "Optimizing portfolio for 2002-08-31...\n",
      "Tickers selected: ['DGX', 'POOL', 'ROST', 'AMZN', 'NVR', 'TSCO', 'TTWO', 'COR', 'APH', 'GEN', 'SO', 'BBY', 'EQT', 'AZO', 'WELL', 'NTAP', 'BIIB']\n",
      "Portfolio returns: 0.39%\n",
      "Market returns: -10.49%\n",
      "\n",
      "Optimizing portfolio for 2002-09-30...\n",
      "Tickers selected: ['DGX', 'GEN', 'TSCO', 'O', 'WELL', 'BIO', 'SO', 'TTWO', 'BRO']\n",
      "Portfolio returns: 2.75%\n",
      "Market returns: 8.23%\n",
      "\n",
      "Optimizing portfolio for 2002-10-31...\n"
     ]
    },
    {
     "name": "stderr",
     "output_type": "stream",
     "text": [
      "c:\\Users\\Yang\\Documents\\Projects\\funance_blog\\venv\\lib\\site-packages\\statsmodels\\tsa\\statespace\\sarimax.py:978: UserWarning: Non-invertible starting MA parameters found. Using zeros as starting parameters.\n",
      "  warn('Non-invertible starting MA parameters found.'\n"
     ]
    },
    {
     "name": "stdout",
     "output_type": "stream",
     "text": [
      "Tickers selected: ['DGX', 'BRO', 'BALL', 'BBY', 'BIO', 'EXC', 'WAT', 'TSCO', 'GEN', 'CHD', 'COR', 'AZO', 'QCOM', 'TTWO', 'BSX', 'NVR', 'BIIB', 'SYY']\n",
      "Portfolio returns: -1.48%\n",
      "Market returns: 6.17%\n",
      "\n",
      "Optimizing portfolio for 2002-11-30...\n",
      "Tickers selected: ['DGX', 'NVR', 'INTU', 'BBY', 'REGN', 'STZ', 'TTWO', 'AJG', 'NTAP', 'BIIB', 'WAT']\n",
      "Portfolio returns: -2.74%\n",
      "Market returns: -5.66%\n",
      "\n",
      "Optimizing portfolio for 2002-12-31...\n",
      "Tickers selected: ['LH', 'MNST', 'TJX', 'TTWO', 'POOL', 'INTU', 'REGN', 'BIIB', 'QCOM', 'DGX', 'BBY', 'AMZN', 'NVR']\n",
      "Portfolio returns: 0.16%\n",
      "Market returns: -2.46%\n",
      "\n",
      "Optimizing portfolio for 2003-01-31...\n",
      "Tickers selected: ['VRSN', 'QCOM', 'DRI', 'DGX', 'WAT', 'AFL', 'REGN', 'NTAP', 'NVR', 'TTWO', 'LH', 'EXC', 'BIIB']\n",
      "Portfolio returns: -3.96%\n",
      "Market returns: -1.35%\n",
      "\n",
      "Optimizing portfolio for 2003-02-28...\n",
      "Tickers selected: ['QCOM', 'AMZN', 'VRSN', 'WAT', 'TTWO', 'NVR', 'AJG', 'POOL', 'J', 'DGX', 'EXC', 'LH', 'REGN']\n",
      "Portfolio returns: 3.70%\n",
      "Market returns: 0.21%\n",
      "\n",
      "Optimizing portfolio for 2003-03-31...\n",
      "Tickers selected: ['BALL', 'AJG', 'RMD', 'BBY', 'BIO', 'QCOM', 'J', 'DGX', 'POOL', 'EXC', 'LH', 'NVR', 'AMGN', 'BIIB', 'REGN', 'AMZN', 'TTWO']\n",
      "Portfolio returns: 6.25%\n",
      "Market returns: 8.46%\n",
      "\n",
      "Optimizing portfolio for 2003-04-30...\n",
      "Tickers selected: ['SYK', 'EXC', 'WMT', 'QCOM', 'NTAP', 'BRO', 'BIIB', 'REGN', 'DGX', 'CHRW', 'BBY', 'AMZN', 'NVR', 'LH', 'TSCO', 'TTWO', 'AJG', 'WBA']\n",
      "Portfolio returns: 8.22%\n",
      "Market returns: 5.48%\n",
      "\n",
      "Optimizing portfolio for 2003-05-31...\n",
      "Tickers selected: ['BALL', 'BIIB', 'ORCL', 'BRO', 'TECH', 'AJG', 'REGN', 'DGX', 'LH', 'WAT', 'NVR', 'QCOM', 'SO']\n",
      "Portfolio returns: -2.50%\n",
      "Market returns: 1.07%\n",
      "\n",
      "Optimizing portfolio for 2003-06-30...\n",
      "Tickers selected: ['SYK', 'BIO', 'WRB', 'LH', 'TSCO', 'DGX', 'NVR', 'APA', 'PPL', 'BIIB', 'CTSH', 'BRO', 'QCOM']\n",
      "Portfolio returns: 2.14%\n",
      "Market returns: 1.80%\n",
      "\n",
      "Optimizing portfolio for 2003-07-31...\n",
      "Tickers selected: ['QCOM', 'NVR', 'LH', 'BIIB', 'EQT', 'AJG', 'BIO', 'CTSH']\n",
      "Portfolio returns: 2.30%\n",
      "Market returns: 2.06%\n",
      "\n",
      "Optimizing portfolio for 2003-08-31...\n",
      "Tickers selected: ['QCOM', 'BIIB', 'ANSS', 'KMX', 'POOL', 'NVR', 'LRCX', 'APH', 'REGN', 'BIO', 'ETR', 'UNH']\n",
      "Portfolio returns: 1.92%\n",
      "Market returns: -1.09%\n",
      "\n",
      "Optimizing portfolio for 2003-09-30...\n",
      "Tickers selected: ['BIIB', 'QCOM', 'CTSH', 'EBAY', 'LRCX', 'APA', 'NVR', 'KMX', 'REGN', 'COO', 'WDC']\n",
      "Portfolio returns: 6.73%\n",
      "Market returns: 5.35%\n",
      "\n",
      "Optimizing portfolio for 2003-10-31...\n",
      "Tickers selected: ['KMX', 'REGN', 'EXPD', 'EBAY', 'CTSH', 'AZO', 'APA', 'COO', 'EA', 'DGX', 'LH', 'BIO', 'DECK', 'APH']\n",
      "Portfolio returns: 2.84%\n",
      "Market returns: 1.09%\n",
      "\n",
      "Optimizing portfolio for 2003-11-30...\n",
      "Tickers selected: ['LEN', 'STZ', 'CTSH', 'POOL', 'QCOM', 'BBY', 'WDC', 'APA', 'BRO', 'AMGN', 'SYK', 'COR', 'LH', 'DECK', 'UNH', 'MCO', 'REGN', 'KMX', 'TTWO']\n",
      "Portfolio returns: 3.15%\n",
      "Market returns: 5.03%\n",
      "\n",
      "Optimizing portfolio for 2003-12-31...\n",
      "Tickers selected: ['GILD', 'POOL', 'MKC', 'DGX', 'AZO', 'APA', 'DECK', 'QCOM', 'J', 'AJG', 'TTWO', 'UNH', 'ZBRA', 'EBAY', 'BIIB', 'APH', 'REGN', 'CTSH', 'EA', 'COO', 'BRO']\n",
      "Portfolio returns: 3.17%\n",
      "Market returns: 1.98%\n",
      "\n",
      "Optimizing portfolio for 2004-01-31...\n",
      "Tickers selected: ['FCX', 'UNH', 'COO', 'EBAY', 'KMX', 'GEN', 'REGN', 'NVDA', 'BIIB', 'TRMB', 'ODFL', 'APA']\n",
      "Portfolio returns: 3.90%\n",
      "Market returns: 1.36%\n",
      "\n",
      "Optimizing portfolio for 2004-02-29...\n",
      "Tickers selected: ['TTWO', 'LH', 'ODFL', 'TSCO', 'POOL', 'WRB', 'GEN', 'VLO', 'DECK', 'BIO', 'APA', 'SJM', 'SYY', 'OXY', 'CTSH', 'SBUX', 'DVA', 'QCOM', 'COR', 'MKC', 'EG', 'UNH', 'COO', 'REGN']\n",
      "Portfolio returns: 3.75%\n",
      "Market returns: -1.32%\n",
      "\n",
      "Optimizing portfolio for 2004-03-31...\n",
      "Tickers selected: ['NVR', 'DECK', 'TSCO', 'DVA', 'AZO', 'CTSH', 'ODFL', 'UNH', 'WRB', 'REG', 'DGX', 'NVDA', 'BSX', 'APA', 'COO']\n",
      "Portfolio returns: -6.66%\n",
      "Market returns: -1.89%\n",
      "\n",
      "Optimizing portfolio for 2004-04-30...\n",
      "Tickers selected: ['ARE', 'UNH', 'TSCO', 'POOL', 'BIIB', 'CTSH', 'SPG', 'LH', 'DECK', 'REGN', 'GEN', 'HRL', 'AZO', 'FAST']\n",
      "Portfolio returns: 2.48%\n",
      "Market returns: 1.71%\n",
      "\n",
      "Optimizing portfolio for 2004-05-31...\n",
      "Tickers selected: ['PHM', 'GEN', 'REGN', 'COO', 'WDC', 'MNST', 'NVDA', 'AZO', 'VLO', 'ODFL', 'NVR', 'TRMB', 'WRB', 'MKC', 'BIIB']\n",
      "Portfolio returns: 2.28%\n",
      "Market returns: 1.85%\n",
      "\n",
      "Optimizing portfolio for 2004-06-30...\n",
      "Tickers selected: ['DGX', 'WRB', 'BALL', 'STZ', 'RMD', 'POOL', 'MNST', 'DECK', 'TSCO', 'NVR', 'COO', 'SBAC', 'EOG', 'CTSH', 'O', 'REG', 'ESS', 'BSX', 'TECH', 'BIO', 'NEM', 'VTR', 'FFIV']\n",
      "Portfolio returns: -2.68%\n",
      "Market returns: -3.22%\n",
      "\n",
      "Optimizing portfolio for 2004-07-31...\n",
      "Tickers selected: ['DGX', 'ZBRA', 'MNST', 'NEM', 'EG', 'TSCO', 'KMX', 'CTSH', 'BIO', 'GEN', 'COO', 'PHM', 'JBHT', 'DVA']\n",
      "Portfolio returns: 1.36%\n",
      "Market returns: 0.24%\n",
      "\n",
      "Optimizing portfolio for 2004-08-31...\n",
      "Tickers selected: ['DGX', 'BALL', 'BIIB', 'REGN', 'EBAY', 'NVR', 'DVA', 'DOC', 'COO', 'ODFL', 'ETR', 'GEN', 'CTSH', 'TSCO', 'APH', 'NEM', 'LHX', 'SPG', 'DECK', 'TRMB', 'VTR', 'AJG']\n",
      "Portfolio returns: 4.19%\n",
      "Market returns: 1.00%\n",
      "\n",
      "Optimizing portfolio for 2004-09-30...\n",
      "Tickers selected: ['LH', 'KMX', 'PCAR', 'TECH', 'UHS', 'WRB', 'NVR', 'TRMB', 'JNPR', 'DECK', 'GILD', 'TSCO', 'TTWO', 'SBAC', 'HOLX', 'EOG', 'REGN', 'SPG', 'HSIC', 'MHK', 'ETR']\n",
      "Portfolio returns: 5.08%\n",
      "Market returns: 1.29%\n",
      "\n",
      "Optimizing portfolio for 2004-10-31...\n",
      "Tickers selected: ['DGX', 'VLO', 'KMX', 'MCO', 'MNST', 'TSCO', 'CTSH', 'REGN', 'FRT', 'DVA', 'NVR', 'SBAC', 'HOLX', 'VTR']\n",
      "Portfolio returns: 7.05%\n",
      "Market returns: 4.45%\n",
      "\n",
      "Optimizing portfolio for 2004-11-30...\n",
      "Tickers selected: ['DGX', 'KMX', 'TSCO', 'SPG', 'POOL', 'REGN', 'VLO', 'DVA', 'ODFL', 'PCAR', 'WDC', 'VTR', 'SBAC', 'DECK', 'MNST', 'ADSK', 'NVR']\n",
      "Portfolio returns: 6.44%\n",
      "Market returns: 3.01%\n",
      "\n",
      "Optimizing portfolio for 2004-12-31...\n",
      "Tickers selected: ['DGX', 'SPG', 'DVA', 'IDXX', 'DOC', 'TSCO', 'REGN', 'JBHT', 'VLO', 'KMX', 'UNH', 'GEN', 'NVR', 'SBAC', 'DECK']\n",
      "Portfolio returns: -3.11%\n",
      "Market returns: -2.24%\n",
      "\n",
      "Optimizing portfolio for 2005-01-31...\n",
      "Tickers selected: ['BLK', 'TSCO', 'KMX', 'DVA', 'PGR', 'FFIV', 'SPG', 'REGN', 'LH', 'MNST', 'ETR', 'VTR', 'UNH', 'NVR', 'VLO', 'DECK', 'WELL', 'HSIC', 'BIO', 'BRO']\n",
      "Portfolio returns: 2.38%\n",
      "Market returns: 2.09%\n",
      "\n",
      "Optimizing portfolio for 2005-02-28...\n",
      "Tickers selected: ['CAG', 'NVR', 'FFIV', 'MNST', 'ROST', 'COO', 'WELL', 'ODFL', 'BALL', 'CTSH', 'MO', 'WDC', 'EOG', 'BLK', 'KMX', 'TSCO']\n",
      "Portfolio returns: -2.51%\n",
      "Market returns: -1.83%\n",
      "\n",
      "Optimizing portfolio for 2005-03-31...\n",
      "Tickers selected: ['DGX', 'BIIB', 'VTR', 'BIO', 'COO', 'ROL', 'DVA', 'UNH', 'SPG', 'ODFL', 'FDX', 'TSCO', 'EOG', 'MO', 'MNST', 'LMT', 'VLO', 'FFIV', 'WRB', 'NVR', 'CTSH', 'GILD', 'STZ', 'BRO', 'ETR', 'BALL']\n",
      "Portfolio returns: -1.55%\n",
      "Market returns: -1.87%\n",
      "\n",
      "Optimizing portfolio for 2005-04-30...\n",
      "Tickers selected: ['LHX', 'ETR', 'O', 'PSA', 'CTSH', 'WELL', 'WRB', 'REG', 'LMT', 'FDX', 'MCO', 'BIIB', 'HSIC', 'MNST', 'SBUX', 'WDC', 'SYK', 'J', 'AZO', 'BLK', 'K', 'EW', 'STE', 'SPG', 'COO', 'ATO', 'DVA', 'GILD', 'UDR', 'BRO', 'ARE', 'FFIV', 'CHD', 'TTWO', 'COR', 'PGR', 'ROL', 'TSCO', 'UNH', 'MKC', 'BSX', 'ODFL', 'STZ', 'HSY', 'VTR', 'ROST', 'SO', 'BALL', 'GEN', 'NOC']\n",
      "Portfolio returns: 4.12%\n",
      "Market returns: 3.22%\n",
      "\n",
      "Optimizing portfolio for 2005-05-31...\n",
      "Tickers selected: ['KIM', 'WRB', 'STZ', 'ETR', 'PSA', 'CTSH', 'BALL', 'MNST', 'FFIV', 'VLO', 'NVR', 'BIIB', 'BLK', 'VTR', 'YUM', 'IDXX', 'SYK', 'SPG', 'FDX', 'CHD', 'HSIC', 'LMT', 'UNH', 'WELL', 'BRO', 'ABT', 'J', 'AZO', 'ODFL', 'WDC', 'GILD', 'FE', 'COO', 'ANSS', 'HSY', 'BSX', 'STE', 'REG', 'SJM', 'SBUX', 'TSCO', 'EW', 'DVA', 'ROL']\n",
      "Portfolio returns: 1.96%\n",
      "Market returns: 0.15%\n",
      "\n",
      "Optimizing portfolio for 2005-06-30...\n",
      "Tickers selected: ['LHX', 'WDC', 'RF', 'VTR', 'DVA', 'CTSH', 'STE', 'VLO', 'TYL', 'SPG', 'WRB', 'ISRG', 'NVR', 'STZ', 'ODFL']\n",
      "Portfolio returns: 8.45%\n",
      "Market returns: 3.83%\n",
      "\n",
      "Optimizing portfolio for 2005-07-31...\n",
      "Tickers selected: ['LHX', 'WRB', 'WDC', 'KMX', 'TSCO', 'DECK', 'DVA', 'MHK', 'ISRG', 'TTWO', 'LEN', 'CTSH', 'TYL', 'SPG', 'CTRA', 'ODFL', 'ATO']\n",
      "Portfolio returns: -2.91%\n",
      "Market returns: -0.94%\n",
      "\n",
      "Optimizing portfolio for 2005-08-31...\n",
      "Tickers selected: ['VLO', 'WRB', 'BRO', 'VTR', 'GEN', 'NVR', 'KMX', 'HSY', 'DVA', 'ODFL', 'FFIV', 'WDC', 'TSCO', 'PCAR', 'HUM']\n",
      "Portfolio returns: 1.79%\n",
      "Market returns: 0.80%\n",
      "\n",
      "Optimizing portfolio for 2005-09-30...\n",
      "Tickers selected: ['DECK', 'KMX', 'ORLY', 'MNST', 'TSCO', 'DVA', 'ANSS', 'VLO', 'CTSH', 'PPL', 'TRMB', 'HOLX', 'ADSK', 'SPG']\n",
      "Portfolio returns: -2.02%\n",
      "Market returns: -2.37%\n",
      "\n",
      "Optimizing portfolio for 2005-10-31...\n",
      "Tickers selected: ['PSA', 'TPR', 'SBUX', 'MNST', 'TSCO', 'POOL', 'VTR', 'VLO', 'FCX']\n",
      "Portfolio returns: 9.18%\n",
      "Market returns: 4.40%\n",
      "\n",
      "Optimizing portfolio for 2005-11-30...\n",
      "Tickers selected: ['LHX', 'TPR', 'ANSS', 'AAPL', 'TSCO', 'VTR', 'WRB', 'SO', 'ROL', 'AZO', 'CHD', 'BALL', 'VLO', 'PG', 'ODFL', 'NVR', 'NSC', 'GILD', 'HOLX', 'GEN', 'MNST']\n",
      "Portfolio returns: 0.60%\n",
      "Market returns: -0.19%\n",
      "\n",
      "Optimizing portfolio for 2005-12-31...\n"
     ]
    },
    {
     "name": "stderr",
     "output_type": "stream",
     "text": [
      "c:\\Users\\Yang\\Documents\\Projects\\funance_blog\\venv\\lib\\site-packages\\statsmodels\\tsa\\statespace\\sarimax.py:966: UserWarning: Non-stationary starting autoregressive parameters found. Using zeros as starting parameters.\n",
      "  warn('Non-stationary starting autoregressive parameters'\n",
      "c:\\Users\\Yang\\Documents\\Projects\\funance_blog\\venv\\lib\\site-packages\\statsmodels\\tsa\\statespace\\sarimax.py:978: UserWarning: Non-invertible starting MA parameters found. Using zeros as starting parameters.\n",
      "  warn('Non-invertible starting MA parameters found.'\n"
     ]
    },
    {
     "name": "stdout",
     "output_type": "stream",
     "text": [
      "Tickers selected: ['DECK', 'ISRG', 'TSCO', 'ROST', 'MCO', 'GILD', 'VTR', 'HOLX', 'HSIC', 'MNST', 'VLO']\n",
      "Portfolio returns: 3.81%\n",
      "Market returns: 2.40%\n",
      "\n",
      "Optimizing portfolio for 2006-01-31...\n",
      "Tickers selected: ['TSCO', 'ADSK', 'GEN', 'MNST', 'REG', 'OXY', 'VTRS', 'FE', 'VTR', 'BLK', 'MO', 'SO', 'VLO', 'BSX', 'WRB', 'ODFL', 'IRM', 'MTB', 'BRO', 'MCO', 'CLX', 'MRK', 'ANSS', 'GILD', 'HSIC', 'NEM', 'ROL', 'ISRG']\n",
      "Portfolio returns: 4.11%\n",
      "Market returns: 0.57%\n",
      "\n",
      "Optimizing portfolio for 2006-02-28...\n",
      "Tickers selected: ['LEN', 'FFIV', 'HOLX', 'VTR', 'KMX', 'SJM', 'BLK', 'TYL', 'ISRG', 'STZ', 'TTWO', 'DVA', 'PCG', 'LHX', 'MNST', 'APA', 'NEM', 'ANSS']\n",
      "Portfolio returns: 6.81%\n",
      "Market returns: 1.65%\n",
      "\n",
      "Optimizing portfolio for 2006-03-31...\n",
      "Tickers selected: ['MCO', 'REG', 'CLX', 'TSCO', 'HUM', 'WRB', 'GILD', 'FFIV', 'VLO', 'MNST', 'HOLX', 'BRO']\n",
      "Portfolio returns: -4.57%\n",
      "Market returns: 1.26%\n",
      "\n",
      "Optimizing portfolio for 2006-04-30...\n",
      "Tickers selected: ['VLO', 'VTR', 'TSCO', 'ECL', 'TYL', 'AZO', 'BRO', 'MNST', 'WEC', 'WRB', 'ODFL', 'DECK', 'ISRG', 'HUM']\n",
      "Portfolio returns: 0.22%\n",
      "Market returns: -3.01%\n",
      "\n",
      "Optimizing portfolio for 2006-05-31...\n",
      "Tickers selected: ['MCO', 'IDXX', 'VLO', 'ODFL', 'GILD', 'WDC', 'SPG', 'SBUX', 'TSCO', 'HOLX', 'PCG', 'MNST', 'ISRG', 'ETR', 'HSIC', 'HUM', 'TYL']\n",
      "Portfolio returns: 4.92%\n",
      "Market returns: 0.26%\n",
      "\n",
      "Optimizing portfolio for 2006-06-30...\n",
      "Tickers selected: ['ANSS', 'MNST', 'MTB', 'NEM', 'REG', 'MO', 'T', 'VLO', 'JNJ', 'TSCO', 'WRB', 'HSY', 'ROK', 'ODFL', 'HUM', 'UNH', 'BALL']\n",
      "Portfolio returns: 1.60%\n",
      "Market returns: 0.45%\n",
      "\n",
      "Optimizing portfolio for 2006-07-31...\n",
      "Tickers selected: ['TPR', 'DVA', 'TDY', 'VTR', 'ISRG', 'TYL', 'ETR', 'FCX', 'AAPL', 'HOLX', 'ZBH', 'CTSH', 'MNST', 'ECL', 'MCO', 'PG', 'WRB']\n",
      "Portfolio returns: 2.70%\n",
      "Market returns: 2.18%\n",
      "\n",
      "Optimizing portfolio for 2006-08-31...\n",
      "Tickers selected: ['TPR', 'ODFL', 'MNST', 'HSY', 'VTR', 'SBAC', 'HUM', 'FCX', 'BRO', 'VLO', 'ALB', 'GRMN', 'TRMB', 'ADSK']\n",
      "Portfolio returns: 0.82%\n",
      "Market returns: 2.70%\n",
      "\n",
      "Optimizing portfolio for 2006-09-30...\n",
      "Tickers selected: ['PHM', 'WDC', 'VTR', 'ISRG', 'DECK', 'ALGN', 'ECL', 'ADM', 'STLD', 'EIX', 'HOLX', 'MNST']\n",
      "Portfolio returns: 3.81%\n",
      "Market returns: 3.15%\n",
      "\n",
      "Optimizing portfolio for 2006-10-31...\n",
      "Tickers selected: ['CTSH', 'FRT', 'MNST', 'WRB', 'TPR', 'HOLX', 'VLO', 'HUM', 'EIX', 'JBHT', 'BG', 'WST']\n",
      "Portfolio returns: 2.79%\n",
      "Market returns: 1.99%\n",
      "\n",
      "Optimizing portfolio for 2006-11-30...\n",
      "Tickers selected: ['WST', 'FRT', 'TPR', 'JBHT', 'GILD', 'CTSH', 'DECK', 'RSG', 'VLO', 'MCO', 'MNST', 'GRMN', 'BLK']\n",
      "Portfolio returns: 1.33%\n",
      "Market returns: 1.34%\n",
      "\n",
      "Optimizing portfolio for 2006-12-31...\n",
      "Tickers selected: ['TPR', 'EIX', 'FRT', 'ODFL', 'WST', 'HUM', 'BG', 'ZBH', 'AMT', 'MNST', 'ALGN', 'BLK', 'TTWO', 'SBAC', 'PG', 'SPGI', 'PRU', 'CTSH', 'SBUX', 'MGM', 'AFL']\n",
      "Portfolio returns: 7.12%\n",
      "Market returns: 1.50%\n",
      "\n",
      "Optimizing portfolio for 2007-01-31...\n",
      "Tickers selected: ['CTSH', 'AKAM', 'BXP', 'MNST', 'ALB', 'ODFL', 'TPR', 'CHRW', 'VLO', 'IDXX', 'WST']\n",
      "Portfolio returns: -0.53%\n",
      "Market returns: -1.96%\n",
      "\n",
      "Optimizing portfolio for 2007-02-28...\n",
      "Tickers selected: ['TPR', 'CTSH', 'SBAC', 'VTR', 'CHD', 'GRMN', 'JBHT', 'MNST', 'PRU', 'VLO', 'HUM', 'ADSK', 'ODFL', 'TRMB', 'MCO']\n",
      "Portfolio returns: -0.97%\n",
      "Market returns: 1.16%\n",
      "\n",
      "Optimizing portfolio for 2007-03-31...\n",
      "Tickers selected: ['MNST', 'HUM', 'AKAM', 'AAPL', 'GEN', 'FRT', 'CNC', 'ISRG', 'EIX', 'OKE', 'TPR', 'STLD', 'SBAC', 'SBUX']\n",
      "Portfolio returns: 1.32%\n",
      "Market returns: 4.43%\n",
      "\n",
      "Optimizing portfolio for 2007-04-30...\n"
     ]
    },
    {
     "name": "stderr",
     "output_type": "stream",
     "text": [
      "c:\\Users\\Yang\\Documents\\Projects\\funance_blog\\venv\\lib\\site-packages\\statsmodels\\tsa\\statespace\\sarimax.py:966: UserWarning: Non-stationary starting autoregressive parameters found. Using zeros as starting parameters.\n",
      "  warn('Non-stationary starting autoregressive parameters'\n",
      "c:\\Users\\Yang\\Documents\\Projects\\funance_blog\\venv\\lib\\site-packages\\statsmodels\\tsa\\statespace\\sarimax.py:978: UserWarning: Non-invertible starting MA parameters found. Using zeros as starting parameters.\n",
      "  warn('Non-invertible starting MA parameters found.'\n"
     ]
    },
    {
     "name": "stdout",
     "output_type": "stream",
     "text": [
      "Tickers selected: ['CTSH', 'ALGN', 'ECL', 'K', 'AAPL', 'OXY', 'BLK', 'VLO', 'SPG', 'PRU', 'IFF', 'GRMN', 'TPR', 'MCO', 'SBAC', 'SYK', 'SRE', 'MCK', 'MNST', 'MGM', 'GILD', 'BALL', 'CHRW', 'BXP', 'BG', 'HSY', 'HRL']\n",
      "Portfolio returns: 1.17%\n",
      "Market returns: 3.39%\n",
      "\n",
      "Optimizing portfolio for 2007-05-31...\n"
     ]
    },
    {
     "name": "stderr",
     "output_type": "stream",
     "text": [
      "c:\\Users\\Yang\\Documents\\Projects\\funance_blog\\venv\\lib\\site-packages\\statsmodels\\tsa\\statespace\\sarimax.py:978: UserWarning: Non-invertible starting MA parameters found. Using zeros as starting parameters.\n",
      "  warn('Non-invertible starting MA parameters found.'\n"
     ]
    },
    {
     "name": "stdout",
     "output_type": "stream",
     "text": [
      "Tickers selected: ['TPR', 'AKAM', 'SPG', 'SBAC', 'WST', 'DECK', 'AAPL']\n",
      "Portfolio returns: -5.31%\n",
      "Market returns: -1.46%\n",
      "\n",
      "Optimizing portfolio for 2007-06-30...\n",
      "Tickers selected: ['LHX', 'EQT', 'BAC', 'MNST', 'MGM', 'MO', 'VTR', 'EQIX', 'PPL', 'AAPL', 'SBAC', 'DECK', 'AFL', 'AKAM', 'PCAR', 'AMT', 'GRMN', 'COO', 'HUM']\n",
      "Portfolio returns: -2.24%\n",
      "Market returns: -3.13%\n",
      "\n",
      "Optimizing portfolio for 2007-07-31...\n",
      "Tickers selected: ['SBAC', 'MNST']\n",
      "Portfolio returns: 6.44%\n",
      "Market returns: 1.28%\n",
      "\n",
      "Optimizing portfolio for 2007-08-31...\n",
      "Tickers selected: ['ALGN', 'MNST', 'ISRG', 'CCI', 'TYL', 'FRT', 'BG', 'ADSK', 'DVA', 'SBAC', 'VLO', 'GPN', 'EIX', 'CHD', 'MCK', 'AAPL', 'TPR', 'ECL', 'AMZN']\n",
      "Portfolio returns: 10.09%\n",
      "Market returns: 3.87%\n",
      "\n",
      "Optimizing portfolio for 2007-09-30...\n",
      "Tickers selected: ['SBAC', 'NDAQ', 'KIM', 'ALGN', 'MNST', 'AAPL', 'GLW', 'ADSK', 'SYK', 'WMB', 'ANSS', 'EIX', 'ISRG', 'HUM', 'GRMN', 'BKNG', 'CCI', 'RMD']\n",
      "Portfolio returns: 8.06%\n",
      "Market returns: 1.36%\n",
      "\n",
      "Optimizing portfolio for 2007-10-31...\n",
      "Tickers selected: ['LHX', 'FDS', 'MGM', 'ESS', 'TRMB', 'BLK', 'GPN', 'AES', 'PEP', 'SBAC', 'ISRG', 'AAPL', 'GRMN', 'MNST', 'WMB', 'MCK', 'IRM', 'FCX', 'NDAQ']\n",
      "Portfolio returns: -3.59%\n",
      "Market returns: -3.87%\n",
      "\n",
      "Optimizing portfolio for 2007-11-30...\n",
      "Tickers selected: ['LHX', 'SBAC', 'NDAQ', 'MNST', 'APD', 'WMB', 'ANSS', 'PPL', 'EIX', 'WYNN', 'FCX', 'GRMN', 'DECK', 'AMZN']\n",
      "Portfolio returns: 0.17%\n",
      "Market returns: -1.13%\n",
      "\n",
      "Optimizing portfolio for 2007-12-31...\n",
      "Tickers selected: ['AAPL', 'VTR', 'BKNG', 'TRMB', 'ISRG', 'J', 'SBAC', 'ADSK', 'CMI', 'ALGN', 'MNST', 'WMB', 'MCK', 'NDAQ', 'IRM', 'HUM', 'PPL', 'GRMN', 'WYNN', 'MOS', 'ANSS']\n",
      "Portfolio returns: -11.18%\n",
      "Market returns: -6.05%\n",
      "\n",
      "Optimizing portfolio for 2008-01-31...\n",
      "Tickers selected: ['AAPL', 'VTR', 'USB', 'AKAM', 'MOS', 'CME', 'OXY', 'CSX', 'BRO', 'WST', 'TDY', 'BG', 'CHD', 'EVRG', 'VLO', 'MNST', 'BA', 'MO', 'ROL', 'WMB', 'HUM']\n",
      "Portfolio returns: -3.48%\n",
      "Market returns: -2.58%\n",
      "\n",
      "Optimizing portfolio for 2008-02-29...\n",
      "Tickers selected: ['HES', 'EIX', 'FE', 'VLO', 'EXC', 'CME', 'EOG', 'BG', 'MNST', 'MOS', 'PPL', 'ADM', 'ODFL', 'HUM', 'ISRG', 'CHD']\n",
      "Portfolio returns: -3.31%\n",
      "Market returns: -0.89%\n",
      "\n",
      "Optimizing portfolio for 2008-03-31...\n",
      "Tickers selected: ['BLK', 'ISRG', 'VTR', 'BKNG', 'MOS', 'MNST', 'CME', 'EXC', 'AAPL', 'HES', 'MO']\n",
      "Portfolio returns: 4.74%\n",
      "Market returns: 4.77%\n",
      "\n",
      "Optimizing portfolio for 2008-04-30...\n",
      "Tickers selected: ['HUM', 'MNST', 'VTR', 'ISRG', 'AAPL', 'CSX', 'HES', 'BG', 'NDAQ', 'TDY', 'EXC', 'WYNN']\n",
      "Portfolio returns: 4.29%\n",
      "Market returns: 1.51%\n",
      "\n",
      "Optimizing portfolio for 2008-05-31...\n",
      "Tickers selected: ['JNJ', 'HUM', 'MCK', 'EXC', 'CMI', 'HES', 'OXY', 'K', 'BLK', 'AFL', 'PEP', 'ISRG', 'JBHT', 'FE', 'CME', 'MNST', 'BIIB', 'CHD', 'BKNG', 'EMN', 'GILD', 'PEG', 'FMC', 'LIN', 'BG', 'IDXX', 'AAPL', 'ABT', 'BAX', 'MO', 'EIX', 'EQT', 'RMD', 'MOS', 'EXPD']\n",
      "Portfolio returns: -3.55%\n",
      "Market returns: -8.36%\n",
      "\n",
      "Optimizing portfolio for 2008-06-30...\n"
     ]
    },
    {
     "name": "stderr",
     "output_type": "stream",
     "text": [
      "c:\\Users\\Yang\\Documents\\Projects\\funance_blog\\venv\\lib\\site-packages\\statsmodels\\tsa\\statespace\\sarimax.py:966: UserWarning: Non-stationary starting autoregressive parameters found. Using zeros as starting parameters.\n",
      "  warn('Non-stationary starting autoregressive parameters'\n",
      "c:\\Users\\Yang\\Documents\\Projects\\funance_blog\\venv\\lib\\site-packages\\statsmodels\\tsa\\statespace\\sarimax.py:978: UserWarning: Non-invertible starting MA parameters found. Using zeros as starting parameters.\n",
      "  warn('Non-invertible starting MA parameters found.'\n"
     ]
    },
    {
     "name": "stdout",
     "output_type": "stream",
     "text": [
      "Tickers selected: ['AAPL', 'ANSS', 'WAB', 'NDAQ', 'VRTX', 'EMN', 'ISRG', 'WYNN', 'VRSN', 'CHRW', 'MNST', 'IDXX', 'EQIX', 'DECK', 'AMZN', 'APH']\n",
      "Portfolio returns: 3.08%\n",
      "Market returns: -0.90%\n",
      "\n",
      "Optimizing portfolio for 2008-07-31...\n",
      "Tickers selected: ['FMC', 'PNC', 'EXC', 'COP', 'PSA', 'HES', 'GILD', 'VLO', 'SLB', 'VTR', 'EOG', 'CSX', 'MOS', 'HUM', 'HRL', 'LH', 'MNST', 'MO', 'EIX', 'NEE', 'ISRG', 'GEN', 'WST', 'DGX', 'CHD', 'BLK', 'RMD', 'WMB', 'SRE', 'PPL', 'PEG', 'TDY']\n",
      "Portfolio returns: 0.94%\n",
      "Market returns: 1.55%\n",
      "\n",
      "Optimizing portfolio for 2008-08-31...\n",
      "Tickers selected: ['FMC', 'TDY', 'BXP', 'VTR', 'EIX', 'COP', 'CSX', 'CTRA', 'SLB', 'DGX', 'HUM', 'BLK', 'GEN', 'PEG', 'SRE', 'GILD', 'ISRG', 'CHD', 'EXC', 'MNST', 'HES', 'HRL', 'LH', 'RMD', 'FE', 'NSC', 'JBHT', 'IDXX', 'BAX', 'VLO', 'WST', 'SBAC', 'MOS', 'TYL']\n",
      "Portfolio returns: -10.67%\n",
      "Market returns: -9.42%\n",
      "\n",
      "Optimizing portfolio for 2008-09-30...\n",
      "Tickers selected: ['MOS', 'WFC', 'VRTX', 'VLO', 'ISRG', 'WST', 'DUK', 'ACGL', 'MNST', 'VTR', 'ROL']\n",
      "Portfolio returns: -14.77%\n",
      "Market returns: -16.52%\n",
      "\n",
      "Optimizing portfolio for 2008-10-31...\n"
     ]
    },
    {
     "name": "stderr",
     "output_type": "stream",
     "text": [
      "c:\\Users\\Yang\\Documents\\Projects\\funance_blog\\venv\\lib\\site-packages\\statsmodels\\tsa\\statespace\\sarimax.py:978: UserWarning: Non-invertible starting MA parameters found. Using zeros as starting parameters.\n",
      "  warn('Non-invertible starting MA parameters found.'\n"
     ]
    },
    {
     "name": "stdout",
     "output_type": "stream",
     "text": [
      "Tickers selected: ['TFC', 'TSCO', 'ODFL']\n",
      "Portfolio returns: -17.26%\n",
      "Market returns: -6.96%\n",
      "\n",
      "Optimizing portfolio for 2008-11-30...\n"
     ]
    },
    {
     "name": "stderr",
     "output_type": "stream",
     "text": [
      "c:\\Users\\Yang\\Documents\\Projects\\funance_blog\\venv\\lib\\site-packages\\statsmodels\\tsa\\statespace\\sarimax.py:966: UserWarning: Non-stationary starting autoregressive parameters found. Using zeros as starting parameters.\n",
      "  warn('Non-stationary starting autoregressive parameters'\n",
      "c:\\Users\\Yang\\Documents\\Projects\\funance_blog\\venv\\lib\\site-packages\\statsmodels\\tsa\\statespace\\sarimax.py:978: UserWarning: Non-invertible starting MA parameters found. Using zeros as starting parameters.\n",
      "  warn('Non-invertible starting MA parameters found.'\n"
     ]
    },
    {
     "name": "stdout",
     "output_type": "stream",
     "text": [
      "Tickers selected: ['ACGL', 'ISRG', 'JPM', 'SRE', 'DUK', 'CTRA', 'BKNG', 'CHRW', 'MNST', 'CHD', 'T', 'HES', 'ABT', 'AAPL', 'SHW', 'VRTX', 'BAX', 'DVA', 'NDAQ', 'MCD', 'AON', 'CB', 'LH', 'GILD', 'WRB', 'EXC', 'MOS', 'ADM', 'ROL', 'CME']\n",
      "Portfolio returns: 2.69%\n",
      "Market returns: 0.98%\n",
      "\n",
      "Optimizing portfolio for 2008-12-31...\n",
      "Tickers selected: ['AAPL', 'EXC', 'CTRA', 'CHD', 'PCG', 'WST', 'ACGL', 'CVX', 'VRTX', 'MNST', 'BAX', 'CB', 'TAP', 'MOS', 'CHRW', 'ROL', 'BKNG', 'CME', 'KR', 'HES', 'ADM', 'MCD', 'DUK', 'ISRG', 'GILD']\n",
      "Portfolio returns: -3.14%\n",
      "Market returns: -8.21%\n",
      "\n",
      "Optimizing portfolio for 2009-01-31...\n",
      "Tickers selected: ['ODFL']\n",
      "Portfolio returns: -13.12%\n",
      "Market returns: -10.74%\n",
      "\n",
      "Optimizing portfolio for 2009-02-28...\n",
      "Tickers selected: ['ODFL']\n",
      "Portfolio returns: 7.80%\n",
      "Market returns: 8.33%\n",
      "\n",
      "Optimizing portfolio for 2009-03-31...\n",
      "Tickers selected: ['BLK', 'LKQ', 'AAPL', 'DRI', 'TSCO', 'AZO', 'LH', 'BAX', 'JPM', 'ORLY', 'HUM', 'TYL', 'ODFL', 'VRTX', 'CHD', 'WRB', 'MNST', 'CME', 'EW', 'MO', 'GILD', 'DLTR', 'BKNG', 'CHRW', 'ISRG', 'ROL', 'SBAC']\n",
      "Portfolio returns: 7.38%\n",
      "Market returns: 9.93%\n",
      "\n",
      "Optimizing portfolio for 2009-04-30...\n",
      "Tickers selected: ['PSA', 'ODFL', 'WFC', 'ACGL', 'VRTX', 'WRB', 'MNST', 'ROL']\n",
      "Portfolio returns: 13.71%\n",
      "Market returns: 5.85%\n",
      "\n",
      "Optimizing portfolio for 2009-05-31...\n",
      "Tickers selected: ['SO', 'CB', 'ROL', 'DUK', 'CHD', 'GIS', 'ISRG', 'KR', 'CHRW', 'VRTX', 'ODFL', 'VTR', 'CPB', 'GILD', 'TDY', 'WFC', 'MO', 'NDAQ', 'WRB', 'MNST', 'SHW', 'CME', 'CLX']\n",
      "Portfolio returns: 1.98%\n",
      "Market returns: -0.07%\n",
      "\n",
      "Optimizing portfolio for 2009-06-30...\n",
      "Tickers selected: ['HES', 'AAPL', 'BKNG', 'EOG', 'GILD', 'LKQ', 'ISRG', 'VRTX', 'MNST', 'MOS', 'MCD', 'NDAQ']\n",
      "Portfolio returns: 6.91%\n",
      "Market returns: 7.46%\n",
      "\n",
      "Optimizing portfolio for 2009-07-31...\n",
      "Tickers selected: ['SBAC', 'BDX', 'DUK', 'PEG', 'JPM', 'MNST', 'MCD', 'SCHW', 'HUM', 'SRE', 'BKNG', 'CSX', 'WDC', 'CME', 'DLTR', 'KO', 'ISRG', 'ORLY', 'NDAQ', 'ADM', 'CHD', 'VRTX', 'DGX', 'LKQ', 'ETR', 'KR', 'GILD', 'BG', 'BAX', 'AAPL']\n",
      "Portfolio returns: 1.81%\n",
      "Market returns: 3.69%\n",
      "\n",
      "Optimizing portfolio for 2009-08-31...\n",
      "Tickers selected: ['VRTX', 'CHD', 'TRV', 'WFC', 'BKNG', 'CHRW', 'GILD', 'ISRG', 'WST', 'ODFL', 'ACGL', 'REGN', 'MO', 'NDAQ', 'MNST', 'SHW']\n",
      "Portfolio returns: 1.91%\n",
      "Market returns: 3.55%\n",
      "\n",
      "Optimizing portfolio for 2009-09-30...\n",
      "Tickers selected: ['AAPL', 'WST', 'GIS', 'WEC', 'EXC', 'VRTX', 'D', 'J', 'GPN', 'DECK', 'EOG', 'GILD', 'CPB', 'AON', 'ACGL', 'HOLX', 'CHD', 'ETR', 'MOS', 'BAX', 'FE', 'MNST', 'NDAQ']\n",
      "Portfolio returns: -3.11%\n",
      "Market returns: -1.92%\n",
      "\n",
      "Optimizing portfolio for 2009-10-31...\n",
      "Tickers selected: ['AMZN', 'VRTX', 'BKNG', 'ORLY', 'NFLX', 'MNST', 'TYL']\n",
      "Portfolio returns: 15.25%\n",
      "Market returns: 6.16%\n",
      "\n",
      "Optimizing portfolio for 2009-11-30...\n",
      "Tickers selected: ['AAPL', 'CTRA', 'MCD', 'GPN', 'LKQ', 'OXY', 'BKNG', 'CL', 'GOOGL', 'CPB', 'NDAQ', 'VRTX', 'DUK', 'EW', 'GILD', 'KO', 'CHD', 'MO', 'KR', 'MNST', 'TRV', 'NFLX', 'ISRG', 'RMD', 'ADM', 'REGN', 'MOS', 'BAX', 'GIS', 'AON', 'ACGL', 'D']\n",
      "Portfolio returns: 1.82%\n",
      "Market returns: 1.91%\n",
      "\n",
      "Optimizing portfolio for 2009-12-31...\n",
      "Tickers selected: ['ADM', 'OXY', 'MOS', 'AAPL', 'CHD', 'ACGL', 'BKNG', 'LKQ', 'MNST', 'AON', 'VRTX', 'EW', 'NFLX', 'REGN', 'NDAQ', 'GILD', 'ISRG']\n",
      "Portfolio returns: -0.43%\n",
      "Market returns: -3.63%\n",
      "\n",
      "Optimizing portfolio for 2010-01-31...\n",
      "Tickers selected: ['DPZ', 'ODFL', 'TYL']\n",
      "Portfolio returns: 6.53%\n",
      "Market returns: 3.12%\n",
      "\n",
      "Optimizing portfolio for 2010-02-28...\n",
      "Tickers selected: ['D', 'EOG', 'KR', 'CHD', 'ACGL', 'DUK', 'PEP', 'MNST', 'ES', 'TRV', 'SO', 'GPN', 'AON', 'GILD', 'WST', 'ETR', 'DECK', 'VRTX', 'NDAQ', 'MRK', 'BAX', 'ROP', 'NFLX', 'MOS', 'FE', 'GIS', 'MCD']\n",
      "Portfolio returns: 3.25%\n",
      "Market returns: 6.09%\n",
      "\n",
      "Optimizing portfolio for 2010-03-31...\n",
      "Tickers selected: ['AMZN', 'GOOG', 'COR', 'GILD', 'KO', 'AON', 'KR', 'LKQ', 'VRTX', 'RMD', 'BKNG', 'TYL', 'NFLX', 'EW', 'BIIB', 'CHD', 'GIS', 'REGN', 'MOS', 'DLTR', 'ISRG', 'MNST', 'AKAM', 'TRV', 'ALGN', 'MO', 'CHRW', 'CPB', 'BAX', 'AAPL', 'ACGL', 'HRL', 'MCD', 'CL']\n",
      "Portfolio returns: 1.66%\n",
      "Market returns: 1.55%\n",
      "\n",
      "Optimizing portfolio for 2010-04-30...\n",
      "Tickers selected: ['ODFL', 'TSCO', 'BKNG', 'MNST', 'TYL', 'ORLY', 'TJX', 'DPZ', 'DLTR', 'TFC', 'ROST', 'NFLX']\n",
      "Portfolio returns: -6.54%\n",
      "Market returns: -7.95%\n",
      "\n",
      "Optimizing portfolio for 2010-05-31...\n",
      "Tickers selected: ['EW', 'REGN', 'VRTX', 'MNST', 'ORLY', 'DLTR', 'AMZN', 'AKAM', 'NFLX', 'BKNG']\n",
      "Portfolio returns: -2.70%\n",
      "Market returns: -5.17%\n",
      "\n",
      "Optimizing portfolio for 2010-06-30...\n",
      "Tickers selected: ['HES', 'CVX', 'VRTX', 'EW', 'AAPL', 'CHD', 'DLTR', 'MNST', 'BKNG', 'AMZN', 'GILD', 'MOS', 'AON', 'NFLX', 'MCD', 'NEM', 'AKAM', 'EOG', 'DECK', 'LKQ']\n",
      "Portfolio returns: 5.23%\n",
      "Market returns: 6.83%\n",
      "\n",
      "Optimizing portfolio for 2010-07-31...\n"
     ]
    },
    {
     "name": "stderr",
     "output_type": "stream",
     "text": [
      "c:\\Users\\Yang\\Documents\\Projects\\funance_blog\\venv\\lib\\site-packages\\statsmodels\\tsa\\statespace\\sarimax.py:966: UserWarning: Non-stationary starting autoregressive parameters found. Using zeros as starting parameters.\n",
      "  warn('Non-stationary starting autoregressive parameters'\n",
      "c:\\Users\\Yang\\Documents\\Projects\\funance_blog\\venv\\lib\\site-packages\\statsmodels\\tsa\\statespace\\sarimax.py:978: UserWarning: Non-invertible starting MA parameters found. Using zeros as starting parameters.\n",
      "  warn('Non-invertible starting MA parameters found.'\n"
     ]
    },
    {
     "name": "stdout",
     "output_type": "stream",
     "text": [
      "Tickers selected: ['VRTX', 'HES', 'MNST', 'D', 'ES', 'ACGL', 'CHD', 'ADM', 'AAPL', 'PEP', 'ROL', 'BKNG', 'CVX', 'DLTR', 'DECK', 'MOS', 'EW', 'OXY', 'NFLX', 'REGN', 'GILD']\n",
      "Portfolio returns: 1.20%\n",
      "Market returns: -4.50%\n",
      "\n",
      "Optimizing portfolio for 2010-08-31...\n"
     ]
    },
    {
     "name": "stderr",
     "output_type": "stream",
     "text": [
      "c:\\Users\\Yang\\Documents\\Projects\\funance_blog\\venv\\lib\\site-packages\\statsmodels\\tsa\\statespace\\sarimax.py:966: UserWarning: Non-stationary starting autoregressive parameters found. Using zeros as starting parameters.\n",
      "  warn('Non-stationary starting autoregressive parameters'\n",
      "c:\\Users\\Yang\\Documents\\Projects\\funance_blog\\venv\\lib\\site-packages\\statsmodels\\tsa\\statespace\\sarimax.py:978: UserWarning: Non-invertible starting MA parameters found. Using zeros as starting parameters.\n",
      "  warn('Non-invertible starting MA parameters found.'\n"
     ]
    },
    {
     "name": "stdout",
     "output_type": "stream",
     "text": [
      "Tickers selected: ['NFLX', 'ODFL']\n",
      "Portfolio returns: 19.81%\n",
      "Market returns: 8.96%\n",
      "\n",
      "Optimizing portfolio for 2010-09-30...\n"
     ]
    },
    {
     "name": "stderr",
     "output_type": "stream",
     "text": [
      "c:\\Users\\Yang\\Documents\\Projects\\funance_blog\\venv\\lib\\site-packages\\statsmodels\\tsa\\statespace\\sarimax.py:966: UserWarning: Non-stationary starting autoregressive parameters found. Using zeros as starting parameters.\n",
      "  warn('Non-stationary starting autoregressive parameters'\n",
      "c:\\Users\\Yang\\Documents\\Projects\\funance_blog\\venv\\lib\\site-packages\\statsmodels\\tsa\\statespace\\sarimax.py:978: UserWarning: Non-invertible starting MA parameters found. Using zeros as starting parameters.\n",
      "  warn('Non-invertible starting MA parameters found.'\n"
     ]
    },
    {
     "name": "stdout",
     "output_type": "stream",
     "text": [
      "Tickers selected: ['MOS', 'MNST', 'MCD', 'LKQ', 'CHD', 'AZO', 'NEM', 'INTU', 'AKAM', 'DVA', 'DLTR', 'ES', 'WMT', 'BALL', 'VRTX', 'EW', 'GILD', 'REGN', 'LNT', 'CPB', 'AAPL', 'BKNG', 'ADM', 'ABT', 'MRK', 'MO', 'KO', 'TYL', 'SWKS', 'GIS', 'FFIV', 'AMZN', 'DECK', 'NFLX']\n",
      "Portfolio returns: 5.01%\n",
      "Market returns: 3.82%\n",
      "\n",
      "Optimizing portfolio for 2010-10-31...\n",
      "Tickers selected: ['ORLY', 'TYL', 'AMZN', 'MNST', 'CF', 'NFLX', 'DLTR', 'AAL', 'ADM', 'DECK', 'BKNG', 'AKAM', 'SWKS', 'EW']\n",
      "Portfolio returns: 5.89%\n",
      "Market returns: 0.00%\n",
      "\n",
      "Optimizing portfolio for 2010-11-30...\n",
      "Tickers selected: ['NFLX', 'MOS', 'VRTX', 'AKAM', 'BKNG', 'KR', 'MNST', 'DECK', 'CHD', 'AZO', 'DLTR', 'SWKS', 'ES', 'ADM']\n",
      "Portfolio returns: 2.13%\n",
      "Market returns: 6.69%\n",
      "\n",
      "Optimizing portfolio for 2010-12-31...\n"
     ]
    },
    {
     "name": "stderr",
     "output_type": "stream",
     "text": [
      "c:\\Users\\Yang\\Documents\\Projects\\funance_blog\\venv\\lib\\site-packages\\statsmodels\\tsa\\statespace\\sarimax.py:966: UserWarning: Non-stationary starting autoregressive parameters found. Using zeros as starting parameters.\n",
      "  warn('Non-stationary starting autoregressive parameters'\n",
      "c:\\Users\\Yang\\Documents\\Projects\\funance_blog\\venv\\lib\\site-packages\\statsmodels\\tsa\\statespace\\sarimax.py:978: UserWarning: Non-invertible starting MA parameters found. Using zeros as starting parameters.\n",
      "  warn('Non-invertible starting MA parameters found.'\n"
     ]
    },
    {
     "name": "stdout",
     "output_type": "stream",
     "text": [
      "Tickers selected: ['MOS', 'GIS', 'CHD', 'DECK', 'SHW', 'CVX', 'NFLX', 'KR', 'MCD', 'AZO', 'ODFL', 'CF', 'EW', 'MNST', 'DLTR', 'BKNG', 'WMT', 'ES', 'WST', 'SWKS', 'CPB', 'HAS']\n",
      "Portfolio returns: -0.69%\n",
      "Market returns: 2.33%\n",
      "\n",
      "Optimizing portfolio for 2011-01-31...\n"
     ]
    },
    {
     "name": "stderr",
     "output_type": "stream",
     "text": [
      "c:\\Users\\Yang\\Documents\\Projects\\funance_blog\\venv\\lib\\site-packages\\statsmodels\\tsa\\statespace\\sarimax.py:966: UserWarning: Non-stationary starting autoregressive parameters found. Using zeros as starting parameters.\n",
      "  warn('Non-stationary starting autoregressive parameters'\n",
      "c:\\Users\\Yang\\Documents\\Projects\\funance_blog\\venv\\lib\\site-packages\\statsmodels\\tsa\\statespace\\sarimax.py:978: UserWarning: Non-invertible starting MA parameters found. Using zeros as starting parameters.\n",
      "  warn('Non-invertible starting MA parameters found.'\n"
     ]
    },
    {
     "name": "stdout",
     "output_type": "stream",
     "text": [
      "Tickers selected: ['CMG', 'NFLX', 'AMZN', 'MNST', 'DLTR', 'BKNG', 'EW', 'CF', 'DECK', 'SWKS']\n",
      "Portfolio returns: 2.57%\n",
      "Market returns: 3.47%\n",
      "\n",
      "Optimizing portfolio for 2011-02-28...\n"
     ]
    },
    {
     "name": "stderr",
     "output_type": "stream",
     "text": [
      "c:\\Users\\Yang\\Documents\\Projects\\funance_blog\\venv\\lib\\site-packages\\statsmodels\\tsa\\statespace\\sarimax.py:966: UserWarning: Non-stationary starting autoregressive parameters found. Using zeros as starting parameters.\n",
      "  warn('Non-stationary starting autoregressive parameters'\n",
      "c:\\Users\\Yang\\Documents\\Projects\\funance_blog\\venv\\lib\\site-packages\\statsmodels\\tsa\\statespace\\sarimax.py:978: UserWarning: Non-invertible starting MA parameters found. Using zeros as starting parameters.\n",
      "  warn('Non-invertible starting MA parameters found.'\n"
     ]
    },
    {
     "name": "stdout",
     "output_type": "stream",
     "text": [
      "Tickers selected: ['SJM', 'CF', 'BKNG', 'ROST', 'DLTR', 'TJX', 'ODFL', 'AAL', 'EW', 'NFLX', 'MNST', 'CMG', 'TYL']\n",
      "Portfolio returns: 7.43%\n",
      "Market returns: 0.01%\n",
      "\n",
      "Optimizing portfolio for 2011-03-31...\n"
     ]
    },
    {
     "name": "stderr",
     "output_type": "stream",
     "text": [
      "c:\\Users\\Yang\\Documents\\Projects\\funance_blog\\venv\\lib\\site-packages\\statsmodels\\tsa\\statespace\\sarimax.py:966: UserWarning: Non-stationary starting autoregressive parameters found. Using zeros as starting parameters.\n",
      "  warn('Non-stationary starting autoregressive parameters'\n",
      "c:\\Users\\Yang\\Documents\\Projects\\funance_blog\\venv\\lib\\site-packages\\statsmodels\\tsa\\statespace\\sarimax.py:978: UserWarning: Non-invertible starting MA parameters found. Using zeros as starting parameters.\n",
      "  warn('Non-invertible starting MA parameters found.'\n"
     ]
    },
    {
     "name": "stdout",
     "output_type": "stream",
     "text": [
      "Tickers selected: ['AMZN', 'ODFL', 'CF', 'BKNG', 'SWKS', 'DLTR', 'NFLX', 'MNST', 'MOS', 'ORLY', 'AZO', 'EW', 'TDG']\n",
      "Portfolio returns: 2.09%\n",
      "Market returns: 2.90%\n",
      "\n",
      "Optimizing portfolio for 2011-04-30...\n"
     ]
    },
    {
     "name": "stderr",
     "output_type": "stream",
     "text": [
      "c:\\Users\\Yang\\Documents\\Projects\\funance_blog\\venv\\lib\\site-packages\\statsmodels\\tsa\\statespace\\sarimax.py:966: UserWarning: Non-stationary starting autoregressive parameters found. Using zeros as starting parameters.\n",
      "  warn('Non-stationary starting autoregressive parameters'\n",
      "c:\\Users\\Yang\\Documents\\Projects\\funance_blog\\venv\\lib\\site-packages\\statsmodels\\tsa\\statespace\\sarimax.py:978: UserWarning: Non-invertible starting MA parameters found. Using zeros as starting parameters.\n",
      "  warn('Non-invertible starting MA parameters found.'\n",
      "c:\\Users\\Yang\\Documents\\Projects\\funance_blog\\venv\\lib\\site-packages\\statsmodels\\tsa\\statespace\\sarimax.py:966: UserWarning: Non-stationary starting autoregressive parameters found. Using zeros as starting parameters.\n",
      "  warn('Non-stationary starting autoregressive parameters'\n",
      "c:\\Users\\Yang\\Documents\\Projects\\funance_blog\\venv\\lib\\site-packages\\statsmodels\\tsa\\statespace\\sarimax.py:978: UserWarning: Non-invertible starting MA parameters found. Using zeros as starting parameters.\n",
      "  warn('Non-invertible starting MA parameters found.'\n"
     ]
    },
    {
     "name": "stdout",
     "output_type": "stream",
     "text": [
      "Tickers selected: ['CF', 'AAPL', 'SJM', 'ODFL', 'NFLX', 'MNST', 'FFIV', 'DLTR', 'EW', 'AZO', 'ORLY', 'REGN', 'DECK', 'SWKS', 'AMZN', 'ES', 'CHD', 'TYL', 'BKNG', 'DVA', 'CMG', 'MO', 'MCD']\n",
      "Portfolio returns: 4.45%\n",
      "Market returns: -1.12%\n",
      "\n",
      "Optimizing portfolio for 2011-05-31...\n",
      "Tickers selected: ['AZO', 'DLTR', 'CF', 'MCD', 'REGN', 'TDG', 'NFLX', 'CMG', 'BKNG', 'UAL', 'EW']\n",
      "Portfolio returns: 0.84%\n",
      "Market returns: -1.69%\n",
      "\n",
      "Optimizing portfolio for 2011-06-30...\n",
      "Tickers selected: ['CF', 'UAL', 'DLTR', 'TDG', 'REGN', 'EW', 'MCD', 'AZO', 'NFLX', 'CHD', 'BKNG']\n",
      "Portfolio returns: -1.15%\n",
      "Market returns: -2.00%\n",
      "\n",
      "Optimizing portfolio for 2011-07-31...\n",
      "Tickers selected: ['CF', 'EW', 'TDG', 'CMG', 'SWKS', 'DLTR', 'UAL', 'ROST', 'AZO', 'TSCO', 'AMZN', 'BKNG', 'NFLX']\n",
      "Portfolio returns: 2.08%\n",
      "Market returns: -5.50%\n",
      "\n",
      "Optimizing portfolio for 2011-08-31...\n",
      "Tickers selected: ['ROST', 'AZO', 'CF', 'CMG', 'DLTR', 'NFLX', 'BKNG']\n",
      "Portfolio returns: -15.06%\n",
      "Market returns: -6.94%\n",
      "\n",
      "Optimizing portfolio for 2011-09-30...\n",
      "Tickers selected: ['BKNG', 'NFLX', 'AZO', 'DLTR', 'UAL', 'CF']\n",
      "Portfolio returns: 2.24%\n",
      "Market returns: 10.91%\n",
      "\n",
      "Optimizing portfolio for 2011-10-31...\n",
      "Tickers selected: ['MA', 'CTRA', 'CHD', 'DLTR', 'TDG', 'DUK', 'ORLY', 'CL', 'ABT', 'AAPL', 'WBD', 'MNST', 'GIS', 'NFLX', 'AMZN', 'CMG', 'REGN', 'IBM', 'BKNG', 'ISRG', 'TJX', 'WMT', 'KMB', 'MCD', 'NEM', 'MO', 'TYL', 'BMY', 'BIIB', 'DECK', 'KO', 'EW', 'CF']\n",
      "Portfolio returns: -0.14%\n",
      "Market returns: -0.41%\n",
      "\n",
      "Optimizing portfolio for 2011-11-30...\n",
      "Tickers selected: ['NFLX', 'CHD', 'CF', 'BKNG', 'TSCO', 'TDG', 'AZO', 'MNST', 'DLTR', 'MCD', 'ROL', 'REGN', 'CMG']\n",
      "Portfolio returns: 1.94%\n",
      "Market returns: 1.04%\n",
      "\n",
      "Optimizing portfolio for 2011-12-31...\n",
      "Tickers selected: ['ROST', 'ED', 'CF', 'AZO', 'DLTR', 'GIS', 'REGN', 'NFLX', 'UAL', 'MNST', 'EW', 'MCD', 'SO', 'TDG', 'ROL', 'CHD', 'CMG', 'TSCO', 'BKNG']\n",
      "Portfolio returns: 4.21%\n",
      "Market returns: 4.64%\n",
      "\n",
      "Optimizing portfolio for 2012-01-31...\n",
      "Tickers selected: ['AAPL', 'DECK', 'LNT', 'REGN', 'OKE', 'MA', 'FFIV', 'INCY', 'HUM', 'CNP', 'KO', 'BKNG', 'FCX']\n",
      "Portfolio returns: 9.83%\n",
      "Market returns: 4.34%\n",
      "\n",
      "Optimizing portfolio for 2012-02-29...\n",
      "Tickers selected: ['AAPL', 'ROST', 'UAL', 'BIIB', 'MA', 'BKNG', 'TDG', 'MNST', 'VRTX', 'NFLX', 'MO', 'BMY', 'DLTR', 'CMG', 'CHD', 'AZO']\n",
      "Portfolio returns: 4.72%\n",
      "Market returns: 3.22%\n",
      "\n",
      "Optimizing portfolio for 2012-03-31...\n",
      "Tickers selected: ['AAPL', 'TSCO', 'REGN', 'MO', 'BKNG', 'SWKS', 'WEC', 'MNST', 'NFLX', 'VRTX', 'CMG', 'AZO', 'DLTR', 'TDG', 'CHD', 'BIIB']\n",
      "Portfolio returns: 4.29%\n",
      "Market returns: -0.67%\n",
      "\n",
      "Optimizing portfolio for 2012-04-30...\n",
      "Tickers selected: ['REGN', 'CMG', 'CHD', 'MA', 'ROST', 'EW', 'DLTR', 'TSCO', 'ROL', 'MCD', 'NFLX', 'BKNG', 'CF']\n",
      "Portfolio returns: -3.35%\n",
      "Market returns: -6.01%\n",
      "\n",
      "Optimizing portfolio for 2012-05-31...\n",
      "Tickers selected: ['VRTX', 'CHD', 'EW', 'MNST', 'REGN', 'TSCO', 'DLTR', 'AAL', 'CMG', 'BKNG', 'NFLX']\n",
      "Portfolio returns: 2.71%\n",
      "Market returns: 4.06%\n",
      "\n",
      "Optimizing portfolio for 2012-06-30...\n",
      "Tickers selected: ['BIIB', 'REGN', 'ISRG', 'CHD', 'NFLX', 'MO', 'SWKS', 'AAL', 'DLTR', 'BKNG', 'CF', 'INCY']\n",
      "Portfolio returns: 0.72%\n",
      "Market returns: 1.18%\n",
      "\n",
      "Optimizing portfolio for 2012-07-31...\n"
     ]
    },
    {
     "name": "stderr",
     "output_type": "stream",
     "text": [
      "c:\\Users\\Yang\\Documents\\Projects\\funance_blog\\venv\\lib\\site-packages\\statsmodels\\tsa\\statespace\\sarimax.py:966: UserWarning: Non-stationary starting autoregressive parameters found. Using zeros as starting parameters.\n",
      "  warn('Non-stationary starting autoregressive parameters'\n",
      "c:\\Users\\Yang\\Documents\\Projects\\funance_blog\\venv\\lib\\site-packages\\statsmodels\\tsa\\statespace\\sarimax.py:978: UserWarning: Non-invertible starting MA parameters found. Using zeros as starting parameters.\n",
      "  warn('Non-invertible starting MA parameters found.'\n"
     ]
    },
    {
     "name": "stdout",
     "output_type": "stream",
     "text": [
      "Tickers selected: ['MNST', 'WMT', 'ROL', 'VRTX', 'XEL', 'ROST', 'EW', 'MKC', 'REGN', 'CHD', 'BKNG', 'DLTR', 'MCD', 'SO', 'TSCO']\n",
      "Portfolio returns: -2.21%\n",
      "Market returns: 2.51%\n",
      "\n",
      "Optimizing portfolio for 2012-08-31...\n",
      "Tickers selected: ['CHD', 'NFLX', 'ROST', 'BKNG', 'DXCM', 'DPZ', 'REGN']\n",
      "Portfolio returns: -2.70%\n",
      "Market returns: 2.54%\n",
      "\n",
      "Optimizing portfolio for 2012-09-30...\n"
     ]
    },
    {
     "name": "stderr",
     "output_type": "stream",
     "text": [
      "c:\\Users\\Yang\\Documents\\Projects\\funance_blog\\venv\\lib\\site-packages\\statsmodels\\tsa\\statespace\\sarimax.py:966: UserWarning: Non-stationary starting autoregressive parameters found. Using zeros as starting parameters.\n",
      "  warn('Non-stationary starting autoregressive parameters'\n",
      "c:\\Users\\Yang\\Documents\\Projects\\funance_blog\\venv\\lib\\site-packages\\statsmodels\\tsa\\statespace\\sarimax.py:978: UserWarning: Non-invertible starting MA parameters found. Using zeros as starting parameters.\n",
      "  warn('Non-invertible starting MA parameters found.'\n"
     ]
    },
    {
     "name": "stdout",
     "output_type": "stream",
     "text": [
      "Tickers selected: ['EW', 'TSCO', 'REGN', 'NFLX', 'SHW', 'ROST', 'BKNG', 'TDG', 'AZO', 'MNST', 'CL', 'MKC']\n",
      "Portfolio returns: -5.28%\n",
      "Market returns: -1.82%\n",
      "\n",
      "Optimizing portfolio for 2012-10-31...\n"
     ]
    },
    {
     "name": "stderr",
     "output_type": "stream",
     "text": [
      "c:\\Users\\Yang\\Documents\\Projects\\funance_blog\\venv\\lib\\site-packages\\statsmodels\\tsa\\statespace\\sarimax.py:966: UserWarning: Non-stationary starting autoregressive parameters found. Using zeros as starting parameters.\n",
      "  warn('Non-stationary starting autoregressive parameters'\n",
      "c:\\Users\\Yang\\Documents\\Projects\\funance_blog\\venv\\lib\\site-packages\\statsmodels\\tsa\\statespace\\sarimax.py:978: UserWarning: Non-invertible starting MA parameters found. Using zeros as starting parameters.\n",
      "  warn('Non-invertible starting MA parameters found.'\n"
     ]
    },
    {
     "name": "stdout",
     "output_type": "stream",
     "text": [
      "Tickers selected: ['SHW', 'WMT', 'VRTX', 'TSCO', 'CHD', 'ROST', 'SO', 'AZO', 'TJX', 'REGN', 'EW', 'NFLX', 'ODFL', 'DLTR']\n",
      "Portfolio returns: -0.47%\n",
      "Market returns: 0.57%\n",
      "\n",
      "Optimizing portfolio for 2012-11-30...\n"
     ]
    },
    {
     "name": "stderr",
     "output_type": "stream",
     "text": [
      "c:\\Users\\Yang\\Documents\\Projects\\funance_blog\\venv\\lib\\site-packages\\statsmodels\\tsa\\statespace\\sarimax.py:966: UserWarning: Non-stationary starting autoregressive parameters found. Using zeros as starting parameters.\n",
      "  warn('Non-stationary starting autoregressive parameters'\n",
      "c:\\Users\\Yang\\Documents\\Projects\\funance_blog\\venv\\lib\\site-packages\\statsmodels\\tsa\\statespace\\sarimax.py:978: UserWarning: Non-invertible starting MA parameters found. Using zeros as starting parameters.\n",
      "  warn('Non-invertible starting MA parameters found.'\n"
     ]
    },
    {
     "name": "stdout",
     "output_type": "stream",
     "text": [
      "Tickers selected: ['CTRA', 'NFLX', 'ROST', 'CF', 'MO', 'TDG', 'TJX', 'CHD', 'VRTX', 'TYL', 'MNST', 'DLTR', 'CMS', 'EW', 'HSY', 'ORLY', 'BKNG', 'REGN', 'AMZN', 'NEM', 'AZO', 'MA']\n",
      "Portfolio returns: -1.90%\n",
      "Market returns: 0.89%\n",
      "\n",
      "Optimizing portfolio for 2012-12-31...\n",
      "Tickers selected: ['VRTX', 'SHW', 'ROST', 'TSCO', 'DAL', 'HSY', 'NFLX', 'CHD', 'ACGL', 'TYL', 'AZO', 'MNST', 'WMT', 'DLTR', 'AAL', 'EW', 'TDG', 'REGN', 'GIS', 'TJX']\n",
      "Portfolio returns: 6.26%\n",
      "Market returns: 5.12%\n",
      "\n",
      "Optimizing portfolio for 2013-01-31...\n"
     ]
    },
    {
     "name": "stderr",
     "output_type": "stream",
     "text": [
      "c:\\Users\\Yang\\Documents\\Projects\\funance_blog\\venv\\lib\\site-packages\\statsmodels\\tsa\\statespace\\sarimax.py:966: UserWarning: Non-stationary starting autoregressive parameters found. Using zeros as starting parameters.\n",
      "  warn('Non-stationary starting autoregressive parameters'\n",
      "c:\\Users\\Yang\\Documents\\Projects\\funance_blog\\venv\\lib\\site-packages\\statsmodels\\tsa\\statespace\\sarimax.py:978: UserWarning: Non-invertible starting MA parameters found. Using zeros as starting parameters.\n",
      "  warn('Non-invertible starting MA parameters found.'\n"
     ]
    },
    {
     "name": "stdout",
     "output_type": "stream",
     "text": [
      "Tickers selected: ['ROST', 'VRTX', 'REGN', 'AAPL', 'CHD', 'AMZN', 'CMS', 'TJX', 'DLTR', 'NEM', 'NFLX', 'EW', 'TDG', 'CF', 'MNST', 'ORLY', 'CTRA', 'SRE', 'HSY', 'TYL', 'MA', 'BKNG']\n",
      "Portfolio returns: 4.77%\n",
      "Market returns: 1.28%\n",
      "\n",
      "Optimizing portfolio for 2013-02-28...\n",
      "Tickers selected: ['ROST', 'DVA', 'AAL', 'EW', 'NFLX', 'TYL', 'MNST', 'MKC', 'BMY', 'SHW', 'XEL', 'AMGN', 'VRTX', 'HSY', 'WEC', 'ES', 'REGN', 'TDG', 'DLTR']\n",
      "Portfolio returns: 5.18%\n",
      "Market returns: 3.80%\n",
      "\n",
      "Optimizing portfolio for 2013-03-31...\n",
      "Tickers selected: ['REGN', 'CNP', 'AMZN', 'VRTX', 'CHD', 'NFLX', 'ULTA', 'BKNG', 'DXCM', 'EW', 'DLTR', 'SJM', 'TDG', 'BMY', 'AAL']\n",
      "Portfolio returns: -0.17%\n",
      "Market returns: 1.92%\n",
      "\n",
      "Optimizing portfolio for 2013-04-30...\n",
      "Tickers selected: ['ROST', 'AAL', 'SHW', 'EW', 'DVA', 'NFLX', 'BMY', 'CMS', 'MO', 'REGN', 'TYL', 'AZO', 'CHD', 'MNST', 'HSY', 'KMB', 'GIS', 'TDG', 'AWK', 'MCD', 'ORLY', 'MKTX', 'DLTR']\n",
      "Portfolio returns: -0.91%\n",
      "Market returns: 2.36%\n",
      "\n",
      "Optimizing portfolio for 2013-05-31...\n",
      "Tickers selected: ['TDG', 'TJX', 'CMS', 'DLTR', 'CHD', 'PNW', 'REGN', 'NFLX', 'BKNG', 'HRL', 'SJM', 'BIIB', 'VRTX', 'ES', 'AMZN', 'AAL', 'SHW', 'HSY']\n",
      "Portfolio returns: 0.76%\n",
      "Market returns: -1.33%\n",
      "\n",
      "Optimizing portfolio for 2013-06-30...\n",
      "Tickers selected: ['BKNG', 'BMY', 'CMS', 'MNST', 'VRTX', 'ULTA', 'AAL', 'TSCO', 'NFLX', 'SJM', 'TJX', 'DXCM', 'SHW']\n",
      "Portfolio returns: 2.74%\n",
      "Market returns: 5.17%\n",
      "\n",
      "Optimizing portfolio for 2013-07-31...\n",
      "Tickers selected: ['MO', 'ACGL', 'UAL', 'NFLX', 'CMG', 'DLTR', 'TYL', 'BMY', 'SJM', 'BKNG', 'MTCH', 'TDG', 'VZ', 'HSY', 'MNST', 'KMB', 'DVA', 'WRB', 'LNT', 'VRTX', 'REGN', 'ULTA', 'CHD', 'ABT']\n",
      "Portfolio returns: -3.90%\n",
      "Market returns: -3.00%\n",
      "\n",
      "Optimizing portfolio for 2013-08-31...\n",
      "Tickers selected: ['TDG', 'TYL', 'MKTX', 'CMG', 'CMS', 'DPZ', 'AMZN', 'NFLX', 'REGN', 'DXCM', 'COO', 'BKNG', 'MNST', 'EW', 'HSY', 'DLTR']\n",
      "Portfolio returns: 4.27%\n",
      "Market returns: 3.16%\n",
      "\n",
      "Optimizing portfolio for 2013-09-30...\n",
      "Tickers selected: ['ED', 'UAL', 'MKTX', 'TSCO', 'PCG', 'SHW', 'TDG', 'AWK', 'CHD', 'CMS', 'NFLX', 'BMY', 'DLTR', 'VZ', 'ADM', 'MTCH', 'REGN', 'GILD', 'BKNG', 'MNST', 'HSY', 'TJX', 'DXCM', 'ORLY', 'VRTX', 'CMG']\n",
      "Portfolio returns: 4.78%\n",
      "Market returns: 4.63%\n",
      "\n",
      "Optimizing portfolio for 2013-10-31...\n",
      "Tickers selected: ['MCK', 'NFLX', 'MKTX', 'REGN', 'SJM', 'AKAM', 'TSN', 'CMG', 'AIG', 'CI', 'MA', 'AMZN', 'FIS', 'BKNG', 'DPZ', 'STZ', 'LKQ', 'HRL', 'ULTA']\n",
      "Portfolio returns: 5.30%\n",
      "Market returns: 2.96%\n",
      "\n",
      "Optimizing portfolio for 2013-11-30...\n",
      "Tickers selected: ['NFLX', 'BMY', 'DXCM', 'VZ', 'DPZ', 'ORLY', 'HSY', 'DLTR', 'STZ', 'MKTX', 'HRL', 'AXON', 'AZO', 'TSN', 'REGN', 'ROST', 'COO', 'VRTX', 'MKC', 'TDG', 'SHW', 'LKQ', 'TJX', 'MO', 'AKAM', 'MCD', 'WMT']\n",
      "Portfolio returns: 0.73%\n",
      "Market returns: 2.59%\n",
      "\n",
      "Optimizing portfolio for 2013-12-31...\n",
      "Tickers selected: ['NI', 'TSN', 'ORLY', 'ULTA', 'MKTX', 'DXCM', 'BKNG', 'CMG', 'SBAC', 'NFLX', 'TDG', 'AZO', 'DLTR', 'REGN', 'DPZ', 'MA', 'BMY', 'AMZN', 'AWK', 'CI', 'MO']\n",
      "Portfolio returns: 0.46%\n",
      "Market returns: -3.52%\n",
      "\n",
      "Optimizing portfolio for 2014-01-31...\n",
      "Tickers selected: ['D', 'MNST', 'DXCM', 'BKNG', 'NFLX', 'BMY', 'REGN', 'COO', 'AXON', 'HRL', 'MA', 'DLTR', 'AMZN', 'MKTX', 'AZO', 'AWK', 'TJX', 'DPZ', 'STZ', 'WMT', 'MKC', 'SBAC', 'ORLY', 'AKAM', 'KMB', 'CMG', 'LKQ', 'ULTA', 'VRTX', 'MTCH', 'INCY', 'SRE', 'TYL']\n",
      "Portfolio returns: 6.18%\n",
      "Market returns: 4.55%\n",
      "\n",
      "Optimizing portfolio for 2014-02-28...\n",
      "Tickers selected: ['TDG', 'DXCM', 'NI', 'EXR', 'CL', 'LNT', 'MKTX', 'CMG', 'SBAC', 'CI', 'UAL', 'CMS', 'DLTR', 'INCY', 'HSY', 'AXON', 'REGN', 'CNP', 'TJX', 'HRL', 'DPZ', 'STZ', 'NFLX']\n",
      "Portfolio returns: -0.42%\n",
      "Market returns: 0.83%\n",
      "\n",
      "Optimizing portfolio for 2014-03-31...\n",
      "Tickers selected: ['DPZ', 'BMY', 'NI', 'IT', 'UAL', 'CHD', 'TSN', 'AXON', 'DLTR', 'TJX', 'EXR', 'CI', 'TDG', 'MKTX', 'GIS', 'COO', 'DXCM', 'AIZ', 'REGN', 'LNT', 'PODD', 'AIG', 'CMG', 'NFLX']\n",
      "Portfolio returns: -2.40%\n",
      "Market returns: 0.70%\n",
      "\n",
      "Optimizing portfolio for 2014-04-30...\n",
      "Tickers selected: ['STZ', 'INCY', 'EXR', 'NI', 'OKE', 'AXON', 'VTR', 'AAL', 'CMG', 'KMB', 'SJM', 'ULTA', 'BBWI', 'REGN', 'DPZ', 'PODD', 'GILD', 'DECK', 'HUM']\n",
      "Portfolio returns: 1.71%\n",
      "Market returns: 2.32%\n",
      "\n",
      "Optimizing portfolio for 2014-05-31...\n",
      "Tickers selected: ['NFLX', 'AAL', 'UAL', 'PODD', 'INCY', 'NI', 'SBAC', 'OKE', 'DPZ', 'HUM', 'REGN', 'EXR', 'DXCM', 'STZ']\n",
      "Portfolio returns: 4.32%\n",
      "Market returns: 2.06%\n",
      "\n",
      "Optimizing portfolio for 2014-06-30...\n",
      "Tickers selected: ['NFLX', 'STZ', 'AXON', 'MNST', 'MKC', 'ULTA', 'EXR', 'ORLY', 'VTR', 'AAL', 'MO', 'DPZ', 'ROST', 'REGN', 'COR', 'LLY', 'SBAC', 'DXCM', 'TYL', 'CMG', 'HUM', 'INCY', 'COO']\n",
      "Portfolio returns: -0.70%\n",
      "Market returns: -1.34%\n",
      "\n",
      "Optimizing portfolio for 2014-07-31...\n",
      "Tickers selected: ['MKTX', 'SBAC', 'DPZ', 'AWK', 'NI', 'NFLX', 'VTR', 'ULTA', 'DLTR', 'AAL', 'AIG', 'SHW', 'EW', 'TDG', 'REGN', 'COR', 'MNST', 'AXON', 'SRE', 'STZ', 'CTRA', 'COO', 'HUM', 'ORLY', 'DXCM', 'KDP', 'IT', 'CMG']\n",
      "Portfolio returns: 8.27%\n",
      "Market returns: 3.95%\n",
      "\n",
      "Optimizing portfolio for 2014-08-31...\n",
      "Tickers selected: ['UAL', 'AXON', 'NI', 'COO', 'CMG', 'DPZ', 'EXR', 'AAL', 'DXCM', 'EL', 'REGN', 'INCY', 'NFLX']\n",
      "Portfolio returns: -1.01%\n",
      "Market returns: -1.38%\n",
      "\n",
      "Optimizing portfolio for 2014-09-30...\n",
      "Tickers selected: ['COR', 'AAL', 'SHW', 'DUK', 'SBAC', 'AWK', 'MO', 'KDP', 'GILD', 'AXON', 'DPZ', 'HUM', 'CTRA', 'NI', 'TDG', 'ULTA', 'HSY', 'DLTR', 'MKTX', 'NFLX', 'CMG', 'EW', 'IT', 'MNST', 'AZO', 'TYL', 'LLY', 'ORLY', 'DXCM', 'COO', 'VRTX', 'REGN']\n",
      "Portfolio returns: 7.24%\n",
      "Market returns: 2.36%\n",
      "\n",
      "Optimizing portfolio for 2014-10-31...\n",
      "Tickers selected: ['ULTA', 'CAH', 'AAL', 'SHW', 'AXON', 'UNH', 'VRTX', 'CCI', 'NI', 'EW', 'ORLY', 'AMGN', 'DLTR', 'MO', 'CMS', 'HUM', 'COR', 'MKTX', 'DXCM', 'NFLX', 'MRK', 'COO', 'CMG', 'MNST', 'GILD', 'KDP', 'HSY', 'TDG', 'DPZ', 'REGN', 'BMY', 'AWK']\n",
      "Portfolio returns: 4.56%\n",
      "Market returns: 2.75%\n",
      "\n",
      "Optimizing portfolio for 2014-11-30...\n",
      "Tickers selected: ['NI', 'AAL', 'SBAC', 'COO', 'TDG', 'KDP', 'NFLX', 'UNH', 'ROST', 'AXON', 'GILD', 'VRTX', 'MNST', 'ULTA', 'MO', 'MKTX', 'CMS', 'MRK', 'AWK', 'HSY', 'DXCM', 'EW', 'CMG', 'HUM', 'AMGN', 'KMB', 'BMY', 'DLTR', 'ORLY', 'IT', 'SHW', 'VRSK', 'REGN', 'DPZ']\n",
      "Portfolio returns: 0.31%\n",
      "Market returns: -0.25%\n",
      "\n",
      "Optimizing portfolio for 2014-12-31...\n",
      "Tickers selected: ['COR', 'STZ', 'NI', 'EXR', 'MTB', 'IT', 'REGN', 'DLTR', 'CMG', 'KDP', 'MKTX', 'DXCM', 'VRTX', 'COO', 'TJX', 'AXON', 'ULTA', 'HUM', 'NFLX', 'DPZ', 'CAH', 'AAL']\n",
      "Portfolio returns: 1.82%\n",
      "Market returns: -2.96%\n",
      "\n",
      "Optimizing portfolio for 2015-01-31...\n",
      "Tickers selected: ['WEC', 'UNH', 'PPL', 'MO', 'VRTX', 'TDG', 'IT', 'COO', 'MCK', 'HSY', 'ORLY', 'MNST', 'CCI', 'VTR', 'KDP', 'CI', 'ULTA', 'AAL', 'DLTR', 'SBAC', 'NFLX', 'SHW', 'MKTX', 'AXON', 'EXR', 'AWK', 'CHTR', 'DXCM', 'CMG', 'TYL', 'EW', 'DPZ', 'AVGO', 'BMY', 'MRK', 'VRSK', 'NI', 'REGN', 'GILD', 'COR']\n",
      "Portfolio returns: 2.70%\n",
      "Market returns: 5.62%\n",
      "\n",
      "Optimizing portfolio for 2015-02-28...\n",
      "Tickers selected: ['NFLX', 'GNRC', 'MO', 'EXR', 'NI', 'TDG', 'VRTX', 'KDP', 'AAL', 'AXON', 'CMG', 'MNST', 'REGN', 'AVGO', 'COO', 'DXCM', 'DPZ', 'MKTX', 'STZ', 'TYL', 'GILD', 'SBAC', 'EW', 'CHTR', 'ORLY']\n",
      "Portfolio returns: 1.94%\n",
      "Market returns: -1.57%\n",
      "\n",
      "Optimizing portfolio for 2015-03-31...\n",
      "Tickers selected: ['UNH', 'MNST', 'MKTX', 'EXR', 'STZ', 'NFLX', 'REGN', 'SBAC', 'NI', 'SHW', 'DPZ', 'SWKS', 'AAL', 'MO', 'BIIB']\n",
      "Portfolio returns: -0.46%\n",
      "Market returns: 0.98%\n",
      "\n",
      "Optimizing portfolio for 2015-04-30...\n",
      "Tickers selected: ['TDG', 'ATO', 'COR', 'DAL', 'MKTX', 'CI', 'NFLX', 'CHTR', 'GILD', 'REGN', 'ORLY', 'AAL', 'CAG', 'DXCM', 'TYL', 'EXR', 'CTRA', 'GNRC', 'D', 'VRTX', 'AXON', 'STZ', 'DPZ', 'ULTA']\n",
      "Portfolio returns: 2.74%\n",
      "Market returns: 1.29%\n",
      "\n",
      "Optimizing portfolio for 2015-05-31...\n",
      "Tickers selected: ['DXCM', 'SBAC', 'STZ', 'TYL', 'REGN', 'AXON', 'NI', 'SWKS', 'DPZ', 'COO', 'MO', 'NFLX', 'MNST', 'MKTX', 'AAL', 'EXR', 'HUM']\n",
      "Portfolio returns: 0.21%\n",
      "Market returns: -2.03%\n",
      "\n",
      "Optimizing portfolio for 2015-06-30...\n",
      "Tickers selected: ['KR', 'BIIB', 'NFLX', 'MNST', 'LYB', 'STZ', 'CHD', 'CMS', 'EBAY', 'MO', 'MKTX', 'AAPL', 'ULTA', 'VRTX', 'JNJ', 'AVGO', 'REGN', 'CNC', 'BLDR', 'DPZ', 'SBAC', 'EXR', 'CTRA', 'CHTR', 'TSLA']\n",
      "Portfolio returns: 6.42%\n",
      "Market returns: 2.26%\n",
      "\n",
      "Optimizing portfolio for 2015-07-31...\n",
      "Tickers selected: ['CMG', 'TSLA', 'ATO', 'LLY', 'NFLX', 'MNST', 'CTRA', 'AAL', 'EXPE', 'ULTA', 'CNC', 'TYL', 'LYB', 'SHW', 'BIIB', 'DXCM', 'ORLY', 'EXR', 'INCY']\n",
      "Portfolio returns: -2.72%\n",
      "Market returns: -6.10%\n",
      "\n",
      "Optimizing portfolio for 2015-08-31...\n",
      "Tickers selected: ['ULTA', 'ATO', 'TSLA', 'STZ', 'MKTX', 'NI', 'TYL', 'NFLX', 'CTRA', 'AAL', 'CI', 'DPZ', 'VZ', 'EA', 'SBAC', 'CMG', 'REGN', 'GNRC', 'MNST', 'EXR', 'INCY', 'AXON', 'BLDR', 'CHTR']\n",
      "Portfolio returns: 1.50%\n",
      "Market returns: -2.55%\n",
      "\n",
      "Optimizing portfolio for 2015-09-30...\n",
      "Tickers selected: ['ULTA', 'EXR', 'TYL', 'REGN', 'STZ', 'CI', 'ATO', 'AAL', 'INCY', 'CHTR', 'MKTX', 'CTAS', 'NFLX', 'TSLA', 'DXCM', 'ORLY', 'VRTX', 'CTRA', 'AXON', 'SBUX', 'GILD']\n",
      "Portfolio returns: 7.56%\n",
      "Market returns: 8.51%\n",
      "\n",
      "Optimizing portfolio for 2015-10-31...\n"
     ]
    },
    {
     "name": "stderr",
     "output_type": "stream",
     "text": [
      "c:\\Users\\Yang\\Documents\\Projects\\funance_blog\\venv\\lib\\site-packages\\statsmodels\\tsa\\statespace\\sarimax.py:966: UserWarning: Non-stationary starting autoregressive parameters found. Using zeros as starting parameters.\n",
      "  warn('Non-stationary starting autoregressive parameters'\n",
      "c:\\Users\\Yang\\Documents\\Projects\\funance_blog\\venv\\lib\\site-packages\\statsmodels\\tsa\\statespace\\sarimax.py:978: UserWarning: Non-invertible starting MA parameters found. Using zeros as starting parameters.\n",
      "  warn('Non-invertible starting MA parameters found.'\n"
     ]
    },
    {
     "name": "stdout",
     "output_type": "stream",
     "text": [
      "Tickers selected: ['ULTA', 'MNST', 'TSLA', 'EXR', 'GNRC', 'DXCM', 'NI', 'TYL', 'INCY', 'SBUX', 'STZ', 'REGN', 'CI', 'NFLX', 'BLDR', 'AAL']\n",
      "Portfolio returns: 1.67%\n",
      "Market returns: 0.37%\n",
      "\n",
      "Optimizing portfolio for 2015-11-30...\n",
      "Tickers selected: ['CTRA', 'BLDR', 'EXR', 'NVDA', 'SHW', 'NFLX', 'TDG', 'URI', 'SBAC', 'REGN', 'KMB', 'ULTA', 'MO', 'AAL', 'MNST']\n",
      "Portfolio returns: 0.79%\n",
      "Market returns: -1.73%\n",
      "\n",
      "Optimizing portfolio for 2015-12-31...\n",
      "Tickers selected: ['LKQ', 'KDP', 'GILD', 'TYL', 'CI', 'NEE', 'CAG', 'DPZ', 'ULTA', 'STZ', 'ATO', 'AAL', 'NI', 'ORLY', 'MNST', 'INCY', 'MKTX', 'CHTR', 'NFLX', 'VRTX', 'DXCM', 'EXR', 'AXON', 'EA', 'LLY', 'CHD', 'BLDR', 'COO', 'TSLA', 'LMT', 'REGN']\n",
      "Portfolio returns: -3.20%\n",
      "Market returns: -4.98%\n",
      "\n",
      "Optimizing portfolio for 2016-01-31...\n",
      "Tickers selected: ['POOL', 'TDG', 'MKTX', 'CHTR', 'AAL', 'NI', 'INCY', 'AZO', 'DPZ', 'REGN', 'DXCM', 'CI', 'CTRA', 'ULTA', 'EA', 'EXR', 'BBWI', 'STZ', 'TSLA', 'LULU', 'MNST']\n",
      "Portfolio returns: 0.12%\n",
      "Market returns: -0.08%\n",
      "\n",
      "Optimizing portfolio for 2016-02-29...\n",
      "Tickers selected: ['KDP', 'GNRC', 'HRL', 'REGN', 'EIX', 'NI', 'DXCM', 'CMS', 'LLY', 'UNH', 'KMB', 'DPZ', 'MAA', 'CPB', 'AAL', 'ATO', 'MNST', 'SBUX', 'MKTX', 'TSN', 'COO', 'VZ', 'CCI', 'TSLA', 'STZ', 'CHTR', 'EXR', 'ORLY', 'HSY']\n",
      "Portfolio returns: 5.34%\n",
      "Market returns: 6.73%\n",
      "\n",
      "Optimizing portfolio for 2016-03-31...\n",
      "Tickers selected: ['TSN', 'STZ', 'EXR', 'REGN', 'EIX', 'MNST', 'KMB', 'NI', 'TSLA', 'AEE', 'DPZ', 'HRL', 'AWK', 'CI', 'AAL', 'CHD', 'CAG', 'CTRA', 'DXCM', 'MO', 'AVGO', 'VZ', 'CPB', 'ORLY', 'MKTX', 'AXON']\n",
      "Portfolio returns: -1.69%\n",
      "Market returns: 0.39%\n",
      "\n",
      "Optimizing portfolio for 2016-04-30...\n",
      "Tickers selected: ['HD', 'REGN', 'EXR', 'EQIX', 'MNST', 'HRL', 'NI', 'GILD', 'AXON', 'TYL', 'MO', 'ORLY', 'STZ', 'DPZ', 'UNH', 'TSLA', 'AVGO', 'AAL', 'MKTX']\n",
      "Portfolio returns: 4.41%\n",
      "Market returns: 1.70%\n",
      "\n",
      "Optimizing portfolio for 2016-05-31...\n"
     ]
    },
    {
     "name": "stderr",
     "output_type": "stream",
     "text": [
      "c:\\Users\\Yang\\Documents\\Projects\\funance_blog\\venv\\lib\\site-packages\\statsmodels\\tsa\\statespace\\sarimax.py:1898: RuntimeWarning: divide by zero encountered in reciprocal\n",
      "  return np.roots(self.polynomial_reduced_ar)**-1\n",
      "c:\\Users\\Yang\\Documents\\Projects\\funance_blog\\venv\\lib\\site-packages\\statsmodels\\tsa\\statespace\\sarimax.py:1905: RuntimeWarning: divide by zero encountered in reciprocal\n",
      "  return np.roots(self.polynomial_reduced_ma)**-1\n"
     ]
    },
    {
     "name": "stdout",
     "output_type": "stream",
     "text": [
      "Tickers selected: ['NI', 'STZ', 'AVGO', 'MKTX', 'AAL', 'REGN', 'MNST', 'AXON', 'UNH', 'INCY', 'TYL', 'DPZ', 'TSLA', 'ORLY', 'TSN', 'MO', 'EW', 'EXR', 'EQIX', 'DXCM', 'LLY']\n",
      "Portfolio returns: 7.39%\n",
      "Market returns: 0.35%\n",
      "\n",
      "Optimizing portfolio for 2016-06-30...\n"
     ]
    },
    {
     "name": "stderr",
     "output_type": "stream",
     "text": [
      "c:\\Users\\Yang\\Documents\\Projects\\funance_blog\\venv\\lib\\site-packages\\statsmodels\\tsa\\statespace\\sarimax.py:1898: RuntimeWarning: divide by zero encountered in reciprocal\n",
      "  return np.roots(self.polynomial_reduced_ar)**-1\n"
     ]
    },
    {
     "name": "stdout",
     "output_type": "stream",
     "text": [
      "Tickers selected: ['NI', 'D', 'KMB', 'MO', 'AWK', 'CTRA', 'MNST', 'EW', 'CPB', 'CAG', 'LLY', 'BMY', 'ORLY', 'TSN', 'CHD', 'CBOE', 'ULTA', 'DXCM', 'TDG', 'EXR', 'MKTX', 'TSLA', 'O', 'AXON', 'CHTR', 'COO', 'CLX', 'CCI', 'EQIX', 'STZ', 'DPZ', 'GNRC', 'REGN']\n",
      "Portfolio returns: 1.55%\n",
      "Market returns: 3.65%\n",
      "\n",
      "Optimizing portfolio for 2016-07-31...\n",
      "Tickers selected: ['AWK', 'AXON', 'COO', 'AAL', 'KMB', 'MKTX', 'LMT', 'CHTR', 'MNST', 'REGN', 'VZ', 'NI', 'TSLA', 'ORLY', 'LKQ', 'LLY', 'ULTA', 'EXR', 'CHD', 'STZ', 'GIS', 'BMY', 'MO', 'EW', 'DXCM', 'CAG', 'POOL']\n",
      "Portfolio returns: -4.02%\n",
      "Market returns: 0.12%\n",
      "\n",
      "Optimizing portfolio for 2016-08-31...\n",
      "Tickers selected: ['AWK', 'AIZ', 'AXON', 'DLR', 'EIX', 'HCA', 'EQIX', 'NI', 'NFLX', 'CHTR', 'TSLA', 'ULTA', 'EW', 'AVGO', 'KDP', 'CPB', 'AAL', 'STZ', 'TSN', 'NOC', 'NDAQ', 'MKTX', 'MO', 'ORLY', 'DXCM']\n",
      "Portfolio returns: -0.43%\n",
      "Market returns: 0.01%\n",
      "\n",
      "Optimizing portfolio for 2016-09-30...\n",
      "Tickers selected: ['NEE', 'AXON', 'T', 'CPAY', 'EQIX', 'COO', 'MKC', 'BLDR', 'TSN', 'CTRA', 'LUV', 'DXCM', 'MKTX', 'HCA', 'EW', 'EXR', 'TMUS', 'CHD', 'WMT', 'MSI', 'CCI', 'TSLA', 'NOC', 'NI', 'TDG', 'INCY', 'STZ', 'CHTR', 'DLR', 'MO', 'DPZ', 'NFLX', 'ULTA', 'LLY']\n",
      "Portfolio returns: -2.29%\n",
      "Market returns: -1.73%\n",
      "\n",
      "Optimizing portfolio for 2016-10-31...\n",
      "Tickers selected: ['ORLY', 'IDXX', 'EVRG', 'EXR', 'HCA', 'NFLX', 'EOG', 'HII', 'CPAY', 'TSLA', 'TSN', 'DPZ', 'CI', 'AAL', 'INCY', 'CHTR', 'LMT', 'ULTA', 'AXON', 'STZ', 'CAG', 'EA', 'EG', 'DXCM', 'EW', 'MKTX', 'GNRC', 'TYL']\n",
      "Portfolio returns: 0.40%\n",
      "Market returns: 3.68%\n",
      "\n",
      "Optimizing portfolio for 2016-11-30...\n"
     ]
    },
    {
     "name": "stderr",
     "output_type": "stream",
     "text": [
      "c:\\Users\\Yang\\Documents\\Projects\\funance_blog\\venv\\lib\\site-packages\\statsmodels\\tsa\\statespace\\sarimax.py:966: UserWarning: Non-stationary starting autoregressive parameters found. Using zeros as starting parameters.\n",
      "  warn('Non-stationary starting autoregressive parameters'\n",
      "c:\\Users\\Yang\\Documents\\Projects\\funance_blog\\venv\\lib\\site-packages\\statsmodels\\tsa\\statespace\\sarimax.py:978: UserWarning: Non-invertible starting MA parameters found. Using zeros as starting parameters.\n",
      "  warn('Non-invertible starting MA parameters found.'\n"
     ]
    },
    {
     "name": "stdout",
     "output_type": "stream",
     "text": [
      "Tickers selected: ['TMUS', 'NI', 'AWK', 'DXCM', 'DPZ', 'NOC', 'EQIX', 'MPWR', 'EG', 'NEE', 'LUV', 'CHTR', 'NFLX', 'SWKS', 'ULTA', 'MSFT', 'MO', 'TSN', 'EXR', 'MKTX', 'STZ']\n",
      "Portfolio returns: 0.71%\n",
      "Market returns: 2.03%\n",
      "\n",
      "Optimizing portfolio for 2016-12-31...\n"
     ]
    },
    {
     "name": "stderr",
     "output_type": "stream",
     "text": [
      "c:\\Users\\Yang\\Documents\\Projects\\funance_blog\\venv\\lib\\site-packages\\statsmodels\\tsa\\statespace\\sarimax.py:966: UserWarning: Non-stationary starting autoregressive parameters found. Using zeros as starting parameters.\n",
      "  warn('Non-stationary starting autoregressive parameters'\n",
      "c:\\Users\\Yang\\Documents\\Projects\\funance_blog\\venv\\lib\\site-packages\\statsmodels\\tsa\\statespace\\sarimax.py:978: UserWarning: Non-invertible starting MA parameters found. Using zeros as starting parameters.\n",
      "  warn('Non-invertible starting MA parameters found.'\n"
     ]
    },
    {
     "name": "stdout",
     "output_type": "stream",
     "text": [
      "Tickers selected: ['NI', 'NFLX', 'CHTR', 'HII', 'TDG', 'DPZ', 'EXPE', 'INCY', 'STLD', 'NOC', 'EW', 'LULU', 'TMUS', 'MKTX', 'EXR', 'CCI', 'NVDA', 'AAL', 'HCA', 'ROL', 'LYB', 'TSLA', 'EQIX', 'DXCM', 'STZ', 'COO', 'TSN', 'CI']\n",
      "Portfolio returns: 3.83%\n",
      "Market returns: 1.79%\n",
      "\n",
      "Optimizing portfolio for 2017-01-31...\n",
      "Tickers selected: ['CAG', 'ATO', 'CI', 'LUV', 'COO', 'AAL', 'HCA', 'AXON', 'EXR', 'TSN', 'EQIX', 'HII', 'TSLA', 'EA', 'ROL', 'CBOE', 'STZ', 'LYB', 'DRI', 'INCY', 'NFLX', 'NVDA', 'TMUS', 'NOC', 'DPZ', 'EW', 'ULTA', 'MKTX', 'CHTR', 'IDXX', 'SMCI', 'DXCM']\n",
      "Portfolio returns: 4.15%\n",
      "Market returns: 3.93%\n",
      "\n",
      "Optimizing portfolio for 2017-02-28...\n"
     ]
    },
    {
     "name": "stderr",
     "output_type": "stream",
     "text": [
      "c:\\Users\\Yang\\Documents\\Projects\\funance_blog\\venv\\lib\\site-packages\\statsmodels\\tsa\\statespace\\sarimax.py:966: UserWarning: Non-stationary starting autoregressive parameters found. Using zeros as starting parameters.\n",
      "  warn('Non-stationary starting autoregressive parameters'\n",
      "c:\\Users\\Yang\\Documents\\Projects\\funance_blog\\venv\\lib\\site-packages\\statsmodels\\tsa\\statespace\\sarimax.py:978: UserWarning: Non-invertible starting MA parameters found. Using zeros as starting parameters.\n",
      "  warn('Non-invertible starting MA parameters found.'\n",
      "c:\\Users\\Yang\\Documents\\Projects\\funance_blog\\venv\\lib\\site-packages\\statsmodels\\tsa\\statespace\\sarimax.py:966: UserWarning: Non-stationary starting autoregressive parameters found. Using zeros as starting parameters.\n",
      "  warn('Non-stationary starting autoregressive parameters'\n",
      "c:\\Users\\Yang\\Documents\\Projects\\funance_blog\\venv\\lib\\site-packages\\statsmodels\\tsa\\statespace\\sarimax.py:978: UserWarning: Non-invertible starting MA parameters found. Using zeros as starting parameters.\n",
      "  warn('Non-invertible starting MA parameters found.'\n"
     ]
    },
    {
     "name": "stdout",
     "output_type": "stream",
     "text": [
      "Tickers selected: ['CI', 'DXCM', 'ATO', 'INCY', 'COO', 'AAL', 'SMCI', 'ROL', 'HCA', 'EA', 'NOC', 'MKTX', 'TSN', 'AXON', 'STZ', 'TSLA', 'EW', 'NFLX', 'TDG', 'WST', 'MSI', 'EXR', 'CHTR', 'ULTA', 'DPZ', 'NVDA', 'IDXX', 'SYY']\n",
      "Portfolio returns: -0.22%\n",
      "Market returns: 0.13%\n",
      "\n",
      "Optimizing portfolio for 2017-03-31...\n",
      "Tickers selected: ['NVDA', 'NI', 'MO', 'EA', 'TMUS', 'EFX', 'AVGO', 'DXCM', 'HII', 'ULTA', 'STLD', 'HCA', 'AWK', 'LUV', 'STZ', 'AXON', 'UNH', 'LYB', 'TSLA', 'EXPE', 'HAS', 'EXR', 'NFLX', 'DPZ', 'EQIX', 'ORLY', 'INCY']\n",
      "Portfolio returns: 1.47%\n",
      "Market returns: 0.99%\n",
      "\n",
      "Optimizing portfolio for 2017-04-30...\n"
     ]
    },
    {
     "name": "stderr",
     "output_type": "stream",
     "text": [
      "c:\\Users\\Yang\\Documents\\Projects\\funance_blog\\venv\\lib\\site-packages\\statsmodels\\tsa\\statespace\\sarimax.py:966: UserWarning: Non-stationary starting autoregressive parameters found. Using zeros as starting parameters.\n",
      "  warn('Non-stationary starting autoregressive parameters'\n",
      "c:\\Users\\Yang\\Documents\\Projects\\funance_blog\\venv\\lib\\site-packages\\statsmodels\\tsa\\statespace\\sarimax.py:978: UserWarning: Non-invertible starting MA parameters found. Using zeros as starting parameters.\n",
      "  warn('Non-invertible starting MA parameters found.'\n"
     ]
    },
    {
     "name": "stdout",
     "output_type": "stream",
     "text": [
      "Tickers selected: ['EIX', 'NI', 'STZ', 'NFLX', 'CI', 'NVDA', 'DPZ', 'TSN', 'LUV', 'AXON', 'AVGO', 'EXR', 'MO', 'NOC', 'EW', 'MKTX', 'EA', 'T', 'EQIX', 'CBOE', 'CTRA', 'HAS', 'RSG', 'GD', 'CAG', 'HCA', 'DRI', 'DXCM', 'CHTR', 'SMCI', 'TSLA', 'IDXX', 'TMUS', 'ULTA', 'ROL', 'TDG', 'EG']\n",
      "Portfolio returns: 4.75%\n",
      "Market returns: 1.41%\n",
      "\n",
      "Optimizing portfolio for 2017-05-31...\n"
     ]
    },
    {
     "name": "stderr",
     "output_type": "stream",
     "text": [
      "c:\\Users\\Yang\\Documents\\Projects\\funance_blog\\venv\\lib\\site-packages\\statsmodels\\tsa\\statespace\\sarimax.py:966: UserWarning: Non-stationary starting autoregressive parameters found. Using zeros as starting parameters.\n",
      "  warn('Non-stationary starting autoregressive parameters'\n",
      "c:\\Users\\Yang\\Documents\\Projects\\funance_blog\\venv\\lib\\site-packages\\statsmodels\\tsa\\statespace\\sarimax.py:978: UserWarning: Non-invertible starting MA parameters found. Using zeros as starting parameters.\n",
      "  warn('Non-invertible starting MA parameters found.'\n"
     ]
    },
    {
     "name": "stdout",
     "output_type": "stream",
     "text": [
      "Tickers selected: ['NI', 'CNC', 'STLD', 'NXPI', 'EXR', 'LUV', 'CBOE', 'NVDA', 'SBAC', 'BSX', 'ROL', 'INCY', 'AVGO', 'TSN', 'MSFT', 'CI', 'IDXX', 'SMCI', 'HII', 'TSLA', 'EA', 'NFLX', 'TMUS', 'EQIX', 'HCA', 'ULTA', 'DPZ', 'HAS', 'DRI', 'META', 'ISRG', 'BAX', 'MKTX', 'GD', 'TDG', 'EW', 'AXON', 'FI', 'CHTR', 'STZ']\n",
      "Portfolio returns: 0.34%\n",
      "Market returns: 0.64%\n",
      "\n",
      "Optimizing portfolio for 2017-06-30...\n",
      "Tickers selected: ['NI', 'LYB', 'STLD', 'TTWO', 'CPB', 'NVDA', 'CI', 'LUV', 'EXR', 'TSN', 'TMUS', 'CCI', 'NDAQ', 'DLR', 'TDG', 'CLX', 'AXON', 'HCA', 'STZ', 'ELV', 'META', 'DRI', 'COO', 'ULTA', 'T', 'DPZ', 'TSLA', 'MKTX', 'BAX', 'CBOE', 'CAG', 'EG', 'MO', 'MSFT', 'CE', 'HAS', 'ROL', 'NFLX', 'NOC', 'GD', 'RSG', 'EQIX']\n",
      "Portfolio returns: 0.10%\n",
      "Market returns: 2.06%\n",
      "\n",
      "Optimizing portfolio for 2017-07-31...\n"
     ]
    },
    {
     "name": "stderr",
     "output_type": "stream",
     "text": [
      "c:\\Users\\Yang\\Documents\\Projects\\funance_blog\\venv\\lib\\site-packages\\statsmodels\\tsa\\statespace\\sarimax.py:966: UserWarning: Non-stationary starting autoregressive parameters found. Using zeros as starting parameters.\n",
      "  warn('Non-stationary starting autoregressive parameters'\n",
      "c:\\Users\\Yang\\Documents\\Projects\\funance_blog\\venv\\lib\\site-packages\\statsmodels\\tsa\\statespace\\sarimax.py:978: UserWarning: Non-invertible starting MA parameters found. Using zeros as starting parameters.\n",
      "  warn('Non-invertible starting MA parameters found.'\n"
     ]
    },
    {
     "name": "stdout",
     "output_type": "stream",
     "text": [
      "Tickers selected: ['STZ', 'NVDA', 'EOG', 'LUV', 'STLD', 'IDXX', 'EQIX', 'NXPI', 'GD', 'TSN', 'CAG', 'DPZ', 'TMUS', 'UNH', 'EXR', 'AVGO', 'ULTA', 'EA', 'CBOE', 'NFLX', 'NOC', 'META', 'COO', 'AXON', 'HCA', 'SMCI', 'MKTX', 'MSI', 'NI', 'TSLA', 'CI', 'TDG', 'ROL', 'CHTR', 'BSX', 'DRI', 'HII']\n",
      "Portfolio returns: 1.17%\n",
      "Market returns: 0.29%\n",
      "\n",
      "Optimizing portfolio for 2017-08-31...\n"
     ]
    },
    {
     "name": "stderr",
     "output_type": "stream",
     "text": [
      "c:\\Users\\Yang\\Documents\\Projects\\funance_blog\\venv\\lib\\site-packages\\statsmodels\\tsa\\statespace\\sarimax.py:966: UserWarning: Non-stationary starting autoregressive parameters found. Using zeros as starting parameters.\n",
      "  warn('Non-stationary starting autoregressive parameters'\n",
      "c:\\Users\\Yang\\Documents\\Projects\\funance_blog\\venv\\lib\\site-packages\\statsmodels\\tsa\\statespace\\sarimax.py:978: UserWarning: Non-invertible starting MA parameters found. Using zeros as starting parameters.\n",
      "  warn('Non-invertible starting MA parameters found.'\n",
      "c:\\Users\\Yang\\Documents\\Projects\\funance_blog\\venv\\lib\\site-packages\\statsmodels\\tsa\\statespace\\sarimax.py:966: UserWarning: Non-stationary starting autoregressive parameters found. Using zeros as starting parameters.\n",
      "  warn('Non-stationary starting autoregressive parameters'\n",
      "c:\\Users\\Yang\\Documents\\Projects\\funance_blog\\venv\\lib\\site-packages\\statsmodels\\tsa\\statespace\\sarimax.py:978: UserWarning: Non-invertible starting MA parameters found. Using zeros as starting parameters.\n",
      "  warn('Non-invertible starting MA parameters found.'\n"
     ]
    },
    {
     "name": "stdout",
     "output_type": "stream",
     "text": [
      "Tickers selected: ['NI', 'EOG', 'EXR', 'DRI', 'NVDA', 'CCI', 'NFLX', 'HUM', 'ATO', 'DXCM', 'CTAS', 'AVGO', 'CBOE', 'TSN', 'TMUS', 'EG', 'TTWO', 'ROL', 'DE', 'HCA', 'META', 'AXON', 'BAC', 'HII', 'INCY', 'NOC', 'STLD', 'STZ', 'CHTR', 'ULTA', 'MKTX', 'TDG', 'EA', 'CNC', 'TSLA']\n",
      "Portfolio returns: 0.33%\n",
      "Market returns: 2.01%\n",
      "\n",
      "Optimizing portfolio for 2017-09-30...\n",
      "Tickers selected: ['RSG', 'ELV', 'ED', 'NOC', 'STLD', 'NVDA', 'MKTX', 'NI', 'T', 'EQIX', 'LUV', 'MO', 'WM', 'ROL', 'TSN', 'NDAQ', 'HII', 'TMUS', 'STZ', 'CAG', 'META', 'EXR', 'DPZ', 'CLX', 'TTWO', 'TDG', 'TSLA', 'EA', 'SMCI', 'MSFT', 'HAS', 'DLR', 'EG', 'NFLX', 'CBOE', 'CE']\n",
      "Portfolio returns: 2.32%\n",
      "Market returns: 2.36%\n",
      "\n",
      "Optimizing portfolio for 2017-10-31...\n"
     ]
    },
    {
     "name": "stderr",
     "output_type": "stream",
     "text": [
      "c:\\Users\\Yang\\Documents\\Projects\\funance_blog\\venv\\lib\\site-packages\\statsmodels\\tsa\\statespace\\sarimax.py:966: UserWarning: Non-stationary starting autoregressive parameters found. Using zeros as starting parameters.\n",
      "  warn('Non-stationary starting autoregressive parameters'\n",
      "c:\\Users\\Yang\\Documents\\Projects\\funance_blog\\venv\\lib\\site-packages\\statsmodels\\tsa\\statespace\\sarimax.py:978: UserWarning: Non-invertible starting MA parameters found. Using zeros as starting parameters.\n",
      "  warn('Non-invertible starting MA parameters found.'\n"
     ]
    },
    {
     "name": "stdout",
     "output_type": "stream",
     "text": [
      "Tickers selected: ['CBOE', 'STZ', 'EXR', 'COO', 'STLD', 'NVDA', 'TSLA', 'LUV', 'NFLX', 'META', 'CI', 'CME', 'SMCI', 'NOC', 'TSN', 'UNH', 'ATO', 'HCA', 'BSX', 'ULTA', 'DPZ', 'INCY', 'EA', 'MKTX', 'IDXX', 'DLR', 'AVGO', 'ROL', 'TMUS', 'FANG', 'EW', 'CNC', 'TTWO']\n",
      "Portfolio returns: 3.80%\n",
      "Market returns: 3.06%\n",
      "\n",
      "Optimizing portfolio for 2017-11-30...\n"
     ]
    },
    {
     "name": "stderr",
     "output_type": "stream",
     "text": [
      "c:\\Users\\Yang\\Documents\\Projects\\funance_blog\\venv\\lib\\site-packages\\statsmodels\\tsa\\statespace\\sarimax.py:966: UserWarning: Non-stationary starting autoregressive parameters found. Using zeros as starting parameters.\n",
      "  warn('Non-stationary starting autoregressive parameters'\n",
      "c:\\Users\\Yang\\Documents\\Projects\\funance_blog\\venv\\lib\\site-packages\\statsmodels\\tsa\\statespace\\sarimax.py:978: UserWarning: Non-invertible starting MA parameters found. Using zeros as starting parameters.\n",
      "  warn('Non-invertible starting MA parameters found.'\n"
     ]
    },
    {
     "name": "stdout",
     "output_type": "stream",
     "text": [
      "Tickers selected: ['HCA', 'NI', 'IDXX', 'ROL', 'CI', 'DXCM', 'EXR', 'DRI', 'AVGO', 'MKTX', 'TSLA', 'GD', 'NXPI', 'ULTA', 'EW', 'EA', 'FANG', 'NOC', 'TSN', 'SMCI', 'ENPH', 'ATO', 'COO', 'META', 'MSI', 'STZ', 'CNC', 'NDAQ', 'NFLX', 'BSX', 'INCY', 'TTWO', 'DPZ', 'DLR', 'NVDA', 'AIZ']\n",
      "Portfolio returns: -0.20%\n",
      "Market returns: 1.21%\n",
      "\n",
      "Optimizing portfolio for 2017-12-31...\n"
     ]
    },
    {
     "name": "stderr",
     "output_type": "stream",
     "text": [
      "c:\\Users\\Yang\\Documents\\Projects\\funance_blog\\venv\\lib\\site-packages\\statsmodels\\tsa\\statespace\\sarimax.py:966: UserWarning: Non-stationary starting autoregressive parameters found. Using zeros as starting parameters.\n",
      "  warn('Non-stationary starting autoregressive parameters'\n",
      "c:\\Users\\Yang\\Documents\\Projects\\funance_blog\\venv\\lib\\site-packages\\statsmodels\\tsa\\statespace\\sarimax.py:978: UserWarning: Non-invertible starting MA parameters found. Using zeros as starting parameters.\n",
      "  warn('Non-invertible starting MA parameters found.'\n",
      "c:\\Users\\Yang\\Documents\\Projects\\funance_blog\\venv\\lib\\site-packages\\statsmodels\\tsa\\statespace\\sarimax.py:966: UserWarning: Non-stationary starting autoregressive parameters found. Using zeros as starting parameters.\n",
      "  warn('Non-stationary starting autoregressive parameters'\n",
      "c:\\Users\\Yang\\Documents\\Projects\\funance_blog\\venv\\lib\\site-packages\\statsmodels\\tsa\\statespace\\sarimax.py:978: UserWarning: Non-invertible starting MA parameters found. Using zeros as starting parameters.\n",
      "  warn('Non-invertible starting MA parameters found.'\n"
     ]
    },
    {
     "name": "stdout",
     "output_type": "stream",
     "text": [
      "Tickers selected: ['CTAS', 'FANG', 'DXCM', 'CHTR', 'SMCI', 'NFLX', 'CTRA', 'INCY', 'CI', 'STLD', 'ROL', 'DPZ', 'EOG', 'NXPI', 'TSN', 'AVGO', 'ULTA', 'META', 'DLR', 'CME', 'AXON', 'STZ', 'T', 'NVDA', 'MKTX', 'CNC', 'BSX', 'BLDR', 'EW', 'GD', 'TSLA', 'EA', 'ISRG', 'NEM', 'COO', 'BBY', 'TTWO']\n",
      "Portfolio returns: 4.89%\n",
      "Market returns: 5.64%\n",
      "\n",
      "Optimizing portfolio for 2018-01-31...\n"
     ]
    },
    {
     "name": "stderr",
     "output_type": "stream",
     "text": [
      "c:\\Users\\Yang\\Documents\\Projects\\funance_blog\\venv\\lib\\site-packages\\statsmodels\\tsa\\statespace\\sarimax.py:966: UserWarning: Non-stationary starting autoregressive parameters found. Using zeros as starting parameters.\n",
      "  warn('Non-stationary starting autoregressive parameters'\n",
      "c:\\Users\\Yang\\Documents\\Projects\\funance_blog\\venv\\lib\\site-packages\\statsmodels\\tsa\\statespace\\sarimax.py:978: UserWarning: Non-invertible starting MA parameters found. Using zeros as starting parameters.\n",
      "  warn('Non-invertible starting MA parameters found.'\n"
     ]
    },
    {
     "name": "stdout",
     "output_type": "stream",
     "text": [
      "Tickers selected: ['CBOE', 'LLY', 'STZ', 'NVDA', 'BBY', 'FANG', 'ROL', 'LMT', 'EXR', 'INCY', 'EW', 'O', 'EA', 'AVGO', 'CI', 'UNH', 'META', 'MSI', 'MKTX', 'DPZ', 'CME', 'NFLX', 'NXPI', 'TSN', 'HCA', 'ULTA', 'BSX', 'IDXX', 'CNC', 'SMCI', 'TSLA']\n",
      "Portfolio returns: -2.50%\n",
      "Market returns: -3.64%\n",
      "\n",
      "Optimizing portfolio for 2018-02-28...\n",
      "Tickers selected: ['NEE', 'ALGN', 'NXPI', 'EA', 'WM', 'STLD', 'EXR', 'TSLA', 'HII', 'DRI', 'MKTX', 'DLR', 'TSN', 'HAS', 'CME', 'BR', 'CLX', 'HCA', 'CCI', 'CAG', 'AIZ', 'EW', 'SWKS', 'DPZ', 'MSI', 'ROL', 'NOC', 'BBY', 'CHRW', 'GD', 'EG', 'ENPH', 'ULTA', 'MSFT', 'TTWO', 'CTAS', 'META', 'SMCI', 'T', 'NVDA', 'AVGO', 'CBOE', 'FANG', 'AXON', 'NFLX', 'IDXX', 'STZ', 'DXCM']\n",
      "Portfolio returns: 0.85%\n",
      "Market returns: -2.74%\n",
      "\n",
      "Optimizing portfolio for 2018-03-31...\n",
      "Tickers selected: ['NFLX', 'CBOE', 'NVDA', 'HII', 'WM', 'ELV', 'STLD', 'TSN', 'LUV', 'BR', 'DXCM', 'EQIX', 'HCA', 'LMT', 'FSLR', 'MKTX', 'MSFT', 'SWKS', 'ALGN', 'TMUS', 'HAS', 'IDXX', 'FANG', 'EXR', 'BBY', 'DPZ', 'SMCI', 'FI', 'TSLA', 'NDAQ', 'META', 'EG', 'TDG', 'ENPH', 'MSI', 'GD', 'T', 'ULTA', 'ROL', 'AVGO', 'STZ']\n",
      "Portfolio returns: -1.33%\n",
      "Market returns: 0.52%\n",
      "\n",
      "Optimizing portfolio for 2018-04-30...\n",
      "Tickers selected: ['STZ', 'STLD', 'NVDA', 'NFLX', 'PEG', 'SWKS', 'BR', 'EXR', 'LUV', 'NI', 'NOC', 'ALGN', 'FANG', 'TDG', 'NDAQ', 'TTWO', 'TSN', 'HCA', 'ROL', 'EQIX', 'BBY', 'HII', 'ELV', 'DXCM', 'VLO', 'ENPH', 'ULTA', 'META', 'AVGO', 'EA', 'MKTX', 'CBOE', 'IDXX', 'EW', 'MSFT', 'EG', 'DPZ']\n",
      "Portfolio returns: 2.37%\n",
      "Market returns: 2.43%\n",
      "\n",
      "Optimizing portfolio for 2018-05-31...\n",
      "Tickers selected: ['FI', 'HII', 'NFLX', 'NOC', 'CAG', 'STZ', 'CMS', 'HAS', 'BR', 'DPZ', 'FANG', 'EQIX', 'NVDA', 'ULTA', 'MO', 'EW', 'MKTX', 'LUV', 'META', 'EXR', 'ELV', 'TSN', 'VLO', 'STLD', 'KDP']\n",
      "Portfolio returns: 0.88%\n",
      "Market returns: 0.58%\n",
      "\n",
      "Optimizing portfolio for 2018-06-30...\n",
      "Tickers selected: ['HII', 'STZ', 'ATO', 'HCA', 'ULTA', 'CDW', 'LUV', 'MSFT', 'FANG', 'STLD', 'BBY', 'BR', 'EW', 'NDAQ', 'NVDA', 'TMUS', 'CTAS', 'VLO', 'UNH', 'NFLX', 'EXR', 'TSN', 'ROL', 'AVGO', 'LULU', 'EG', 'TTWO', 'AXON', 'ENPH', 'MKTX', 'NVR', 'DPZ', 'DRI', 'SWKS', 'EQIX', 'META', 'NOC']\n",
      "Portfolio returns: -1.32%\n",
      "Market returns: 3.70%\n",
      "\n",
      "Optimizing portfolio for 2018-07-31...\n",
      "Tickers selected: ['ATO', 'MSCI', 'NVR', 'NVDA', 'OKE', 'EXR', 'VLO', 'AVGO', 'TSN', 'RSG', 'CHRW', 'EQIX', 'META', 'DXCM', 'NFLX', 'TMUS', 'EW', 'CME', 'DPZ', 'ULTA', 'BBY', 'HCA', 'FANG', 'NI', 'STZ', 'LUV', 'EG', 'AXON', 'FI', 'LLY', 'ROL', 'BSX', 'IDXX', 'CDW', 'LULU', 'CBOE', 'ENPH', 'DRI', 'SMCI', 'PEG', 'HII', 'STLD']\n",
      "Portfolio returns: 5.36%\n",
      "Market returns: 3.19%\n",
      "\n",
      "Optimizing portfolio for 2018-08-31...\n",
      "Tickers selected: ['ATO', 'CDW', 'CLX', 'MAA', 'LUV', 'NI', 'STLD', 'VLO', 'LMT', 'ENPH', 'HCA', 'EXR', 'DPZ', 'DRI', 'HRL', 'TDG', 'BBY', 'NDAQ', 'STZ', 'DLR', 'NVR', 'MKTX', 'AVGO', 'CTAS', 'NEM', 'LLY', 'KDP', 'NVDA', 'CHD', 'FANG', 'ROL', 'HII', 'SMCI', 'ULTA', 'NFLX', 'AIZ', 'TTWO', 'IDXX', 'MO', 'CAG', 'LULU', 'CBOE', 'TSN', 'TMUS', 'EA', 'SYY', 'O', 'EQIX', 'BR', 'CHRW']\n",
      "Portfolio returns: -0.76%\n",
      "Market returns: 0.59%\n",
      "\n",
      "Optimizing portfolio for 2018-09-30...\n",
      "Tickers selected: ['HII', 'NFLX', 'DRI', 'EW', 'CTAS', 'UNH', 'BSX', 'LUV', 'AVGO', 'NVR', 'ATO', 'FANG', 'ROL', 'STZ', 'STLD', 'IDXX', 'KDP', 'TTWO', 'ENPH', 'VLO', 'NVDA', 'EXR', 'TSN', 'CPT', 'LULU', 'SMCI', 'POOL', 'AXON', 'DPZ', 'MSI']\n",
      "Portfolio returns: -7.75%\n",
      "Market returns: -6.91%\n",
      "\n",
      "Optimizing portfolio for 2018-10-31...\n",
      "Tickers selected: ['EVRG', 'BRO', 'LUV', 'WM', 'NFLX', 'ROL', 'IQV', 'OKE', 'MO', 'CHD', 'TSN', 'ADP', 'STLD', 'CNC', 'BSX', 'NVDA', 'DRI', 'CPRT', 'AVGO', 'FTNT', 'CI', 'LULU', 'BBY', 'STZ', 'CSX', 'TTWO', 'HCA', 'ENPH', 'IDXX', 'CDW', 'CAG', 'MCD', 'DLR', 'AIZ', 'HUM', 'DECK', 'AXON', 'BR', 'ULTA', 'KDP', 'DXCM', 'FANG', 'LLY', 'CBOE', 'CHRW']\n",
      "Portfolio returns: 1.31%\n",
      "Market returns: 1.85%\n",
      "\n",
      "Optimizing portfolio for 2018-11-30...\n",
      "Tickers selected: ['BA', 'WRB', 'MSFT', 'CTAS', 'STLD', 'ARE', 'CNC', 'FTNT', 'FANG', 'AMT', 'FIS', 'NFLX', 'NVDA', 'LUV', 'COO', 'HCA', 'ZBRA', 'META', 'POOL', 'TTWO', 'HII', 'KDP']\n",
      "Portfolio returns: -9.32%\n",
      "Market returns: -8.80%\n",
      "\n",
      "Optimizing portfolio for 2018-12-31...\n",
      "Tickers selected: ['EW', 'TFX', 'MSI', 'CBOE', 'NVDA', 'EXR', 'O', 'AXON', 'AVGO', 'ATO', 'UAL', 'AMT', 'UDR', 'NFLX', 'HRL', 'NVR', 'CHD', 'FANG', 'BSX', 'LLY', 'IDXX', 'ULTA', 'FI', 'DLR', 'DRI', 'ENPH', 'STZ', 'SWKS', 'MKTX']\n",
      "Portfolio returns: 5.25%\n",
      "Market returns: 8.01%\n",
      "\n",
      "Optimizing portfolio for 2019-01-31...\n",
      "Tickers selected: ['AWK', 'O', 'DRI', 'AVGO', 'RSG', 'ENPH', 'NEM', 'ROL', 'TSN', 'DLR', 'EW', 'CHD', 'DPZ', 'KDP', 'MKTX', 'CLX', 'CME', 'MKC', 'TMUS', 'LULU', 'NI', 'WM', 'HRL', 'EXR']\n",
      "Portfolio returns: 2.81%\n",
      "Market returns: 3.24%\n",
      "\n",
      "Optimizing portfolio for 2019-02-28...\n",
      "Tickers selected: ['AWK', 'O', 'AVGO', 'EW', 'EXR', 'WM', 'MO', 'MKC', 'DRI', 'DLR', 'ENPH', 'NEM', 'TSN', 'HRL', 'KDP', 'CHD', 'CBOE', 'MKTX', 'DPZ', 'CME', 'MCD', 'NI', 'LULU', 'TMUS', 'ROL', 'LLY', 'STZ']\n",
      "Portfolio returns: 3.94%\n",
      "Market returns: 1.81%\n",
      "\n",
      "Optimizing portfolio for 2019-03-31...\n",
      "Tickers selected: ['ENPH', 'CDW', 'AXON', 'O', 'KDP', 'EXR', 'ATO', 'AVGO', 'UNH', 'DLTR', 'PGR', 'DPZ', 'TSLA', 'HRL', 'EW', 'MKC', 'CHD', 'NDAQ', 'PEG', 'BBY', 'CME', 'DRI', 'TMUS', 'LULU', 'LLY', 'FANG', 'ROL', 'MKTX', 'WM']\n",
      "Portfolio returns: 2.12%\n",
      "Market returns: 4.09%\n",
      "\n",
      "Optimizing portfolio for 2019-04-30...\n",
      "Tickers selected: ['ENPH', 'NI', 'ROL', 'O', 'CME', 'NFLX', 'LULU', 'AWK', 'CPRT', 'NEM', 'BBY', 'NVR', 'KDP', 'EW', 'DXCM', 'AVGO', 'MKTX', 'RSG', 'CHD', 'EXR', 'HRL', 'PAYC']\n",
      "Portfolio returns: 1.48%\n",
      "Market returns: -6.38%\n",
      "\n",
      "Optimizing portfolio for 2019-05-31...\n",
      "Tickers selected: ['MSCI', 'BAC', 'ENPH', 'CDNS', 'LULU', 'NVDA', 'AMZN', 'FANG', 'WRB', 'EXR', 'LHX', 'NOW', 'NEE', 'MTCH', 'ADP', 'LDOS', 'AXON', 'AMT', 'MKC', 'NFLX', 'NDAQ', 'PAYC', 'STZ', 'ROST', 'DHR', 'META']\n",
      "Portfolio returns: 4.82%\n",
      "Market returns: 6.96%\n",
      "\n",
      "Optimizing portfolio for 2019-06-30...\n",
      "Tickers selected: ['AWK', 'DPZ', 'KDP', 'UNH', 'TMUS', 'O', 'MTCH', 'CME', 'LLY', 'AMT', 'CHD', 'EXR', 'AXON', 'NDAQ', 'DRI', 'ROL', 'NEM', 'TSN', 'PAYC', 'MKTX', 'RSG', 'ENPH', 'LULU']\n",
      "Portfolio returns: 0.89%\n",
      "Market returns: 1.51%\n",
      "\n",
      "Optimizing portfolio for 2019-07-31...\n",
      "Tickers selected: ['EW', 'AWK', 'TTWO', 'AMT', 'MKTX', 'DXCM', 'NFLX', 'NVR', 'CME', 'DHR', 'EXR', 'PAYC', 'LULU', 'IDXX', 'MKC', 'POOL', 'ENPH']\n",
      "Portfolio returns: 9.12%\n",
      "Market returns: -1.67%\n",
      "\n",
      "Optimizing portfolio for 2019-08-31...\n",
      "Tickers selected: ['NI', 'CME', 'CTAS', 'AWK', 'PAYC', 'CLX', 'WM', 'EXR', 'O', 'FANG', 'MKTX', 'YUM', 'DLTR', 'HRL', 'TMUS', 'CBOE', 'NVR', 'HSY', 'LLY', 'MCD', 'MKC', 'DXCM', 'LULU', 'ENPH', 'DRI', 'PGR', 'BSX', 'SBUX', 'IDXX', 'AIZ', 'AVGO', 'DG', 'ROL', 'MSI', 'BRO', 'TSN', 'POOL', 'SYY', 'TFX', 'KDP', 'PEG', 'AXON', 'MTCH', 'CHD']\n",
      "Portfolio returns: -2.57%\n",
      "Market returns: 1.95%\n",
      "\n",
      "Optimizing portfolio for 2019-09-30...\n",
      "Tickers selected: ['NEE', 'CZR', 'AWK', 'CHD', 'CDW', 'MAA', 'CME', 'AXON', 'O', 'DPZ', 'MTCH', 'DG', 'CINF', 'MSI', 'TMUS', 'KDP', 'EIX', 'NVR', 'LLY', 'DRI', 'HRL', 'PEG', 'EXR', 'ENPH', 'ROL', 'MKTX', 'SYY', 'EG', 'CPRT', 'AIZ', 'NEM', 'LULU', 'POOL', 'HSY', 'MCD', 'MKC']\n",
      "Portfolio returns: 0.72%\n",
      "Market returns: 2.21%\n",
      "\n",
      "Optimizing portfolio for 2019-10-31...\n",
      "Tickers selected: ['NEE', 'CDW', 'TSN', 'MTCH', 'O', 'KDP', 'UNH', 'EXR', 'MAA', 'POOL', 'CPRT', 'CME', 'SYY', 'HSY', 'MSI', 'DPZ', 'HRL', 'MKTX', 'CZR', 'DG', 'NEM', 'RMD', 'LLY', 'CHD', 'NVR', 'TMUS', 'ENPH', 'CINF', 'DLTR', 'NDAQ', 'ROL', 'CBOE', 'DRI', 'LULU', 'MKC']\n",
      "Portfolio returns: 1.64%\n",
      "Market returns: 3.62%\n",
      "\n",
      "Optimizing portfolio for 2019-11-30...\n",
      "Tickers selected: ['AWK', 'DLR', 'MAA', 'O', 'HRL', 'TSN', 'NEE', 'TMUS', 'ROL', 'CME', 'MSI', 'ENPH', 'AXON', 'MKTX', 'SYY', 'CHD', 'CZR', 'LULU', 'RSG', 'AIZ', 'DPZ', 'NVR', 'CPRT', 'DRI', 'MKC', 'NEM', 'MTCH', 'KDP', 'EXR', 'LLY', 'CBOE']\n",
      "Portfolio returns: 1.03%\n",
      "Market returns: 2.91%\n",
      "\n",
      "Optimizing portfolio for 2019-12-31...\n",
      "Tickers selected: ['PAYC', 'CDW', 'O', 'TSN', 'CZR', 'AWK', 'MKC', 'MAA', 'HRL', 'CBOE', 'ENPH', 'KDP', 'DPZ', 'TSLA', 'MSI', 'AXON', 'TMUS', 'LLY', 'AIZ', 'NEM', 'MCD', 'MTCH', 'AMT', 'LULU', 'MKTX', 'DRI', 'RSG', 'CPRT', 'CME', 'ROL', 'EXR', 'CCI', 'NVR']\n",
      "Portfolio returns: 4.53%\n",
      "Market returns: -0.04%\n",
      "\n",
      "Optimizing portfolio for 2020-01-31...\n",
      "Tickers selected: ['NVDA', 'KDP', 'NEE', 'BBY', 'CPRT', 'TMUS', 'TSLA', 'BLDR', 'MKTX', 'CTAS', 'POOL', 'UNH', 'JPM', 'MSI', 'TSN', 'AIZ', 'CZR', 'AMT', 'EQIX', 'ROL', 'O', 'PAYC', 'TFX', 'WM', 'TTWO', 'AKAM', 'DPZ', 'RMD', 'HRL', 'PODD', 'MTCH', 'ENPH']\n",
      "Portfolio returns: -4.73%\n",
      "Market returns: -7.92%\n",
      "\n",
      "Optimizing portfolio for 2020-02-29...\n"
     ]
    },
    {
     "name": "stderr",
     "output_type": "stream",
     "text": [
      "c:\\Users\\Yang\\Documents\\Projects\\funance_blog\\venv\\lib\\site-packages\\statsmodels\\tsa\\statespace\\sarimax.py:978: UserWarning: Non-invertible starting MA parameters found. Using zeros as starting parameters.\n",
      "  warn('Non-invertible starting MA parameters found.'\n"
     ]
    },
    {
     "name": "stdout",
     "output_type": "stream",
     "text": [
      "Tickers selected: ['DXCM', 'NEE', 'PGR', 'O', 'MAA', 'AMT', 'BRO', 'CME', 'DG', 'TDY', 'MTCH', 'IDXX', 'DPZ', 'CZR', 'CDW', 'NEM', 'CTAS', 'TSLA', 'NVR', 'PAYC', 'BLDR', 'PODD', 'NFLX', 'LLY', 'CBOE', 'TMUS', 'EXR', 'ROL', 'NDAQ', 'HSY', 'NVDA', 'ENPH', 'MKC', 'EG', 'RMD', 'EQIX', 'KDP', 'BBY', 'MKTX', 'AIZ']\n",
      "Portfolio returns: -11.42%\n",
      "Market returns: -12.49%\n",
      "\n",
      "Optimizing portfolio for 2020-03-31...\n",
      "Tickers selected: ['NVDA', 'DXCM', 'MTCH', 'NFLX', 'MSI', 'ENPH', 'MKTX', 'TSLA', 'AMD', 'EXR', 'NEE', 'DPZ', 'ROL', 'TMUS', 'AMT', 'TTWO', 'AIZ', 'HRL', 'AXON', 'CLX', 'CBOE', 'MSFT', 'NEM', 'PODD', 'PGR', 'IDXX', 'POOL', 'MKC', 'EQIX', 'DG']\n",
      "Portfolio returns: 10.62%\n",
      "Market returns: 12.70%\n",
      "\n",
      "Optimizing portfolio for 2020-04-30...\n",
      "Tickers selected: ['NEE', 'MOH', 'NVDA', 'PODD', 'LHX', 'POOL', 'PAYC', 'NFLX', 'TTWO', 'DXCM', 'EXR', 'DPZ', 'DG', 'CBOE', 'AMD', 'SBAC', 'EQIX', 'CME', 'TMUS', 'HRL', 'BRO', 'CLX', 'ROL', 'AXON', 'MTCH', 'ENPH', 'MKC', 'LLY', 'ZTS', 'AIZ', 'RMD']\n",
      "Portfolio returns: 8.09%\n",
      "Market returns: 4.76%\n",
      "\n",
      "Optimizing portfolio for 2020-05-31...\n",
      "Tickers selected: ['NEE', 'EW', 'MSCI', 'MKTX', 'CHD', 'HRL', 'MTCH', 'ENPH', 'MOH', 'EQIX', 'TTWO', 'NVDA', 'AXON', 'NEM', 'DXCM', 'GEN', 'LLY', 'MKC', 'CLX', 'DG']\n",
      "Portfolio returns: 2.15%\n",
      "Market returns: 1.77%\n",
      "\n",
      "Optimizing portfolio for 2020-06-30...\n"
     ]
    },
    {
     "name": "stderr",
     "output_type": "stream",
     "text": [
      "c:\\Users\\Yang\\Documents\\Projects\\funance_blog\\venv\\lib\\site-packages\\statsmodels\\tsa\\statespace\\sarimax.py:966: UserWarning: Non-stationary starting autoregressive parameters found. Using zeros as starting parameters.\n",
      "  warn('Non-stationary starting autoregressive parameters'\n",
      "c:\\Users\\Yang\\Documents\\Projects\\funance_blog\\venv\\lib\\site-packages\\statsmodels\\tsa\\statespace\\sarimax.py:978: UserWarning: Non-invertible starting MA parameters found. Using zeros as starting parameters.\n",
      "  warn('Non-invertible starting MA parameters found.'\n"
     ]
    },
    {
     "name": "stdout",
     "output_type": "stream",
     "text": [
      "Tickers selected: ['CBOE', 'CINF', 'CME', 'ENPH']\n",
      "Portfolio returns: 4.66%\n",
      "Market returns: 5.89%\n",
      "\n",
      "Optimizing portfolio for 2020-07-31...\n",
      "Tickers selected: ['SBAC', 'CLX', 'MOH', 'TSLA', 'HRL', 'EQIX', 'DXCM', 'NVDA', 'LLY', 'MKC', 'AXON', 'MKTX', 'CHD', 'ENPH', 'ETSY', 'NEM']\n",
      "Portfolio returns: -0.04%\n",
      "Market returns: 6.98%\n",
      "\n",
      "Optimizing portfolio for 2020-08-31...\n"
     ]
    },
    {
     "name": "stderr",
     "output_type": "stream",
     "text": [
      "c:\\Users\\Yang\\Documents\\Projects\\funance_blog\\venv\\lib\\site-packages\\statsmodels\\tsa\\statespace\\sarimax.py:966: UserWarning: Non-stationary starting autoregressive parameters found. Using zeros as starting parameters.\n",
      "  warn('Non-stationary starting autoregressive parameters'\n",
      "c:\\Users\\Yang\\Documents\\Projects\\funance_blog\\venv\\lib\\site-packages\\statsmodels\\tsa\\statespace\\sarimax.py:978: UserWarning: Non-invertible starting MA parameters found. Using zeros as starting parameters.\n",
      "  warn('Non-invertible starting MA parameters found.'\n"
     ]
    },
    {
     "name": "stdout",
     "output_type": "stream",
     "text": [
      "Tickers selected: ['ATO', 'AIZ', 'AMT', 'LRCX', 'AXON', 'EXR', 'POOL', 'GNRC', 'TMUS', 'RMD', 'DPZ', 'AKAM', 'DG', 'CPRT', 'NEE', 'MKC', 'NVDA', 'AJG', 'ETSY', 'MKTX', 'PG', 'BRO', 'PODD', 'LULU', 'NEM', 'MCD', 'TTWO', 'WMT', 'AMD', 'CBOE', 'ENPH']\n",
      "Portfolio returns: -1.24%\n",
      "Market returns: -3.74%\n",
      "\n",
      "Optimizing portfolio for 2020-09-30...\n",
      "Tickers selected: ['AXON', 'ETSY', 'BALL', 'IDXX', 'NEE', 'ENPH', 'LLY', 'DG', 'LULU', 'DHR', 'EW', 'AMD', 'DECK', 'ADBE', 'CLX', 'NVDA', 'PGR', 'GNRC', 'SBAC', 'DPZ', 'MTCH', 'RMD', 'NEM', 'TSLA']\n",
      "Portfolio returns: -1.27%\n",
      "Market returns: -2.49%\n",
      "\n",
      "Optimizing portfolio for 2020-10-31...\n",
      "Tickers selected: ['DE', 'ENPH', 'NEE', 'MTCH', 'DPZ', 'IDXX', 'GNRC', 'DHR', 'POOL', 'CLX', 'ETSY', 'LLY', 'PODD', 'AMD', 'MPWR', 'LULU', 'DG', 'DLR', 'EXR', 'NVDA', 'MKTX', 'CPRT', 'KDP', 'CHD', 'EQIX']\n",
      "Portfolio returns: 4.36%\n",
      "Market returns: 10.88%\n",
      "\n",
      "Optimizing portfolio for 2020-11-30...\n",
      "Tickers selected: ['AWK', 'WMT', 'CLX', 'SBAC', 'MKTX', 'ES', 'EQIX', 'NEM', 'GNRC', 'PG', 'AXON', 'BALL', 'TMUS', 'DECK', 'ENPH', 'ROL', 'RMD', 'DPZ', 'ETSY', 'PGR', 'IDXX', 'DHR', 'MTCH', 'DG', 'NVDA', 'NEE', 'POOL', 'PODD']\n",
      "Portfolio returns: 2.90%\n",
      "Market returns: 3.70%\n",
      "\n",
      "Optimizing portfolio for 2020-12-31...\n",
      "Tickers selected: ['DECK', 'MKTX', 'NEM', 'DPZ', 'AXON', 'MTCH', 'ENPH', 'ETSY']\n",
      "Portfolio returns: 3.00%\n",
      "Market returns: -1.02%\n",
      "\n",
      "Optimizing portfolio for 2021-01-31...\n",
      "Tickers selected: ['AWK', 'DHR', 'EQIX', 'RMD', 'LRCX', 'CPRT', 'DPZ', 'MLM', 'PGR', 'NEM', 'CLX', 'ENPH', 'ETSY', 'SBAC', 'AXON', 'AKAM', 'CHD', 'NVDA', 'MKTX', 'AJG', 'TMUS', 'CME', 'LLY', 'BALL', 'MTCH', 'NEE', 'ROL', 'NOW', 'PODD', 'GNRC', 'NRG', 'DECK', 'IDXX']\n",
      "Portfolio returns: -2.72%\n",
      "Market returns: 2.78%\n",
      "\n",
      "Optimizing portfolio for 2021-02-28...\n",
      "Tickers selected: ['RF', 'BRO', 'ENPH', 'NEE', 'ETSY', 'DE', 'NOW', 'AMT', 'CME', 'EXR', 'AXON', 'MLM', 'MTCH', 'LRCX', 'DECK', 'HSY', 'RMD', 'AJG', 'BG', 'GNRC']\n",
      "Portfolio returns: 2.17%\n",
      "Market returns: 4.54%\n",
      "\n",
      "Optimizing portfolio for 2021-03-31...\n",
      "Tickers selected: ['LRCX', 'RF', 'AEE', 'EXR', 'DE', 'GNRC', 'MLM', 'AXON', 'MTCH', 'PGR', 'ENPH', 'CINF', 'AKAM', 'BG', 'PODD', 'JPM', 'RMD', 'DECK', 'CME', 'NEE', 'HSY', 'EVRG']\n",
      "Portfolio returns: 3.55%\n",
      "Market returns: 5.29%\n",
      "\n",
      "Optimizing portfolio for 2021-04-30...\n",
      "Tickers selected: ['XEL', 'EQIX', 'NVDA', 'SBAC', 'NEE', 'NFLX', 'EXR', 'AKAM', 'RMD', 'ETSY', 'MKTX', 'ENPH', 'NEM', 'AXON', 'DPZ', 'HSY', 'LLY', 'GNRC', 'ROL', 'TMUS', 'CME', 'MTCH', 'LRCX', 'DECK', 'PGR', 'DE', 'PODD', 'PG', 'BALL', 'KDP', 'DHR', 'CDW', 'MPWR']\n",
      "Portfolio returns: -0.40%\n",
      "Market returns: 0.66%\n",
      "\n",
      "Optimizing portfolio for 2021-05-31...\n",
      "Tickers selected: ['DE', 'HSY', 'LRCX', 'CME', 'DHR', 'AEE', 'MKTX', 'GEN', 'NEE', 'TMUS', 'ENPH', 'ODFL', 'AMT', 'EXR', 'PODD', 'MTCH', 'CINF', 'KDP', 'LNT', 'GNRC', 'AKAM', 'PGR', 'LLY', 'AXON', 'ETSY', 'DECK', 'RMD', 'NEM', 'DPZ']\n",
      "Portfolio returns: 5.58%\n",
      "Market returns: 2.24%\n",
      "\n",
      "Optimizing portfolio for 2021-06-30...\n",
      "Tickers selected: ['DE', 'SBAC', 'LRCX', 'EXR', 'TER', 'GEN', 'ETSY', 'MKTX', 'TMUS', 'NEM', 'PGR', 'KDP', 'GNRC', 'PG', 'AXON', 'CME', 'DHR', 'DPZ', 'RMD', 'DECK', 'MTCH', 'ODFL', 'AKAM', 'LLY', 'NFLX', 'PODD', 'ZTS', 'HSY', 'NEE', 'MSFT', 'AWK', 'ENPH']\n",
      "Portfolio returns: 4.03%\n",
      "Market returns: 2.44%\n",
      "\n",
      "Optimizing portfolio for 2021-07-31...\n",
      "Tickers selected: ['AEE', 'SBAC', 'KDP', 'DPZ', 'DE', 'DECK', 'LRCX', 'IDXX', 'EXR', 'NEE', 'MKTX', 'PGR', 'LLY', 'TER', 'NFLX', 'ETSY', 'ENPH', 'PODD', 'GNRC', 'MPWR', 'AXON', 'AKAM', 'RMD', 'CME', 'ODFL', 'TMUS', 'MTCH', 'GEN']\n",
      "Portfolio returns: 2.86%\n",
      "Market returns: 2.98%\n",
      "\n",
      "Optimizing portfolio for 2021-08-31...\n",
      "Tickers selected: ['NOW', 'AEE', 'DE', 'MLM', 'NFLX', 'DG', 'LRCX', 'SBAC', 'ES', 'MKTX', 'EXR', 'NEE', 'DPZ', 'POOL', 'ETSY', 'AXON', 'LLY', 'ENPH', 'PODD', 'ODFL', 'RMD', 'TMUS', 'DECK', 'PGR', 'AKAM', 'ZTS', 'MTCH', 'GNRC', 'REGN', 'MPWR', 'HSY', 'KDP', 'NEM']\n",
      "Portfolio returns: -7.09%\n",
      "Market returns: -4.66%\n",
      "\n",
      "Optimizing portfolio for 2021-09-30...\n",
      "Tickers selected: ['DECK', 'HSY', 'AEE', 'PWR', 'NOW', 'LRCX', 'NFLX', 'MOH', 'AJG', 'EXR', 'MKTX', 'SBAC', 'TMUS', 'AKAM', 'DPZ', 'PGR', 'LLY', 'ODFL', 'DXCM', 'NEE', 'RMD', 'GNRC', 'PG', 'ETSY', 'ENPH', 'AXON', 'MPWR', 'MTCH']\n",
      "Portfolio returns: 8.94%\n",
      "Market returns: 7.02%\n",
      "\n",
      "Optimizing portfolio for 2021-10-31...\n",
      "Tickers selected: ['HSY', 'SBAC', 'MSCI', 'LRCX', 'AJG', 'RMD', 'AEE', 'EXR', 'KDP', 'FTNT', 'MKTX', 'LLY', 'WMT', 'ETSY', 'NEE', 'PG', 'AXON', 'GNRC', 'PGR', 'REGN', 'ENPH', 'DXCM', 'DPZ', 'MTCH', 'PODD', 'DECK', 'MOH', 'NEM']\n",
      "Portfolio returns: -1.76%\n",
      "Market returns: -0.80%\n",
      "\n",
      "Optimizing portfolio for 2021-11-30...\n",
      "Tickers selected: ['AJG', 'ETSY', 'TSLA', 'NEE', 'HSY', 'DECK', 'FTNT', 'MTCH', 'NVDA', 'MKTX', 'LLY', 'PG', 'DXCM', 'EXR', 'ZTS', 'MOH', 'GNRC', 'ENPH', 'CHD']\n",
      "Portfolio returns: 6.36%\n",
      "Market returns: 4.62%\n",
      "\n",
      "Optimizing portfolio for 2021-12-31...\n",
      "Tickers selected: ['LRCX', 'CHD', 'DPZ', 'FE', 'AJG', 'RMD', 'SBAC', 'PGR', 'MKTX', 'AXON', 'XEL', 'NEM', 'MOH', 'EXR', 'LLY', 'GNRC', 'LNT', 'CME', 'MTCH', 'ENPH', 'DXCM', 'NEE', 'PG', 'COST', 'DG', 'PODD', 'CNC', 'ETSY', 'DECK', 'HSY', 'MPWR', 'KDP', 'FTNT', 'TMO', 'DLR']\n",
      "Portfolio returns: -10.80%\n",
      "Market returns: -5.27%\n",
      "\n",
      "Optimizing portfolio for 2022-01-31...\n",
      "Tickers selected: ['XEL', 'DG', 'REGN', 'CHD', 'PODD', 'SBAC', 'EXR', 'ES', 'FE', 'COST', 'BALL', 'PGR', 'MOH', 'SJM', 'HSY', 'HRL', 'ENPH', 'RMD', 'MTCH', 'LLY', 'PG', 'KDP', 'MCD', 'ATO', 'VRTX']\n",
      "Portfolio returns: -1.69%\n",
      "Market returns: -2.95%\n",
      "\n",
      "Optimizing portfolio for 2022-02-28...\n",
      "Tickers selected: ['BALL', 'EXC', 'DE', 'REGN', 'CF', 'LRCX', 'EXR', 'RMD', 'CHD', 'PGR', 'SBAC', 'DECK', 'CNC', 'AXON', 'CME', 'ENPH', 'CINF', 'KDP', 'LLY', 'GNRC', 'MPWR', 'NEE', 'MTCH', 'FTNT', 'MOH', 'STE', 'ABBV']\n",
      "Portfolio returns: 5.34%\n",
      "Market returns: 3.76%\n",
      "\n",
      "Optimizing portfolio for 2022-03-31...\n",
      "Tickers selected: ['KDP', 'EXC', 'REGN', 'ABBV', 'CHD', 'AEE', 'SBAC', 'RMD', 'FE', 'WEC', 'PGR', 'NEE', 'EXR', 'MKC', 'DECK', 'LLY', 'PG', 'ENPH', 'MPWR', 'MOH', 'GNRC', 'MTCH', 'CNC', 'NEM', 'DE', 'CF', 'COST', 'HSY', 'FTNT', 'KR']\n",
      "Portfolio returns: -6.17%\n",
      "Market returns: -8.78%\n",
      "\n",
      "Optimizing portfolio for 2022-04-30...\n",
      "Tickers selected: ['EXC', 'MTCH', 'TGT', 'AJG', 'MOH', 'HRL', 'SBAC', 'EXR', 'PGR', 'PG', 'NEM', 'MKC', 'WMT', 'FE', 'FTNT', 'HSY', 'RMD', 'KDP', 'CME', 'REGN', 'MRK', 'LLY', 'DECK', 'CF', 'BG', 'ENPH']\n",
      "Portfolio returns: -2.04%\n",
      "Market returns: 0.23%\n",
      "\n",
      "Optimizing portfolio for 2022-05-31...\n"
     ]
    },
    {
     "name": "stderr",
     "output_type": "stream",
     "text": [
      "c:\\Users\\Yang\\Documents\\Projects\\funance_blog\\venv\\lib\\site-packages\\statsmodels\\tsa\\statespace\\sarimax.py:966: UserWarning: Non-stationary starting autoregressive parameters found. Using zeros as starting parameters.\n",
      "  warn('Non-stationary starting autoregressive parameters'\n",
      "c:\\Users\\Yang\\Documents\\Projects\\funance_blog\\venv\\lib\\site-packages\\statsmodels\\tsa\\statespace\\sarimax.py:978: UserWarning: Non-invertible starting MA parameters found. Using zeros as starting parameters.\n",
      "  warn('Non-invertible starting MA parameters found.'\n"
     ]
    },
    {
     "name": "stdout",
     "output_type": "stream",
     "text": [
      "Tickers selected: ['NI', 'ETR', 'HSY', 'EXR', 'FE', 'NEM', 'WRB', 'PGR', 'DUK', 'LLY', 'EQT', 'CME', 'CINF', 'EXC', 'CF', 'BG', 'MRK', 'ENPH']\n",
      "Portfolio returns: -5.90%\n",
      "Market returns: -8.25%\n",
      "\n",
      "Optimizing portfolio for 2022-06-30...\n",
      "Tickers selected: ['KDP', 'EXC', 'AZO', 'MTCH', 'GNRC', 'FTNT', 'HSY', 'AJG', 'SBAC', 'EXR', 'PGR', 'AXON', 'CF', 'TMUS', 'LLY', 'DECK', 'DLTR', 'CNC', 'RMD', 'CME', 'ENPH', 'MOH']\n",
      "Portfolio returns: 9.11%\n",
      "Market returns: 9.21%\n",
      "\n",
      "Optimizing portfolio for 2022-07-31...\n",
      "Tickers selected: ['MOH', 'CNC', 'AXON', 'DG', 'PGR', 'ENPH', 'CF', 'AZO', 'RMD', 'CME', 'AJG', 'LLY', 'KR', 'EXC', 'EXR', 'FTNT', 'DECK', 'TMUS', 'MTCH', 'KDP', 'GNRC', 'WRB', 'LW', 'NEE']\n",
      "Portfolio returns: -1.97%\n",
      "Market returns: -4.08%\n",
      "\n",
      "Optimizing portfolio for 2022-08-31...\n",
      "Tickers selected: ['ENPH', 'LLY', 'KR', 'RMD', 'MOH', 'AJG', 'MCK', 'TMUS', 'HRL', 'AZO', 'HSY', 'PGR', 'EXR', 'SO', 'CF', 'AXON', 'KDP', 'NEE', 'DECK', 'EXC']\n",
      "Portfolio returns: -3.36%\n",
      "Market returns: -9.24%\n",
      "\n",
      "Optimizing portfolio for 2022-09-30...\n",
      "Tickers selected: ['WEC', 'GIS', 'AZO', 'EXR', 'MCK', 'RMD', 'HRL', 'AJG', 'MRK', 'DECK', 'PGR', 'KDP', 'LLY', 'REGN', 'ENPH', 'DG', 'LW', 'SJM', 'WRB', 'AXON', 'NEM', 'MOH', 'HSY', 'FTNT', 'KR']\n",
      "Portfolio returns: 9.95%\n",
      "Market returns: 8.13%\n",
      "\n",
      "Optimizing portfolio for 2022-10-31...\n",
      "Tickers selected: ['AZO', 'WRB', 'REGN', 'KR', 'MOH', 'CTRA', 'ENPH', 'MCK', 'EXR', 'AXON', 'PODD', 'RMD', 'KDP', 'PGR', 'VRTX', 'DECK', 'LLY', 'MRK', 'TMUS', 'DXCM', 'HSY', 'GIS', 'HRL', 'FTNT']\n",
      "Portfolio returns: 2.50%\n",
      "Market returns: 5.56%\n",
      "\n",
      "Optimizing portfolio for 2022-11-30...\n",
      "Tickers selected: ['WEC', 'WRB', 'REGN', 'COR', 'PGR', 'PG', 'LLY', 'GIS', 'DG', 'VRTX', 'AXON', 'RMD', 'KR', 'ENPH', 'AZO', 'MCK', 'MRK', 'CHD', 'NEM', 'HSY', 'HRL', 'KDP']\n",
      "Portfolio returns: -3.05%\n",
      "Market returns: -5.76%\n",
      "\n",
      "Optimizing portfolio for 2022-12-31...\n",
      "Tickers selected: ['SO', 'HES', 'LLY', 'DECK', 'HSY', 'NEM', 'ACGL', 'AZO', 'SJM', 'MCK', 'EXC', 'FE', 'PGR', 'AXON', 'LW', 'CINF', 'ENPH', 'MRK']\n",
      "Portfolio returns: -0.57%\n",
      "Market returns: 6.29%\n",
      "\n",
      "Optimizing portfolio for 2023-01-31...\n",
      "Tickers selected: ['TMUS', 'WRB', 'REGN', 'MCK', 'HES', 'PGR', 'AXON', 'AZO', 'PODD', 'DECK', 'CTRA', 'HSY', 'DXCM', 'MRK', 'LLY', 'RMD', 'ETSY', 'ENPH', 'FTNT', 'MOH']\n",
      "Portfolio returns: -2.83%\n",
      "Market returns: -2.51%\n",
      "\n",
      "Optimizing portfolio for 2023-02-28...\n",
      "Tickers selected: ['TMUS', 'PWR', 'HSY', 'ENPH', 'REGN', 'RMD', 'DG', 'GIS', 'MOH', 'AZO', 'FTNT', 'DECK', 'PG', 'MCK', 'DXCM', 'LLY', 'PGR', 'AXON', 'MRK', 'SMCI']\n",
      "Portfolio returns: 4.77%\n",
      "Market returns: 3.71%\n",
      "\n",
      "Optimizing portfolio for 2023-03-31...\n",
      "Tickers selected: ['HSY', 'SO', 'CDNS', 'AZO', 'REGN', 'KR', 'GIS', 'NEM', 'MRK', 'VRTX', 'LLY', 'PG', 'MCK', 'HRL', 'PGR', 'CHD', 'ENPH']\n",
      "Portfolio returns: 5.12%\n",
      "Market returns: 1.60%\n",
      "\n",
      "Optimizing portfolio for 2023-04-30...\n",
      "Tickers selected: ['CDNS', 'PGR', 'PG', 'MOH', 'PWR', 'REGN', 'GIS', 'LLY', 'AZO', 'VRTX', 'HSY', 'MCK', 'MRK', 'ENPH', 'SMCI', 'FTNT']\n",
      "Portfolio returns: -2.94%\n",
      "Market returns: 0.46%\n",
      "\n",
      "Optimizing portfolio for 2023-05-31...\n",
      "Tickers selected: ['MOH', 'GIS', 'CTRA', 'TMUS', 'PWR', 'ENPH', 'BIIB', 'HSY', 'CDNS', 'LLY', 'FTNT', 'TSLA', 'AZO', 'AXON', 'REGN', 'RMD', 'DECK', 'SMCI', 'MCK', 'MRK']\n",
      "Portfolio returns: 1.98%\n",
      "Market returns: 6.48%\n",
      "\n",
      "Optimizing portfolio for 2023-06-30...\n",
      "Tickers selected: ['AZO', 'PWR', 'FTNT', 'CDNS', 'AXON', 'PGR', 'DECK', 'SMCI', 'LW', 'RMD', 'AJG', 'GIS', 'LLY', 'HSY', 'MCK', 'DG', 'ENPH', 'REGN', 'TSLA', 'MRK']\n",
      "Portfolio returns: -2.34%\n",
      "Market returns: 3.27%\n",
      "\n",
      "Optimizing portfolio for 2023-07-31...\n"
     ]
    },
    {
     "name": "stderr",
     "output_type": "stream",
     "text": [
      "c:\\Users\\Yang\\Documents\\Projects\\funance_blog\\venv\\lib\\site-packages\\statsmodels\\tsa\\statespace\\sarimax.py:966: UserWarning: Non-stationary starting autoregressive parameters found. Using zeros as starting parameters.\n",
      "  warn('Non-stationary starting autoregressive parameters'\n"
     ]
    },
    {
     "name": "stdout",
     "output_type": "stream",
     "text": [
      "Tickers selected: ['ENPH', 'LLY', 'MRK', 'HSY', 'PWR', 'AZO', 'MCK', 'FTNT', 'MOH', 'SMCI', 'TSLA', 'DXCM']\n",
      "Portfolio returns: 2.04%\n",
      "Market returns: -1.63%\n",
      "\n",
      "Optimizing portfolio for 2023-08-31...\n"
     ]
    },
    {
     "name": "stderr",
     "output_type": "stream",
     "text": [
      "c:\\Users\\Yang\\Documents\\Projects\\funance_blog\\venv\\lib\\site-packages\\statsmodels\\tsa\\statespace\\sarimax.py:966: UserWarning: Non-stationary starting autoregressive parameters found. Using zeros as starting parameters.\n",
      "  warn('Non-stationary starting autoregressive parameters'\n",
      "c:\\Users\\Yang\\Documents\\Projects\\funance_blog\\venv\\lib\\site-packages\\statsmodels\\tsa\\statespace\\sarimax.py:978: UserWarning: Non-invertible starting MA parameters found. Using zeros as starting parameters.\n",
      "  warn('Non-invertible starting MA parameters found.'\n"
     ]
    },
    {
     "name": "stdout",
     "output_type": "stream",
     "text": [
      "Tickers selected: ['PG', 'AVGO', 'AJG', 'SO', 'GIS', 'REGN', 'AZO', 'MRK', 'PWR', 'HSY', 'CDNS', 'LLY', 'VRTX', 'CHD', 'SMCI', 'ENPH', 'SJM', 'MCK', 'PGR']\n",
      "Portfolio returns: -4.58%\n",
      "Market returns: -4.74%\n",
      "\n",
      "Optimizing portfolio for 2023-09-30...\n",
      "Tickers selected: ['AJG', 'GIS', 'NEM', 'LLY', 'ENPH', 'PWR', 'PGR', 'MCK', 'REGN', 'PG', 'AZO', 'CDNS', 'HSY', 'TSLA', 'MRK', 'SMCI', 'DECK']\n",
      "Portfolio returns: -0.38%\n",
      "Market returns: -2.17%\n",
      "\n",
      "Optimizing portfolio for 2023-10-31...\n",
      "Tickers selected: ['ACGL', 'AZO', 'SO', 'DECK', 'PGR', 'PG', 'MCK', 'SMCI', 'FICO', 'ANET', 'ENPH', 'LLY', 'NVDA', 'MOH']\n",
      "Portfolio returns: 6.43%\n",
      "Market returns: 9.13%\n",
      "\n",
      "Optimizing portfolio for 2023-11-30...\n",
      "Tickers selected: ['ENPH', 'ACGL', 'REGN', 'MCK', 'PWR', 'NVDA', 'AZO', 'ABBV', 'AXON', 'MOH', 'AJG', 'GIS', 'SMCI', 'HSY', 'CDNS', 'LLY', 'VRTX', 'PGR', 'CTRA', 'DECK', 'NOC', 'EQT']\n",
      "Portfolio returns: 1.26%\n",
      "Market returns: 4.57%\n",
      "\n",
      "Optimizing portfolio for 2023-12-31...\n",
      "Tickers selected: ['TMUS', 'CI', 'CF', 'ENPH', 'REGN', 'MCK', 'AXON', 'MRNA', 'LLY', 'MOH', 'PWR', 'SMCI', 'DECK']\n",
      "Portfolio returns: 6.76%\n",
      "Market returns: 1.59%\n",
      "\n",
      "Optimizing portfolio for 2024-01-31...\n",
      "Tickers selected: ['HSY', 'ED', 'ACGL', 'CDNS', 'CAG', 'COR', 'FICO', 'ANET', 'SMCI', 'AZO', 'GILD', 'VRTX', 'NVDA', 'SNPS', 'DECK', 'ABBV', 'PG', 'PGR', 'KR', 'REGN', 'MCK', 'MOH', 'MRK']\n",
      "Portfolio returns: 6.90%\n",
      "Market returns: 5.22%\n",
      "\n",
      "Optimizing portfolio for 2024-02-29...\n",
      "Tickers selected: ['MCK', 'NVDA', 'AXON', 'PWR', 'TMUS', 'ACGL', 'CI', 'SMCI', 'GIS', 'MRNA', 'EQT', 'LLY', 'DECK', 'REGN', 'VRTX', 'COR', 'MOH', 'AZO', 'ENPH']\n",
      "Portfolio returns: 4.31%\n",
      "Market returns: 3.27%\n",
      "\n",
      "Optimizing portfolio for 2024-03-31...\n",
      "Tickers selected: ['PWR', 'ENPH', 'AXON', 'SMCI', 'NOC', 'NVDA', 'EQT', 'DECK', 'MCK', 'BLDR', 'LLY', 'MOH']\n",
      "Portfolio returns: -2.79%\n",
      "Market returns: -4.03%\n",
      "\n",
      "Optimizing portfolio for 2024-04-30...\n",
      "Tickers selected: ['KR', 'EQT', 'MRNA', 'GIS', 'MCK', 'NVDA', 'ACGL', 'LLY', 'REGN', 'TMUS', 'VRTX', 'SMCI', 'COR', 'AXON', 'ENPH', 'ABBV', 'CI', 'PWR', 'PGR', 'CTRA']\n",
      "Portfolio returns: 3.29%\n",
      "Market returns: 5.06%\n",
      "\n",
      "Optimizing portfolio for 2024-05-31...\n",
      "Tickers selected: ['IRM', 'DECK', 'AXON', 'SMCI', 'ENPH', 'ANET', 'REGN', 'SO', 'PWR', 'MRNA', 'MPWR', 'ETN', 'FTNT']\n",
      "Portfolio returns: -0.68%\n",
      "Market returns: 3.53%\n",
      "\n",
      "Optimizing portfolio for 2024-06-30...\n",
      "Tickers selected: ['KR', 'ACGL', 'SMCI', 'EQT', 'MPWR', 'CI', 'CRWD', 'PWR', 'REGN', 'PGR', 'MRNA', 'MCK', 'ABBV', 'NVDA', 'KLAC', 'DECK', 'AXON', 'VRTX']\n",
      "Portfolio returns: 2.15%\n",
      "Market returns: 1.21%\n",
      "\n"
     ]
    }
   ],
   "source": [
    "# backtest strategy\n",
    "start_date = datetime.strptime(DATA_START, '%Y-%m-%d')\n",
    "end_date = datetime.strptime(DATA_END, '%Y-%m-%d')\n",
    "backtest_start_date = start_date + relativedelta(years=5) # offset by 5 years\n",
    "test_dates = pd.date_range(backtest_start_date, end_date, freq='ME')\n",
    "\n",
    "portfolio_returns = np.array([])\n",
    "market_returns = np.array([])\n",
    "portfolios = []\n",
    "\n",
    "for date in test_dates:\n",
    "    print(f'Optimizing portfolio for {date.strftime(\"%Y-%m-%d\")}...')\n",
    "\n",
    "    train_start = (date - relativedelta(years=5)).strftime('%Y-%m-%d')\n",
    "    train_end = date.strftime('%Y-%m-%d')\n",
    "\n",
    "    historical_returns = returns_df[train_start:train_end]\n",
    "\n",
    "    # portfolio allocation\n",
    "    portfolio = pca_fa(historical_returns, factors_df, 1, 0.8)\n",
    "\n",
    "    # holding period\n",
    "    buy_date = date + relativedelta(days=1)\n",
    "    sell_date = buy_date + relativedelta(months=1) - relativedelta(days=1)\n",
    "    \n",
    "    selected_stocks = list(portfolio.keys())\n",
    "    portfolios.append(selected_stocks)\n",
    "    \n",
    "    print(f'Tickers selected: {selected_stocks}')\n",
    "    \n",
    "    # calculate actual returns\n",
    "    weights = list(portfolio.values())\n",
    "    stock_returns = daily_to_monthly(returns_df[selected_stocks][buy_date:sell_date])\n",
    "\n",
    "    portfolio_returns = np.append(\n",
    "        portfolio_returns,\n",
    "        100*np.dot(stock_returns, weights)\n",
    "    )\n",
    "\n",
    "    # calculate market returns\n",
    "    market_returns = np.append(\n",
    "        market_returns,\n",
    "        100*daily_to_monthly(market_returns_df[buy_date:sell_date]).iloc[0]\n",
    "    )\n",
    "    \n",
    "    print(f'Portfolio returns: {portfolio_returns[-1]:.2f}%')\n",
    "    print(f'Market returns: {market_returns[-1]:.2f}%')\n",
    "    print()"
   ]
  },
  {
   "cell_type": "code",
   "execution_count": 23,
   "metadata": {},
   "outputs": [],
   "source": [
    "excess_returns = portfolio_returns - market_returns\n",
    "excess_mean = excess_returns.mean()\n",
    "mean = portfolio_returns.mean()"
   ]
  },
  {
   "cell_type": "code",
   "execution_count": 27,
   "metadata": {},
   "outputs": [
    {
     "name": "stderr",
     "output_type": "stream",
     "text": [
      "C:\\Users\\Yang\\AppData\\Local\\Temp\\ipykernel_33116\\2445194299.py:14: UserWarning: FigureCanvasAgg is non-interactive, and thus cannot be shown\n",
      "  fig.show()\n"
     ]
    },
    {
     "data": {
      "image/png": "[encoded data removed]",
      "text/plain": [
       "<Figure size 1000x500 with 2 Axes>"
      ]
     },
     "metadata": {},
     "output_type": "display_data"
    }
   ],
   "source": [
    "fig, ax = plt.subplots(1, 2, figsize=(10, 5))\n",
    "\n",
    "ax[0].hist(portfolio_returns, bins=50)\n",
    "ax[0].axvline(mean, color='red', linestyle='dashed', linewidth=1, label=f'Mean: {mean:.2f}%')\n",
    "ax[0].legend()\n",
    "ax[0].set_title('Monthly Portfolio Returns')\n",
    "\n",
    "ax[1].hist(excess_returns, bins=50)\n",
    "ax[1].axvline(excess_mean, color='red', linestyle='dashed', label=f'Mean: {excess_mean:.2f}%')\n",
    "ax[1].legend()\n",
    "ax[1].set_title('Monthly Excess Returns over Market')\n",
    "\n",
    "fig.tight_layout()\n",
    "fig.show()"
   ]
  },
  {
   "cell_type": "code",
   "execution_count": 8,
   "metadata": {},
   "outputs": [],
   "source": [
    "annualized_return = ((1+mean/100)**12 - 1) * 100"
   ]
  },
  {
   "cell_type": "code",
   "execution_count": 9,
   "metadata": {},
   "outputs": [],
   "source": [
    "# initial investment\n",
    "initial_investment = 100000\n",
    "market_value = initial_investment * np.cumprod(1 + market_returns/100)[-1]\n",
    "portfolio_value = initial_investment * np.cumprod(1 + portfolio_returns/100)[-1]\n",
    "\n",
    "average_market_return = gmean(1 + market_returns/100) - 1\n",
    "average_portfolio_return = gmean(1 + portfolio_returns/100) - 1\n",
    "\n",
    "annual_market_return = ((1+average_market_return)**12 - 1) * 100\n",
    "annual_portfolio_return = ((1+average_portfolio_return)**12 - 1) * 100"
   ]
  },
  {
   "cell_type": "code",
   "execution_count": 10,
   "metadata": {},
   "outputs": [
    {
     "name": "stdout",
     "output_type": "stream",
     "text": [
      "investment value of holding index fund: $577652.81\n",
      "growth: 577.65%\n",
      "annualized return: 7.42%\n",
      "\n",
      "investment value of using Investment Strategy: $2192893.94\n",
      "growth: 2192.89%\n",
      "annualized return: 13.43%\n"
     ]
    }
   ],
   "source": [
    "print(f'investment value of holding index fund: ${market_value:.2f}')\n",
    "print(f'growth: {100*market_value/initial_investment:.2f}%')\n",
    "print(f'annualized return: {annual_market_return:.2f}%')\n",
    "print()\n",
    "\n",
    "print(f'investment value of using Investment Strategy: ${portfolio_value:.2f}')\n",
    "print(f'growth: {100*portfolio_value/initial_investment:.2f}%')\n",
    "print(f'annualized return: {annual_portfolio_return:.2f}%')"
   ]
  },
  {
   "cell_type": "code",
   "execution_count": 33,
   "metadata": {},
   "outputs": [
    {
     "data": {
      "image/png": "[encoded data removed]",
      "text/plain": [
       "<Figure size 1000x500 with 1 Axes>"
      ]
     },
     "metadata": {},
     "output_type": "display_data"
    }
   ],
   "source": [
    "# plot cumulative returns\n",
    "plt.figure(figsize=(10, 5))\n",
    "plt.plot(test_dates[1:], 100*np.cumprod(1 + portfolio_returns/100), label='Portfolio Growth')\n",
    "plt.plot(test_dates[1:], 100*np.cumprod(1 + market_returns/100), label='S&P 500 Growth')\n",
    "plt.xlabel('Date')\n",
    "plt.xlabel('Cumulative Growth (%)')\n",
    "plt.title('Cumulative Growth of Constructed Portfolio and S&P 500 Index')\n",
    "plt.legend()\n",
    "plt.grid()\n",
    "plt.show()"
   ]
  },
  {
   "cell_type": "code",
   "execution_count": null,
   "metadata": {},
   "outputs": [],
   "source": [
    "# test whether starting point matters for returns\n",
    "# ie check variance of monthly returns"
   ]
  }
 ],
 "metadata": {
  "kernelspec": {
   "display_name": "venv",
   "language": "python",
   "name": "python3"
  },
  "language_info": {
   "codemirror_mode": {
    "name": "ipython",
    "version": 3
   },
   "file_extension": ".py",
   "mimetype": "text/x-python",
   "name": "python",
   "nbconvert_exporter": "python",
   "pygments_lexer": "ipython3",
   "version": "3.10.11"
  }
 },
 "nbformat": 4,
 "nbformat_minor": 2
}
