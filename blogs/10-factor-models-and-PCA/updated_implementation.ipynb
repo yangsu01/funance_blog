{
 "cells": [
  {
   "cell_type": "code",
   "execution_count": 1,
   "metadata": {},
   "outputs": [],
   "source": [
    "import sys\n",
    "import os\n",
    "import importlib\n",
    "import numpy as np\n",
    "import pandas as pd\n",
    "from dateutil.relativedelta import relativedelta\n",
    "from datetime import datetime\n",
    "from matplotlib import pyplot as plt\n",
    "import warnings\n",
    "from statsmodels.tools.sm_exceptions import ConvergenceWarning\n",
    "from scipy.stats import gmean\n",
    "\n",
    "warnings.filterwarnings(\"ignore\", category=ConvergenceWarning)\n",
    "\n",
    "# add utils path\n",
    "src_path = os.path.abspath('../../')\n",
    "if src_path not in sys.path:\n",
    "    sys.path.append(src_path)\n",
    "\n",
    "# import custom functions\n",
    "from src.backtest import Backtest\n",
    "from src.strategies import PCA_FA\n",
    "from src.utils import get_price_history, get_tickers\n",
    "from src.utils import daily_to_monthly\n",
    "\n",
    "# reload module on change\n",
    "# importlib.reload(sys.modules['src.backtest', 'src.strategies', 'src.utils']) "
   ]
  },
  {
   "cell_type": "code",
   "execution_count": 6,
   "metadata": {},
   "outputs": [
    {
     "name": "stderr",
     "output_type": "stream",
     "text": [
      "[*********************100%%**********************]  30 of 30 completed\n",
      "\n",
      "1 Failed download:\n",
      "['DOW']: Exception(\"%ticker%: Data doesn't exist for startDate = 946702800, endDate = 1293771600\")\n"
     ]
    }
   ],
   "source": [
    "# get data\n",
    "DATA_START = '2000-01-01'\n",
    "DATA_END = '2010-12-31'\n",
    "\n",
    "factors_df = pd.read_csv('../../src/data/fama_french_momentum_daily.csv')\n",
    "factors_df['Date'] = pd.to_datetime(factors_df['Date'])\n",
    "factors_df.set_index('Date', inplace=True)\n",
    "factors_df = factors_df / 100 # convert to decimals\n",
    "\n",
    "tickers = get_tickers('dow30')\n",
    "prices = get_price_history(tickers, DATA_START, DATA_END)"
   ]
  },
  {
   "cell_type": "code",
   "execution_count": 11,
   "metadata": {},
   "outputs": [],
   "source": [
    "prices = prices.drop(columns=['DOW'])"
   ]
  },
  {
   "cell_type": "code",
   "execution_count": 12,
   "metadata": {},
   "outputs": [],
   "source": [
    "pca_fa = PCA_FA(factors_df)\n",
    "backtester = Backtest(pca_fa, prices, 'MS', 5, 'years')"
   ]
  },
  {
   "cell_type": "code",
   "execution_count": 13,
   "metadata": {},
   "outputs": [
    {
     "name": "stdout",
     "output_type": "stream",
     "text": [
      "Running backtest...\n"
     ]
    }
   ],
   "source": [
    "backtester.run_backtest()"
   ]
  },
  {
   "cell_type": "code",
   "execution_count": null,
   "metadata": {},
   "outputs": [],
   "source": []
  }
 ],
 "metadata": {
  "kernelspec": {
   "display_name": "venv",
   "language": "python",
   "name": "python3"
  },
  "language_info": {
   "codemirror_mode": {
    "name": "ipython",
    "version": 3
   },
   "file_extension": ".py",
   "mimetype": "text/x-python",
   "name": "python",
   "nbconvert_exporter": "python",
   "pygments_lexer": "ipython3",
   "version": "3.10.11"
  }
 },
 "nbformat": 4,
 "nbformat_minor": 2
}
