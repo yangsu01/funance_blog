{
 "cells": [
  {
   "cell_type": "code",
   "execution_count": 1,
   "metadata": {},
   "outputs": [],
   "source": [
    "import sys\n",
    "import os\n",
    "import pandas as pd\n",
    "import warnings\n",
    "from statsmodels.tools.sm_exceptions import ConvergenceWarning\n",
    "\n",
    "warnings.filterwarnings(\"ignore\", category=ConvergenceWarning)\n",
    "\n",
    "# add utils path\n",
    "src_path = os.path.abspath('../../')\n",
    "if src_path not in sys.path:\n",
    "    sys.path.append(src_path)\n",
    "\n",
    "# import custom functions\n",
    "from src.backtest import Backtest\n",
    "from src.strategies import PCA_FA\n",
    "from src.utils import get_price_history, get_tickers"
   ]
  },
  {
   "cell_type": "code",
   "execution_count": 2,
   "metadata": {},
   "outputs": [
    {
     "name": "stderr",
     "output_type": "stream",
     "text": [
      "[*********************100%%**********************]  30 of 30 completed\n",
      "\n",
      "1 Failed download:\n",
      "['DOW']: Exception(\"%ticker%: Data doesn't exist for startDate = 1104555600, endDate = 1293771600\")\n"
     ]
    }
   ],
   "source": [
    "# get data\n",
    "DATA_START = '2005-01-01'\n",
    "DATA_END = '2010-12-31'\n",
    "\n",
    "factors_df = pd.read_csv('../../src/data/fama_french_momentum_daily.csv')\n",
    "factors_df['Date'] = pd.to_datetime(factors_df['Date'])\n",
    "factors_df.set_index('Date', inplace=True)\n",
    "factors_df = factors_df / 100 # convert to decimals\n",
    "\n",
    "tickers = get_tickers('dow30')\n",
    "prices = get_price_history(tickers, DATA_START, DATA_END)"
   ]
  },
  {
   "cell_type": "code",
   "execution_count": 3,
   "metadata": {},
   "outputs": [],
   "source": [
    "prices = prices.drop(columns=['DOW'])"
   ]
  },
  {
   "cell_type": "code",
   "execution_count": 4,
   "metadata": {},
   "outputs": [],
   "source": [
    "pca_fa = PCA_FA(factors_df)\n",
    "backtester = Backtest(pca_fa, prices, 'MS', 5, 'years')"
   ]
  },
  {
   "cell_type": "code",
   "execution_count": 5,
   "metadata": {},
   "outputs": [
    {
     "name": "stdout",
     "output_type": "stream",
     "text": [
      "Running backtest...\n",
      "Test 1/10 complete\n",
      "Test 2/10 complete\n",
      "Test 3/10 complete\n",
      "Test 4/10 complete\n",
      "Test 5/10 complete\n",
      "Test 6/10 complete\n"
     ]
    },
    {
     "name": "stderr",
     "output_type": "stream",
     "text": [
      "c:\\Users\\Yang\\Documents\\Projects\\funance_blog\\venv\\lib\\site-packages\\statsmodels\\tsa\\statespace\\sarimax.py:966: UserWarning: Non-stationary starting autoregressive parameters found. Using zeros as starting parameters.\n",
      "  warn('Non-stationary starting autoregressive parameters'\n"
     ]
    },
    {
     "name": "stdout",
     "output_type": "stream",
     "text": [
      "Test 7/10 complete\n",
      "Test 8/10 complete\n"
     ]
    },
    {
     "name": "stderr",
     "output_type": "stream",
     "text": [
      "c:\\Users\\Yang\\Documents\\Projects\\funance_blog\\venv\\lib\\site-packages\\statsmodels\\tsa\\statespace\\sarimax.py:966: UserWarning: Non-stationary starting autoregressive parameters found. Using zeros as starting parameters.\n",
      "  warn('Non-stationary starting autoregressive parameters'\n",
      "c:\\Users\\Yang\\Documents\\Projects\\funance_blog\\venv\\lib\\site-packages\\statsmodels\\tsa\\statespace\\sarimax.py:978: UserWarning: Non-invertible starting MA parameters found. Using zeros as starting parameters.\n",
      "  warn('Non-invertible starting MA parameters found.'\n"
     ]
    },
    {
     "name": "stdout",
     "output_type": "stream",
     "text": [
      "Test 9/10 complete\n",
      "Test 10/10 complete\n"
     ]
    }
   ],
   "source": [
    "backtester.run_backtest()"
   ]
  },
  {
   "cell_type": "code",
   "execution_count": 6,
   "metadata": {},
   "outputs": [
    {
     "name": "stderr",
     "output_type": "stream",
     "text": [
      "[*********************100%%**********************]  1 of 1 completed\n"
     ]
    }
   ],
   "source": [
    "r_f = get_price_history(['^TNX'], '2005-01-01', DATA_END) / 100"
   ]
  },
  {
   "cell_type": "code",
   "execution_count": 7,
   "metadata": {},
   "outputs": [
    {
     "data": {
      "text/plain": [
       "Date\n",
       "2005-01-03    0.04220\n",
       "2005-01-04    0.04283\n",
       "2005-01-05    0.04277\n",
       "2005-01-06    0.04272\n",
       "2005-01-07    0.04285\n",
       "               ...   \n",
       "2010-12-23    0.03393\n",
       "2010-12-27    0.03351\n",
       "2010-12-28    0.03481\n",
       "2010-12-29    0.03341\n",
       "2010-12-30    0.03369\n",
       "Name: Adj Close, Length: 1506, dtype: float64"
      ]
     },
     "execution_count": 7,
     "metadata": {},
     "output_type": "execute_result"
    }
   ],
   "source": [
    "r_f"
   ]
  },
  {
   "cell_type": "code",
   "execution_count": 8,
   "metadata": {},
   "outputs": [
    {
     "data": {
      "text/plain": [
       "{'total_portfolio_value': -4.852747832458285e-11,\n",
       " 'total_returns': -1.0000000000000049,\n",
       " 'average_returns': 0.01823804092303205,\n",
       " 'annual_returns': 0.24220083445978569,\n",
       " 'annual_std': 0.19686207710103648,\n",
       " 'sharpe_ratio': 1.0289343763473158,\n",
       " 'portfolio_history': [10000,\n",
       "  103.73088397291117,\n",
       "  6.055265408067209,\n",
       "  0.6418273207052609,\n",
       "  -0.0735748804462784,\n",
       "  0.0019488817680917794,\n",
       "  8.822732228719016e-05,\n",
       "  4.124960516531127e-06,\n",
       "  -3.084086631634636e-08,\n",
       "  -1.0158540318198411e-09,\n",
       "  -4.852747832458285e-11],\n",
       " 'returns_history': [0.010373088397291117,\n",
       "  0.058374759533028876,\n",
       "  0.10599491144519906,\n",
       "  -0.11463345057582139,\n",
       "  -0.026488412298743446,\n",
       "  0.04527074126901845,\n",
       "  0.04675377660339619,\n",
       "  -0.007476645217026682,\n",
       "  0.0329385699286085,\n",
       "  0.04777012917657944]}"
      ]
     },
     "execution_count": 8,
     "metadata": {},
     "output_type": "execute_result"
    }
   ],
   "source": [
    "backtester.calculate_performance(r_f)"
   ]
  },
  {
   "cell_type": "code",
   "execution_count": null,
   "metadata": {},
   "outputs": [],
   "source": []
  }
 ],
 "metadata": {
  "kernelspec": {
   "display_name": "venv",
   "language": "python",
   "name": "python3"
  },
  "language_info": {
   "codemirror_mode": {
    "name": "ipython",
    "version": 3
   },
   "file_extension": ".py",
   "mimetype": "text/x-python",
   "name": "python",
   "nbconvert_exporter": "python",
   "pygments_lexer": "ipython3",
   "version": "3.10.11"
  }
 },
 "nbformat": 4,
 "nbformat_minor": 2
}
